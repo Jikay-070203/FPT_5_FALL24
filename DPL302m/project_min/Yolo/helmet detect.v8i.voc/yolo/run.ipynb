{
 "cells": [
  {
   "cell_type": "code",
   "execution_count": null,
   "id": "ddfec34a-d173-4606-8dd6-a7193c1e6426",
   "metadata": {},
   "outputs": [
    {
     "ename": "",
     "evalue": "",
     "output_type": "error",
     "traceback": [
      "\u001b[1;31mThe kernel failed to start as a dll could not be loaded.\n",
      "\u001b[1;31mClick <a href='https://aka.ms/kernelFailuresDllLoad'>here</a> for more info."
     ]
    }
   ],
   "source": [
    "%pip install -n yolocompare python=3.9 -y"
   ]
  },
  {
   "cell_type": "code",
   "execution_count": null,
   "id": "5e1551bf",
   "metadata": {},
   "outputs": [],
   "source": [
    "%pip install torch --upgrade"
   ]
  },
  {
   "cell_type": "code",
   "execution_count": null,
   "id": "43c5411c-f2a0-48df-8dfe-beaf55d933bd",
   "metadata": {},
   "outputs": [],
   "source": [
    "!yolo train model=yolov10.pt data=data.yaml epochs=30"
   ]
  },
  {
   "cell_type": "code",
   "execution_count": null,
   "id": "42aaa9b6-d60e-41bb-830d-290771c1ecc3",
   "metadata": {},
   "outputs": [],
   "source": [
    "!yolo train model=yolov9.pt data=data.yaml epochs=30"
   ]
  },
  {
   "cell_type": "code",
   "execution_count": null,
   "id": "6ea6e193-ba5e-4fa6-a8c1-803b400049c9",
   "metadata": {},
   "outputs": [],
   "source": [
    "!yolo train model=yolov8.pt data=data.yaml epochs=30"
   ]
  },
  {
   "cell_type": "code",
   "execution_count": null,
   "id": "4f80d108-7a55-4667-9e8c-e595ff1ada79",
   "metadata": {},
   "outputs": [],
   "source": [
    "!yolo train model=yolov7.pt data=data.yaml epochs=30"
   ]
  }
 ],
 "metadata": {
  "kernelspec": {
   "display_name": "Python 3",
   "language": "python",
   "name": "python3"
  },
  "language_info": {
   "codemirror_mode": {
    "name": "ipython",
    "version": 3
   },
   "file_extension": ".py",
   "mimetype": "text/x-python",
   "name": "python",
   "nbconvert_exporter": "python",
   "pygments_lexer": "ipython3",
   "version": "3.12.3"
  }
 },
 "nbformat": 4,
 "nbformat_minor": 5
}
