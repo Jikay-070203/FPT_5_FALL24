{
 "cells": [
  {
   "cell_type": "code",
   "execution_count": 2,
   "metadata": {},
   "outputs": [
    {
     "name": "stdout",
     "output_type": "stream",
     "text": [
      "Collecting tensorflow\n",
      "  Downloading tensorflow-2.18.0-cp39-cp39-win_amd64.whl.metadata (3.3 kB)\n",
      "Collecting tensorflow-intel==2.18.0 (from tensorflow)\n",
      "  Downloading tensorflow_intel-2.18.0-cp39-cp39-win_amd64.whl.metadata (4.9 kB)\n",
      "Collecting absl-py>=1.0.0 (from tensorflow-intel==2.18.0->tensorflow)\n",
      "  Using cached absl_py-2.1.0-py3-none-any.whl.metadata (2.3 kB)\n",
      "Collecting astunparse>=1.6.0 (from tensorflow-intel==2.18.0->tensorflow)\n",
      "  Using cached astunparse-1.6.3-py2.py3-none-any.whl.metadata (4.4 kB)\n",
      "Collecting flatbuffers>=24.3.25 (from tensorflow-intel==2.18.0->tensorflow)\n",
      "  Using cached flatbuffers-24.3.25-py2.py3-none-any.whl.metadata (850 bytes)\n",
      "Collecting gast!=0.5.0,!=0.5.1,!=0.5.2,>=0.2.1 (from tensorflow-intel==2.18.0->tensorflow)\n",
      "  Using cached gast-0.6.0-py3-none-any.whl.metadata (1.3 kB)\n",
      "Collecting google-pasta>=0.1.1 (from tensorflow-intel==2.18.0->tensorflow)\n",
      "  Using cached google_pasta-0.2.0-py3-none-any.whl.metadata (814 bytes)\n",
      "Collecting libclang>=13.0.0 (from tensorflow-intel==2.18.0->tensorflow)\n",
      "  Using cached libclang-18.1.1-py2.py3-none-win_amd64.whl.metadata (5.3 kB)\n",
      "Collecting opt-einsum>=2.3.2 (from tensorflow-intel==2.18.0->tensorflow)\n",
      "  Downloading opt_einsum-3.4.0-py3-none-any.whl.metadata (6.3 kB)\n",
      "Requirement already satisfied: packaging in d:\\fpt\\kihoc\\fall2024\\dpl302m\\project_min\\transfomer\\.venv\\lib\\site-packages (from tensorflow-intel==2.18.0->tensorflow) (24.1)\n",
      "Collecting protobuf!=4.21.0,!=4.21.1,!=4.21.2,!=4.21.3,!=4.21.4,!=4.21.5,<6.0.0dev,>=3.20.3 (from tensorflow-intel==2.18.0->tensorflow)\n",
      "  Using cached protobuf-5.28.3-cp39-cp39-win_amd64.whl.metadata (592 bytes)\n",
      "Requirement already satisfied: requests<3,>=2.21.0 in d:\\fpt\\kihoc\\fall2024\\dpl302m\\project_min\\transfomer\\.venv\\lib\\site-packages (from tensorflow-intel==2.18.0->tensorflow) (2.32.3)\n",
      "Requirement already satisfied: setuptools in d:\\fpt\\kihoc\\fall2024\\dpl302m\\project_min\\transfomer\\.venv\\lib\\site-packages (from tensorflow-intel==2.18.0->tensorflow) (58.1.0)\n",
      "Requirement already satisfied: six>=1.12.0 in d:\\fpt\\kihoc\\fall2024\\dpl302m\\project_min\\transfomer\\.venv\\lib\\site-packages (from tensorflow-intel==2.18.0->tensorflow) (1.16.0)\n",
      "Collecting termcolor>=1.1.0 (from tensorflow-intel==2.18.0->tensorflow)\n",
      "  Downloading termcolor-2.5.0-py3-none-any.whl.metadata (6.1 kB)\n",
      "Requirement already satisfied: typing-extensions>=3.6.6 in d:\\fpt\\kihoc\\fall2024\\dpl302m\\project_min\\transfomer\\.venv\\lib\\site-packages (from tensorflow-intel==2.18.0->tensorflow) (4.12.2)\n",
      "Collecting wrapt>=1.11.0 (from tensorflow-intel==2.18.0->tensorflow)\n",
      "  Using cached wrapt-1.16.0-cp39-cp39-win_amd64.whl.metadata (6.8 kB)\n",
      "Collecting grpcio<2.0,>=1.24.3 (from tensorflow-intel==2.18.0->tensorflow)\n",
      "  Using cached grpcio-1.67.0-cp39-cp39-win_amd64.whl.metadata (4.0 kB)\n",
      "Collecting tensorboard<2.19,>=2.18 (from tensorflow-intel==2.18.0->tensorflow)\n",
      "  Using cached tensorboard-2.18.0-py3-none-any.whl.metadata (1.6 kB)\n",
      "Collecting keras>=3.5.0 (from tensorflow-intel==2.18.0->tensorflow)\n",
      "  Downloading keras-3.6.0-py3-none-any.whl.metadata (5.8 kB)\n",
      "Requirement already satisfied: numpy<2.1.0,>=1.26.0 in d:\\fpt\\kihoc\\fall2024\\dpl302m\\project_min\\transfomer\\.venv\\lib\\site-packages (from tensorflow-intel==2.18.0->tensorflow) (2.0.2)\n",
      "Collecting h5py>=3.11.0 (from tensorflow-intel==2.18.0->tensorflow)\n",
      "  Downloading h5py-3.12.1-cp39-cp39-win_amd64.whl.metadata (2.5 kB)\n",
      "Collecting ml-dtypes<0.5.0,>=0.4.0 (from tensorflow-intel==2.18.0->tensorflow)\n",
      "  Downloading ml_dtypes-0.4.1-cp39-cp39-win_amd64.whl.metadata (20 kB)\n",
      "Collecting tensorflow-io-gcs-filesystem>=0.23.1 (from tensorflow-intel==2.18.0->tensorflow)\n",
      "  Downloading tensorflow_io_gcs_filesystem-0.31.0-cp39-cp39-win_amd64.whl.metadata (14 kB)\n",
      "Collecting wheel<1.0,>=0.23.0 (from astunparse>=1.6.0->tensorflow-intel==2.18.0->tensorflow)\n",
      "  Using cached wheel-0.44.0-py3-none-any.whl.metadata (2.3 kB)\n",
      "Collecting rich (from keras>=3.5.0->tensorflow-intel==2.18.0->tensorflow)\n",
      "  Using cached rich-13.9.3-py3-none-any.whl.metadata (18 kB)\n",
      "Collecting namex (from keras>=3.5.0->tensorflow-intel==2.18.0->tensorflow)\n",
      "  Using cached namex-0.0.8-py3-none-any.whl.metadata (246 bytes)\n",
      "Collecting optree (from keras>=3.5.0->tensorflow-intel==2.18.0->tensorflow)\n",
      "  Downloading optree-0.13.0-cp39-cp39-win_amd64.whl.metadata (48 kB)\n",
      "Requirement already satisfied: charset-normalizer<4,>=2 in d:\\fpt\\kihoc\\fall2024\\dpl302m\\project_min\\transfomer\\.venv\\lib\\site-packages (from requests<3,>=2.21.0->tensorflow-intel==2.18.0->tensorflow) (3.4.0)\n",
      "Requirement already satisfied: idna<4,>=2.5 in d:\\fpt\\kihoc\\fall2024\\dpl302m\\project_min\\transfomer\\.venv\\lib\\site-packages (from requests<3,>=2.21.0->tensorflow-intel==2.18.0->tensorflow) (3.10)\n",
      "Requirement already satisfied: urllib3<3,>=1.21.1 in d:\\fpt\\kihoc\\fall2024\\dpl302m\\project_min\\transfomer\\.venv\\lib\\site-packages (from requests<3,>=2.21.0->tensorflow-intel==2.18.0->tensorflow) (2.2.3)\n",
      "Requirement already satisfied: certifi>=2017.4.17 in d:\\fpt\\kihoc\\fall2024\\dpl302m\\project_min\\transfomer\\.venv\\lib\\site-packages (from requests<3,>=2.21.0->tensorflow-intel==2.18.0->tensorflow) (2024.8.30)\n",
      "Collecting markdown>=2.6.8 (from tensorboard<2.19,>=2.18->tensorflow-intel==2.18.0->tensorflow)\n",
      "  Using cached Markdown-3.7-py3-none-any.whl.metadata (7.0 kB)\n",
      "Collecting tensorboard-data-server<0.8.0,>=0.7.0 (from tensorboard<2.19,>=2.18->tensorflow-intel==2.18.0->tensorflow)\n",
      "  Using cached tensorboard_data_server-0.7.2-py3-none-any.whl.metadata (1.1 kB)\n",
      "Collecting werkzeug>=1.0.1 (from tensorboard<2.19,>=2.18->tensorflow-intel==2.18.0->tensorflow)\n",
      "  Using cached werkzeug-3.0.6-py3-none-any.whl.metadata (3.7 kB)\n",
      "Requirement already satisfied: importlib-metadata>=4.4 in d:\\fpt\\kihoc\\fall2024\\dpl302m\\project_min\\transfomer\\.venv\\lib\\site-packages (from markdown>=2.6.8->tensorboard<2.19,>=2.18->tensorflow-intel==2.18.0->tensorflow) (8.5.0)\n",
      "Requirement already satisfied: MarkupSafe>=2.1.1 in d:\\fpt\\kihoc\\fall2024\\dpl302m\\project_min\\transfomer\\.venv\\lib\\site-packages (from werkzeug>=1.0.1->tensorboard<2.19,>=2.18->tensorflow-intel==2.18.0->tensorflow) (3.0.2)\n",
      "Collecting markdown-it-py>=2.2.0 (from rich->keras>=3.5.0->tensorflow-intel==2.18.0->tensorflow)\n",
      "  Using cached markdown_it_py-3.0.0-py3-none-any.whl.metadata (6.9 kB)\n",
      "Requirement already satisfied: pygments<3.0.0,>=2.13.0 in d:\\fpt\\kihoc\\fall2024\\dpl302m\\project_min\\transfomer\\.venv\\lib\\site-packages (from rich->keras>=3.5.0->tensorflow-intel==2.18.0->tensorflow) (2.18.0)\n",
      "Requirement already satisfied: zipp>=3.20 in d:\\fpt\\kihoc\\fall2024\\dpl302m\\project_min\\transfomer\\.venv\\lib\\site-packages (from importlib-metadata>=4.4->markdown>=2.6.8->tensorboard<2.19,>=2.18->tensorflow-intel==2.18.0->tensorflow) (3.20.2)\n",
      "Collecting mdurl~=0.1 (from markdown-it-py>=2.2.0->rich->keras>=3.5.0->tensorflow-intel==2.18.0->tensorflow)\n",
      "  Using cached mdurl-0.1.2-py3-none-any.whl.metadata (1.6 kB)\n",
      "Downloading tensorflow-2.18.0-cp39-cp39-win_amd64.whl (7.5 kB)\n",
      "Downloading tensorflow_intel-2.18.0-cp39-cp39-win_amd64.whl (390.0 MB)\n",
      "   ---------------------------------------- 0.0/390.0 MB ? eta -:--:--\n",
      "   ---------------------------------------- 0.8/390.0 MB 6.7 MB/s eta 0:00:58\n",
      "   ---------------------------------------- 3.9/390.0 MB 13.1 MB/s eta 0:00:30\n",
      "    --------------------------------------- 7.6/390.0 MB 14.7 MB/s eta 0:00:27\n",
      "   - -------------------------------------- 11.0/390.0 MB 15.3 MB/s eta 0:00:25\n",
      "   - -------------------------------------- 14.7/390.0 MB 15.6 MB/s eta 0:00:25\n",
      "   - -------------------------------------- 17.6/390.0 MB 15.6 MB/s eta 0:00:24\n",
      "   -- ------------------------------------- 21.0/390.0 MB 15.4 MB/s eta 0:00:24\n",
      "   -- ------------------------------------- 24.4/390.0 MB 15.6 MB/s eta 0:00:24\n",
      "   -- ------------------------------------- 28.0/390.0 MB 15.9 MB/s eta 0:00:23\n",
      "   --- ------------------------------------ 31.5/390.0 MB 16.0 MB/s eta 0:00:23\n",
      "   --- ------------------------------------ 34.3/390.0 MB 15.7 MB/s eta 0:00:23\n",
      "   --- ------------------------------------ 37.7/390.0 MB 15.8 MB/s eta 0:00:23\n",
      "   ---- ----------------------------------- 41.2/390.0 MB 15.9 MB/s eta 0:00:22\n",
      "   ---- ----------------------------------- 44.0/390.0 MB 15.7 MB/s eta 0:00:23\n",
      "   ---- ----------------------------------- 47.4/390.0 MB 15.7 MB/s eta 0:00:22\n",
      "   ----- ---------------------------------- 49.0/390.0 MB 15.7 MB/s eta 0:00:22\n",
      "   ----- ---------------------------------- 53.2/390.0 MB 15.5 MB/s eta 0:00:22\n",
      "   ----- ---------------------------------- 56.4/390.0 MB 15.4 MB/s eta 0:00:22\n",
      "   ------ --------------------------------- 59.5/390.0 MB 15.4 MB/s eta 0:00:22\n",
      "   ------ --------------------------------- 61.9/390.0 MB 15.1 MB/s eta 0:00:22\n",
      "   ------ --------------------------------- 65.3/390.0 MB 15.2 MB/s eta 0:00:22\n",
      "   ------ --------------------------------- 68.2/390.0 MB 15.1 MB/s eta 0:00:22\n",
      "   ------- -------------------------------- 71.0/390.0 MB 15.0 MB/s eta 0:00:22\n",
      "   ------- -------------------------------- 73.7/390.0 MB 15.0 MB/s eta 0:00:22\n",
      "   ------- -------------------------------- 76.8/390.0 MB 14.9 MB/s eta 0:00:21\n",
      "   -------- ------------------------------- 79.7/390.0 MB 14.9 MB/s eta 0:00:21\n",
      "   -------- ------------------------------- 83.1/390.0 MB 15.0 MB/s eta 0:00:21\n",
      "   -------- ------------------------------- 86.5/390.0 MB 15.0 MB/s eta 0:00:21\n",
      "   --------- ------------------------------ 88.6/390.0 MB 14.8 MB/s eta 0:00:21\n",
      "   --------- ------------------------------ 91.8/390.0 MB 14.8 MB/s eta 0:00:21\n",
      "   --------- ------------------------------ 95.4/390.0 MB 14.9 MB/s eta 0:00:20\n",
      "   ---------- ----------------------------- 98.0/390.0 MB 14.8 MB/s eta 0:00:20\n",
      "   ---------- ---------------------------- 101.4/390.0 MB 14.8 MB/s eta 0:00:20\n",
      "   ---------- ---------------------------- 103.8/390.0 MB 14.7 MB/s eta 0:00:20\n",
      "   ---------- ---------------------------- 107.2/390.0 MB 14.8 MB/s eta 0:00:20\n",
      "   ---------- ---------------------------- 109.8/390.0 MB 14.7 MB/s eta 0:00:20\n",
      "   ----------- --------------------------- 113.5/390.0 MB 14.8 MB/s eta 0:00:19\n",
      "   ----------- --------------------------- 116.4/390.0 MB 14.8 MB/s eta 0:00:19\n",
      "   ----------- --------------------------- 119.8/390.0 MB 14.8 MB/s eta 0:00:19\n",
      "   ------------ -------------------------- 123.5/390.0 MB 14.9 MB/s eta 0:00:18\n",
      "   ------------ -------------------------- 126.1/390.0 MB 14.8 MB/s eta 0:00:18\n",
      "   ------------ -------------------------- 129.5/390.0 MB 14.8 MB/s eta 0:00:18\n",
      "   ------------- ------------------------- 132.9/390.0 MB 14.8 MB/s eta 0:00:18\n",
      "   ------------- ------------------------- 135.8/390.0 MB 14.8 MB/s eta 0:00:18\n",
      "   ------------- ------------------------- 139.2/390.0 MB 14.8 MB/s eta 0:00:17\n",
      "   -------------- ------------------------ 142.6/390.0 MB 14.8 MB/s eta 0:00:17\n",
      "   -------------- ------------------------ 145.8/390.0 MB 14.8 MB/s eta 0:00:17\n",
      "   -------------- ------------------------ 149.2/390.0 MB 14.9 MB/s eta 0:00:17\n",
      "   --------------- ----------------------- 152.3/390.0 MB 14.9 MB/s eta 0:00:16\n",
      "   --------------- ----------------------- 155.7/390.0 MB 14.9 MB/s eta 0:00:16\n",
      "   --------------- ----------------------- 159.4/390.0 MB 14.9 MB/s eta 0:00:16\n",
      "   ---------------- ---------------------- 162.8/390.0 MB 14.9 MB/s eta 0:00:16\n",
      "   ---------------- ---------------------- 166.2/390.0 MB 15.0 MB/s eta 0:00:15\n",
      "   ---------------- ---------------------- 169.6/390.0 MB 14.9 MB/s eta 0:00:15\n",
      "   ----------------- --------------------- 173.0/390.0 MB 15.0 MB/s eta 0:00:15\n",
      "   ----------------- --------------------- 176.2/390.0 MB 15.0 MB/s eta 0:00:15\n",
      "   ----------------- --------------------- 179.0/390.0 MB 15.0 MB/s eta 0:00:15\n",
      "   ------------------ -------------------- 182.2/390.0 MB 14.9 MB/s eta 0:00:14\n",
      "   ------------------ -------------------- 185.6/390.0 MB 15.0 MB/s eta 0:00:14\n",
      "   ------------------ -------------------- 189.0/390.0 MB 15.0 MB/s eta 0:00:14\n",
      "   ------------------- ------------------- 192.2/390.0 MB 15.0 MB/s eta 0:00:14\n",
      "   ------------------- ------------------- 195.0/390.0 MB 15.0 MB/s eta 0:00:14\n",
      "   ------------------- ------------------- 197.9/390.0 MB 15.0 MB/s eta 0:00:13\n",
      "   -------------------- ------------------ 201.1/390.0 MB 14.9 MB/s eta 0:00:13\n",
      "   -------------------- ------------------ 203.9/390.0 MB 14.9 MB/s eta 0:00:13\n",
      "   -------------------- ------------------ 207.1/390.0 MB 14.9 MB/s eta 0:00:13\n",
      "   --------------------- ----------------- 210.5/390.0 MB 14.9 MB/s eta 0:00:13\n",
      "   --------------------- ----------------- 214.4/390.0 MB 15.0 MB/s eta 0:00:12\n",
      "   --------------------- ----------------- 217.3/390.0 MB 15.0 MB/s eta 0:00:12\n",
      "   ---------------------- ---------------- 220.5/390.0 MB 15.0 MB/s eta 0:00:12\n",
      "   ---------------------- ---------------- 223.1/390.0 MB 14.9 MB/s eta 0:00:12\n",
      "   ---------------------- ---------------- 226.5/390.0 MB 14.9 MB/s eta 0:00:11\n",
      "   ---------------------- ---------------- 229.9/390.0 MB 14.9 MB/s eta 0:00:11\n",
      "   ----------------------- --------------- 232.8/390.0 MB 14.9 MB/s eta 0:00:11\n",
      "   ----------------------- --------------- 236.2/390.0 MB 14.9 MB/s eta 0:00:11\n",
      "   ----------------------- --------------- 239.6/390.0 MB 14.9 MB/s eta 0:00:11\n",
      "   ------------------------ -------------- 243.5/390.0 MB 15.0 MB/s eta 0:00:10\n",
      "   ------------------------ -------------- 246.9/390.0 MB 15.0 MB/s eta 0:00:10\n",
      "   ------------------------ -------------- 249.8/390.0 MB 15.0 MB/s eta 0:00:10\n",
      "   ------------------------- ------------- 253.5/390.0 MB 15.0 MB/s eta 0:00:10\n",
      "   ------------------------- ------------- 257.4/390.0 MB 15.0 MB/s eta 0:00:09\n",
      "   ------------------------- ------------- 259.5/390.0 MB 15.0 MB/s eta 0:00:09\n",
      "   -------------------------- ------------ 263.2/390.0 MB 15.1 MB/s eta 0:00:09\n",
      "   -------------------------- ------------ 266.3/390.0 MB 15.1 MB/s eta 0:00:09\n",
      "   -------------------------- ------------ 269.0/390.0 MB 15.0 MB/s eta 0:00:09\n",
      "   --------------------------- ----------- 272.6/390.0 MB 15.0 MB/s eta 0:00:08\n",
      "   --------------------------- ----------- 275.8/390.0 MB 15.0 MB/s eta 0:00:08\n",
      "   --------------------------- ----------- 278.7/390.0 MB 15.0 MB/s eta 0:00:08\n",
      "   ---------------------------- ---------- 282.3/390.0 MB 15.0 MB/s eta 0:00:08\n",
      "   ---------------------------- ---------- 285.5/390.0 MB 15.0 MB/s eta 0:00:07\n",
      "   ---------------------------- ---------- 289.1/390.0 MB 15.0 MB/s eta 0:00:07\n",
      "   ----------------------------- --------- 292.3/390.0 MB 14.9 MB/s eta 0:00:07\n",
      "   ----------------------------- --------- 295.7/390.0 MB 14.9 MB/s eta 0:00:07\n",
      "   ----------------------------- --------- 298.8/390.0 MB 14.9 MB/s eta 0:00:07\n",
      "   ------------------------------ -------- 302.3/390.0 MB 14.9 MB/s eta 0:00:06\n",
      "   ------------------------------ -------- 305.1/390.0 MB 14.9 MB/s eta 0:00:06\n",
      "   ------------------------------ -------- 308.5/390.0 MB 14.9 MB/s eta 0:00:06\n",
      "   ------------------------------- ------- 312.2/390.0 MB 15.0 MB/s eta 0:00:06\n",
      "   ------------------------------- ------- 314.8/390.0 MB 14.9 MB/s eta 0:00:06\n",
      "   ------------------------------- ------- 318.5/390.0 MB 15.0 MB/s eta 0:00:05\n",
      "   -------------------------------- ------ 322.2/390.0 MB 15.0 MB/s eta 0:00:05\n",
      "   -------------------------------- ------ 325.8/390.0 MB 15.1 MB/s eta 0:00:05\n",
      "   -------------------------------- ------ 329.8/390.0 MB 15.1 MB/s eta 0:00:04\n",
      "   --------------------------------- ----- 333.2/390.0 MB 15.2 MB/s eta 0:00:04\n",
      "   --------------------------------- ----- 336.9/390.0 MB 15.2 MB/s eta 0:00:04\n",
      "   ---------------------------------- ---- 340.5/390.0 MB 15.2 MB/s eta 0:00:04\n",
      "   ---------------------------------- ---- 344.2/390.0 MB 15.3 MB/s eta 0:00:04\n",
      "   ---------------------------------- ---- 347.9/390.0 MB 15.3 MB/s eta 0:00:03\n",
      "   ----------------------------------- --- 351.3/390.0 MB 15.4 MB/s eta 0:00:03\n",
      "   ----------------------------------- --- 354.7/390.0 MB 15.3 MB/s eta 0:00:03\n",
      "   ----------------------------------- --- 358.1/390.0 MB 15.4 MB/s eta 0:00:03\n",
      "   ------------------------------------ -- 362.0/390.0 MB 15.4 MB/s eta 0:00:02\n",
      "   ------------------------------------ -- 365.7/390.0 MB 15.5 MB/s eta 0:00:02\n",
      "   ------------------------------------ -- 369.6/390.0 MB 15.5 MB/s eta 0:00:02\n",
      "   ------------------------------------- - 372.5/390.0 MB 15.5 MB/s eta 0:00:02\n",
      "   ------------------------------------- - 376.4/390.0 MB 15.5 MB/s eta 0:00:01\n",
      "   ------------------------------------- - 379.8/390.0 MB 15.5 MB/s eta 0:00:01\n",
      "   --------------------------------------  383.8/390.0 MB 15.6 MB/s eta 0:00:01\n",
      "   --------------------------------------  387.7/390.0 MB 15.6 MB/s eta 0:00:01\n",
      "   --------------------------------------  389.8/390.0 MB 15.6 MB/s eta 0:00:01\n",
      "   --------------------------------------  389.8/390.0 MB 15.6 MB/s eta 0:00:01\n",
      "   --------------------------------------  389.8/390.0 MB 15.6 MB/s eta 0:00:01\n",
      "   --------------------------------------- 390.0/390.0 MB 15.1 MB/s eta 0:00:00\n",
      "Using cached absl_py-2.1.0-py3-none-any.whl (133 kB)\n",
      "Using cached astunparse-1.6.3-py2.py3-none-any.whl (12 kB)\n",
      "Using cached flatbuffers-24.3.25-py2.py3-none-any.whl (26 kB)\n",
      "Using cached gast-0.6.0-py3-none-any.whl (21 kB)\n",
      "Using cached google_pasta-0.2.0-py3-none-any.whl (57 kB)\n",
      "Using cached grpcio-1.67.0-cp39-cp39-win_amd64.whl (4.4 MB)\n",
      "Downloading h5py-3.12.1-cp39-cp39-win_amd64.whl (3.0 MB)\n",
      "   ---------------------------------------- 0.0/3.0 MB ? eta -:--:--\n",
      "   ---------------------------------------- 3.0/3.0 MB 14.6 MB/s eta 0:00:00\n",
      "Downloading keras-3.6.0-py3-none-any.whl (1.2 MB)\n",
      "   ---------------------------------------- 0.0/1.2 MB ? eta -:--:--\n",
      "   ---------------------------------------- 1.2/1.2 MB 11.9 MB/s eta 0:00:00\n",
      "Using cached libclang-18.1.1-py2.py3-none-win_amd64.whl (26.4 MB)\n",
      "Downloading ml_dtypes-0.4.1-cp39-cp39-win_amd64.whl (126 kB)\n",
      "Downloading opt_einsum-3.4.0-py3-none-any.whl (71 kB)\n",
      "Downloading protobuf-5.28.3-cp39-cp39-win_amd64.whl (431 kB)\n",
      "Using cached tensorboard-2.18.0-py3-none-any.whl (5.5 MB)\n",
      "Downloading tensorflow_io_gcs_filesystem-0.31.0-cp39-cp39-win_amd64.whl (1.5 MB)\n",
      "   ---------------------------------------- 0.0/1.5 MB ? eta -:--:--\n",
      "   ---------------------------------------- 1.5/1.5 MB 19.7 MB/s eta 0:00:00\n",
      "Downloading termcolor-2.5.0-py3-none-any.whl (7.8 kB)\n",
      "Using cached wrapt-1.16.0-cp39-cp39-win_amd64.whl (37 kB)\n",
      "Using cached Markdown-3.7-py3-none-any.whl (106 kB)\n",
      "Using cached tensorboard_data_server-0.7.2-py3-none-any.whl (2.4 kB)\n",
      "Using cached werkzeug-3.0.6-py3-none-any.whl (227 kB)\n",
      "Using cached wheel-0.44.0-py3-none-any.whl (67 kB)\n",
      "Using cached namex-0.0.8-py3-none-any.whl (5.8 kB)\n",
      "Downloading optree-0.13.0-cp39-cp39-win_amd64.whl (270 kB)\n",
      "Using cached rich-13.9.3-py3-none-any.whl (242 kB)\n",
      "Using cached markdown_it_py-3.0.0-py3-none-any.whl (87 kB)\n",
      "Using cached mdurl-0.1.2-py3-none-any.whl (10.0 kB)\n",
      "Installing collected packages: namex, libclang, flatbuffers, wrapt, wheel, werkzeug, termcolor, tensorflow-io-gcs-filesystem, tensorboard-data-server, protobuf, optree, opt-einsum, ml-dtypes, mdurl, h5py, grpcio, google-pasta, gast, absl-py, markdown-it-py, markdown, astunparse, tensorboard, rich, keras, tensorflow-intel, tensorflow\n",
      "Successfully installed absl-py-2.1.0 astunparse-1.6.3 flatbuffers-24.3.25 gast-0.6.0 google-pasta-0.2.0 grpcio-1.67.0 h5py-3.12.1 keras-3.6.0 libclang-18.1.1 markdown-3.7 markdown-it-py-3.0.0 mdurl-0.1.2 ml-dtypes-0.4.1 namex-0.0.8 opt-einsum-3.4.0 optree-0.13.0 protobuf-5.28.3 rich-13.9.3 tensorboard-2.18.0 tensorboard-data-server-0.7.2 tensorflow-2.18.0 tensorflow-intel-2.18.0 tensorflow-io-gcs-filesystem-0.31.0 termcolor-2.5.0 werkzeug-3.0.6 wheel-0.44.0 wrapt-1.16.0\n",
      "Note: you may need to restart the kernel to use updated packages.\n"
     ]
    }
   ],
   "source": [
    "pip install tensorflow"
   ]
  },
  {
   "cell_type": "code",
   "execution_count": 4,
   "metadata": {},
   "outputs": [
    {
     "name": "stdout",
     "output_type": "stream",
     "text": [
      "Collecting matplotlib\n",
      "  Downloading matplotlib-3.9.2-cp39-cp39-win_amd64.whl.metadata (11 kB)\n",
      "Collecting contourpy>=1.0.1 (from matplotlib)\n",
      "  Downloading contourpy-1.3.0-cp39-cp39-win_amd64.whl.metadata (5.4 kB)\n",
      "Collecting cycler>=0.10 (from matplotlib)\n",
      "  Using cached cycler-0.12.1-py3-none-any.whl.metadata (3.8 kB)\n",
      "Collecting fonttools>=4.22.0 (from matplotlib)\n",
      "  Downloading fonttools-4.54.1-cp39-cp39-win_amd64.whl.metadata (167 kB)\n",
      "Collecting kiwisolver>=1.3.1 (from matplotlib)\n",
      "  Downloading kiwisolver-1.4.7-cp39-cp39-win_amd64.whl.metadata (6.4 kB)\n",
      "Requirement already satisfied: numpy>=1.23 in d:\\fpt\\kihoc\\fall2024\\dpl302m\\project_min\\transfomer\\.venv\\lib\\site-packages (from matplotlib) (2.0.2)\n",
      "Requirement already satisfied: packaging>=20.0 in d:\\fpt\\kihoc\\fall2024\\dpl302m\\project_min\\transfomer\\.venv\\lib\\site-packages (from matplotlib) (24.1)\n",
      "Collecting pillow>=8 (from matplotlib)\n",
      "  Using cached pillow-11.0.0-cp39-cp39-win_amd64.whl.metadata (9.3 kB)\n",
      "Collecting pyparsing>=2.3.1 (from matplotlib)\n",
      "  Downloading pyparsing-3.2.0-py3-none-any.whl.metadata (5.0 kB)\n",
      "Requirement already satisfied: python-dateutil>=2.7 in d:\\fpt\\kihoc\\fall2024\\dpl302m\\project_min\\transfomer\\.venv\\lib\\site-packages (from matplotlib) (2.9.0.post0)\n",
      "Collecting importlib-resources>=3.2.0 (from matplotlib)\n",
      "  Using cached importlib_resources-6.4.5-py3-none-any.whl.metadata (4.0 kB)\n",
      "Requirement already satisfied: zipp>=3.1.0 in d:\\fpt\\kihoc\\fall2024\\dpl302m\\project_min\\transfomer\\.venv\\lib\\site-packages (from importlib-resources>=3.2.0->matplotlib) (3.20.2)\n",
      "Requirement already satisfied: six>=1.5 in d:\\fpt\\kihoc\\fall2024\\dpl302m\\project_min\\transfomer\\.venv\\lib\\site-packages (from python-dateutil>=2.7->matplotlib) (1.16.0)\n",
      "Downloading matplotlib-3.9.2-cp39-cp39-win_amd64.whl (7.8 MB)\n",
      "   ---------------------------------------- 0.0/7.8 MB ? eta -:--:--\n",
      "   ------------ --------------------------- 2.4/7.8 MB 13.4 MB/s eta 0:00:01\n",
      "   ------------------------------ --------- 6.0/7.8 MB 15.4 MB/s eta 0:00:01\n",
      "   ---------------------------------------- 7.8/7.8 MB 14.7 MB/s eta 0:00:00\n",
      "Downloading contourpy-1.3.0-cp39-cp39-win_amd64.whl (211 kB)\n",
      "Using cached cycler-0.12.1-py3-none-any.whl (8.3 kB)\n",
      "Downloading fonttools-4.54.1-cp39-cp39-win_amd64.whl (2.2 MB)\n",
      "   ---------------------------------------- 0.0/2.2 MB ? eta -:--:--\n",
      "   ---------------------------------------- 2.2/2.2 MB 13.9 MB/s eta 0:00:00\n",
      "Using cached importlib_resources-6.4.5-py3-none-any.whl (36 kB)\n",
      "Downloading kiwisolver-1.4.7-cp39-cp39-win_amd64.whl (55 kB)\n",
      "Using cached pillow-11.0.0-cp39-cp39-win_amd64.whl (2.6 MB)\n",
      "Downloading pyparsing-3.2.0-py3-none-any.whl (106 kB)\n",
      "Installing collected packages: pyparsing, pillow, kiwisolver, importlib-resources, fonttools, cycler, contourpy, matplotlib\n",
      "Successfully installed contourpy-1.3.0 cycler-0.12.1 fonttools-4.54.1 importlib-resources-6.4.5 kiwisolver-1.4.7 matplotlib-3.9.2 pillow-11.0.0 pyparsing-3.2.0\n",
      "Note: you may need to restart the kernel to use updated packages.\n"
     ]
    }
   ],
   "source": [
    "pip install matplotlib"
   ]
  },
  {
   "cell_type": "code",
   "execution_count": 5,
   "metadata": {
    "id": "_OpwqWL2QH5G"
   },
   "outputs": [],
   "source": [
    "import tensorflow as tf\n",
    "import numpy as np\n",
    "import matplotlib.pyplot as plt\n",
    "import os\n",
    "\n",
    "from tensorflow.keras.layers import Embedding\n",
    "from tensorflow.keras.preprocessing.text import Tokenizer\n",
    "from tensorflow.keras.preprocessing.sequence import pad_sequences"
   ]
  },
  {
   "cell_type": "code",
   "execution_count": 6,
   "metadata": {
    "id": "y78txxoHQtwG"
   },
   "outputs": [],
   "source": [
    "def positional_encoding(positions, d):\n",
    "    \"\"\"\n",
    "    Precomputes a matrix with all the positional encodings \n",
    "    \n",
    "    Arguments:\n",
    "        positions (int) -- Maximum number of positions to be encoded \n",
    "        d (int) -- Encoding size \n",
    "    \n",
    "    Returns:\n",
    "        pos_encoding -- (1, position, d_model) A matrix with the positional encodings\n",
    "    \"\"\"\n",
    "\n",
    "    # initialize a matrix angle_rads of all the angles \n",
    "    angle_rads = np.arange(positions)[:, np.newaxis] / np.power(10000, (2 * (np.arange(d)[np.newaxis, :]//2)) / np.float32(d))\n",
    "    angle_rads[:, 0::2] = np.sin(angle_rads[:, 0::2])\n",
    "    angle_rads[:, 1::2] = np.cos(angle_rads[:, 1::2])\n",
    "    \n",
    "    pos_encoding = angle_rads[np.newaxis, ...]\n",
    "    \n",
    "    return tf.cast(pos_encoding, dtype=tf.float32)"
   ]
  },
  {
   "cell_type": "code",
   "execution_count": 7,
   "metadata": {},
   "outputs": [
    {
     "data": {
      "image/png": "[encoded data removed]",
      "text/plain": [
       "<Figure size 640x480 with 2 Axes>"
      ]
     },
     "metadata": {},
     "output_type": "display_data"
    }
   ],
   "source": [
    "EMBEDDING_DIM = 100\n",
    "MAX_SEQUENCE_LENGTH = 100\n",
    "MAX_NB_WORDS = 64\n",
    "pos_encoding = positional_encoding(MAX_SEQUENCE_LENGTH, EMBEDDING_DIM)\n",
    "\n",
    "plt.pcolormesh(pos_encoding[0], cmap='RdBu')\n",
    "plt.xlabel('d')\n",
    "plt.xlim((0, EMBEDDING_DIM))\n",
    "plt.ylabel('Position')\n",
    "plt.colorbar()\n",
    "plt.show()"
   ]
  },
  {
   "cell_type": "code",
   "execution_count": 8,
   "metadata": {},
   "outputs": [
    {
     "data": {
      "text/plain": [
       "<tf.Tensor: shape=(), dtype=float32, numpy=7.0710673332214355>"
      ]
     },
     "execution_count": 8,
     "metadata": {},
     "output_type": "execute_result"
    }
   ],
   "source": [
    "pos = 34\n",
    "tf.norm(pos_encoding[0,pos,:])"
   ]
  },
  {
   "cell_type": "markdown",
   "metadata": {},
   "source": [
    "Another interesting property is that the norm of the difference between 2 vectors separated by `k` positions is also constant. If you keep `k` constant and change `pos`, the difference will be of approximately the same value. This property is important because it demonstrates that the difference does not depend on the positions of each encoding, but rather the relative seperation between encodings. Being able to express positional encodings as linear functions of one another can help the model to learn by focusing on the relative positions of words.\n",
    "\n",
    "This reflection of the difference in the positions of words with vector encodings is difficult to achieve, especially given that the values of the vector encodings must remain small enough so that they do not distort the word embeddings. "
   ]
  },
  {
   "cell_type": "code",
   "execution_count": null,
   "metadata": {},
   "outputs": [],
   "source": [
    "pos = 70\n",
    "k = 2\n",
    "print(tf.norm(pos_encoding[0,pos,:] -  pos_encoding[0,pos + k,:]))"
   ]
  },
  {
   "cell_type": "markdown",
   "metadata": {},
   "source": [
    "You have observed some interesting properties about the positional encoding vectors - next, you will create some visualizations to see how these properties affect the relationships between encodings and embeddings!"
   ]
  },
  {
   "cell_type": "markdown",
   "metadata": {},
   "source": [
    "<a name='1-2'></a>\n",
    "### 1.2 - Comparing positional encodings\n",
    "\n",
    "#### 1.2.1 - Correlation\n",
    "\n",
    "The positional encoding matrix help to visualize how each vector is unique for every position. However, it is still not clear how these vectors can represent the relative position of the words in a sentence. To illustrate this, you will calculate the correlation between pairs of vectors at every single position. A successful positional encoder will produce a perfectly symmetric matrix in which maximum values are located at the main diagonal - vectors in similar positions should have the highest correlation. Following the same logic, the correlation values should get smaller as they move away from the main diagonal.\n"
   ]
  },
  {
   "cell_type": "code",
   "execution_count": null,
   "metadata": {},
   "outputs": [],
   "source": [
    "# Positional encoding correlation\n",
    "corr = tf.matmul(pos_encoding, pos_encoding, transpose_b=True).numpy()[0]\n",
    "plt.pcolormesh(corr, cmap='RdBu')\n",
    "plt.xlabel('Position')\n",
    "plt.xlim((0, MAX_SEQUENCE_LENGTH))\n",
    "plt.ylabel('Position')\n",
    "plt.colorbar()\n",
    "plt.show()"
   ]
  },
  {
   "cell_type": "markdown",
   "metadata": {},
   "source": [
    "#### 1.2.2 - Euclidean distance\n",
    "\n",
    "You can also use the euclidean distance instead of the correlation for comparing the positional encoding vectors. In this case, your visualization will display a matrix in which the main diagonal is 0, and its off-diagonal values increase as they move away from the main diagonal.\n"
   ]
  },
  {
   "cell_type": "code",
   "execution_count": null,
   "metadata": {},
   "outputs": [],
   "source": [
    "# Positional encoding euclidean distance\n",
    "eu = np.zeros((MAX_SEQUENCE_LENGTH, MAX_SEQUENCE_LENGTH))\n",
    "print(eu.shape)\n",
    "for a in range(MAX_SEQUENCE_LENGTH):\n",
    "    for b in range(a + 1, MAX_SEQUENCE_LENGTH):\n",
    "        eu[a, b] = tf.norm(tf.math.subtract(pos_encoding[0, a], pos_encoding[0, b]))\n",
    "        eu[b, a] = eu[a, b]\n",
    "        \n",
    "plt.pcolormesh(eu, cmap='RdBu')\n",
    "plt.xlabel('Position')\n",
    "plt.xlim((0, MAX_SEQUENCE_LENGTH))\n",
    "plt.ylabel('Position')\n",
    "plt.colorbar()\n",
    "plt.show()"
   ]
  },
  {
   "cell_type": "markdown",
   "metadata": {},
   "source": [
    "Nice work! You can use these visualizations as checks for any positional encodings you create. "
   ]
  },
  {
   "cell_type": "markdown",
   "metadata": {},
   "source": [
    "<a name='2'></a>\n",
    "## 2 - Semantic embedding\n",
    "\n",
    "You have gained insight into the relationship positional encoding vectors have with other vectors at different positions by creating correlation and distance matrices. Similarly, you can gain a stronger intuition as to how positional encodings affect word embeddings by visualizing the sum of these vectors.  \n"
   ]
  },
  {
   "cell_type": "markdown",
   "metadata": {},
   "source": [
    "<a name='2-1'></a>\n",
    "### 2.1 - Load pretrained embedding\n",
    "\n",
    "To combine a pretrained word embedding with the positional encodings you created, start by loading one of the pretrained embeddings from the [glove](https://nlp.stanford.edu/projects/glove/) project. You will use the embedding with 100 features. "
   ]
  },
  {
   "cell_type": "code",
   "execution_count": null,
   "metadata": {},
   "outputs": [],
   "source": [
    "embeddings_index = {}\n",
    "GLOVE_DIR = \"glove\"\n",
    "f = open(os.path.join(GLOVE_DIR, 'glove.6B.100d.txt'))\n",
    "for line in f:\n",
    "    values = line.split()\n",
    "    word = values[0]\n",
    "    coefs = np.asarray(values[1:], dtype='float32')\n",
    "    embeddings_index[word] = coefs\n",
    "f.close()\n",
    "\n",
    "print('Found %s word vectors.' % len(embeddings_index))\n",
    "print('d_model:', embeddings_index['hi'].shape)"
   ]
  },
  {
   "cell_type": "markdown",
   "metadata": {},
   "source": [
    "**Note:** This embedding is composed of 400,000 words and each word embedding has 100 features."
   ]
  },
  {
   "cell_type": "markdown",
   "metadata": {},
   "source": [
    "Consider the following text that only contains two sentences. Wait a minute - these sentences have no meaning! Instead, the sentences are engineered such that:\n",
    "* Each sentence is composed of sets of words, which have some semantic similarities among each groups.\n",
    "* In the first sentence similar terms are consecutive, while in the second sentence, the order is random. "
   ]
  },
  {
   "cell_type": "code",
   "execution_count": null,
   "metadata": {},
   "outputs": [],
   "source": [
    "texts = ['king queen man woman dog wolf football basketball red green yellow',\n",
    "         'man queen yellow basketball green dog  woman football  king red wolf']"
   ]
  },
  {
   "cell_type": "markdown",
   "metadata": {},
   "source": [
    "First, run the following code cell to apply the tokenization to the raw text. Don't worry too much about what this step does - it will be explained in detail in later ungraded labs. A quick summary (not crucial to understanding the lab):\n",
    "\n",
    "* If you feed an array of plain text of different sentence lengths, and it will produce a matrix with one row for each sentence, each of them represented by an array of size `MAX_SEQUENCE_LENGTH`.\n",
    "* Each value in this array represents each word of the sentence using its corresponding index in a dictionary(`word_index`). \n",
    "* The sequences shorter than the `MAX_SEQUENCE_LENGTH` are padded with zeros to create uniform length. \n",
    "\n",
    "Again, this is explained in detail in later ungraded labs, so don't worry about this too much right now!"
   ]
  },
  {
   "cell_type": "code",
   "execution_count": null,
   "metadata": {},
   "outputs": [],
   "source": [
    "tokenizer = Tokenizer(num_words=MAX_NB_WORDS)\n",
    "tokenizer.fit_on_texts(texts)\n",
    "sequences = tokenizer.texts_to_sequences(texts)\n",
    "\n",
    "word_index = tokenizer.word_index\n",
    "print('Found %s unique tokens.' % len(word_index))\n",
    "\n",
    "data = pad_sequences(sequences, padding='post', maxlen=MAX_SEQUENCE_LENGTH)\n",
    "\n",
    "print(data.shape)\n",
    "\n",
    "print(data)"
   ]
  },
  {
   "cell_type": "markdown",
   "metadata": {},
   "source": [
    "To simplify your model, you will only need to obtain the embeddings for the different words that appear in the text you are examining. In this case, you will filter out only the 11 words appearing in our sentences. The first vector will be an array of zeros and will codify all the unknown words."
   ]
  },
  {
   "cell_type": "code",
   "execution_count": null,
   "metadata": {},
   "outputs": [],
   "source": [
    "embedding_matrix = np.zeros((len(word_index) + 1, EMBEDDING_DIM))\n",
    "for word, i in word_index.items():\n",
    "    embedding_vector = embeddings_index.get(word)\n",
    "    if embedding_vector is not None:\n",
    "        # words not found in embedding index will be all-zeros.\n",
    "        embedding_matrix[i] = embedding_vector\n",
    "print(embedding_matrix.shape)"
   ]
  },
  {
   "cell_type": "markdown",
   "metadata": {},
   "source": [
    "Create an embedding layer using the weights extracted from the pretrained glove embeddings."
   ]
  },
  {
   "cell_type": "code",
   "execution_count": null,
   "metadata": {},
   "outputs": [],
   "source": [
    "embedding_layer = Embedding(len(word_index) + 1,\n",
    "                            EMBEDDING_DIM,\n",
    "                            embeddings_initializer=tf.keras.initializers.Constant(embedding_matrix),\n",
    "                            trainable=False)"
   ]
  },
  {
   "cell_type": "markdown",
   "metadata": {},
   "source": [
    "Transform the input tokenized data to the embedding using the previous layer. Check the shape of the embedding to make sure the last dimension of this matrix contains the embeddings of the words in the sentence. "
   ]
  },
  {
   "cell_type": "code",
   "execution_count": null,
   "metadata": {},
   "outputs": [],
   "source": [
    "embedding = embedding_layer(data)\n",
    "print(embedding.shape)"
   ]
  },
  {
   "cell_type": "markdown",
   "metadata": {},
   "source": [
    "<a name='2-2'></a>\n",
    "### 2.2 - Visualization on a Cartesian plane\n",
    "\n",
    "Now, you will create a function that allows you to visualize the encoding of our words in a Cartesian plane. You will use PCA to reduce the 100 features of the glove embedding to only 2 components. "
   ]
  },
  {
   "cell_type": "code",
   "execution_count": null,
   "metadata": {},
   "outputs": [],
   "source": [
    "from sklearn.decomposition import PCA\n",
    "\n",
    "def plot_words(embedding, sequences, sentence):\n",
    "    pca = PCA(n_components=2)\n",
    "    X_pca_train = pca.fit_transform(embedding[sentence,0:len(sequences[sentence]),:])\n",
    "\n",
    "\n",
    "    fig, ax = plt.subplots(figsize=(12, 6)) \n",
    "    plt.rcParams['font.size'] = '12'\n",
    "    ax.scatter(X_pca_train[:, 0], X_pca_train[:, 1])\n",
    "    words = list(word_index.keys())\n",
    "    for i, index in enumerate(sequences[sentence]):\n",
    "        ax.annotate(words[index-1], (X_pca_train[i, 0], X_pca_train[i, 1]))\n"
   ]
  },
  {
   "cell_type": "markdown",
   "metadata": {},
   "source": [
    "Nice! Now you can plot the embedding of each of the sentences. Each plot should disply the embeddings of the different words. \n"
   ]
  },
  {
   "cell_type": "code",
   "execution_count": null,
   "metadata": {},
   "outputs": [],
   "source": [
    "plot_words(embedding, sequences, 0)"
   ]
  },
  {
   "cell_type": "markdown",
   "metadata": {},
   "source": [
    "Plot the word of embeddings of the second sentence. Recall that the second sentence contains the same words are the first sentence, just in a different order. You can see that the order of the words does not affect the vector representations. "
   ]
  },
  {
   "cell_type": "code",
   "execution_count": null,
   "metadata": {},
   "outputs": [],
   "source": [
    "plot_words(embedding, sequences, 1)"
   ]
  },
  {
   "cell_type": "markdown",
   "metadata": {},
   "source": [
    "<a name='3'></a>\n",
    "## 3 - Semantic and positional embedding\n",
    "\n",
    "Next, you will combine the original glove embedding with the positional encoding you calculated earlier. For this exercise, you will use a 1 to 1 weight ratio between the semantic and the positional embedding. "
   ]
  },
  {
   "cell_type": "code",
   "execution_count": null,
   "metadata": {},
   "outputs": [],
   "source": [
    "embedding2 = embedding * 1.0 + pos_encoding[:,:,:] * 1.0\n",
    "\n",
    "plot_words(embedding2, sequences, 0)\n",
    "plot_words(embedding2, sequences, 1)"
   ]
  },
  {
   "cell_type": "markdown",
   "metadata": {},
   "source": [
    "Wow look at the big difference between the plots! Both plots have changed drastically compared to their original counterparts. Notice that in the second image, which corresponds to the sentence in which similar words are not together, very dissimilar words such as `red` and `wolf` appear more close.\n",
    "\n",
    "Now you can try different relative weights and see how this strongly impacts the vector representation of the words in the sentence."
   ]
  },
  {
   "cell_type": "code",
   "execution_count": null,
   "metadata": {},
   "outputs": [],
   "source": [
    "W1 = 1 # Change me\n",
    "W2 = 10 # Change me\n",
    "embedding2 = embedding * W1 + pos_encoding[:,:,:] * W2\n",
    "plot_words(embedding2, sequences, 0)\n",
    "plot_words(embedding2, sequences, 1)\n",
    "\n",
    "# For reference\n",
    "#['king queen man woman dog wolf football basketball red green yellow',\n",
    "# 'man queen yellow basketball green dog  woman football  king red wolf']"
   ]
  },
  {
   "cell_type": "markdown",
   "metadata": {},
   "source": [
    "If you set `W1 = 1` and `W2 = 10`, you can see how arrangement of the words begins to take on a clockwise or anti-clockwise order depending on the position of the words in the sentence. Under these parameters, the positional encoding vectors have dominated the embedding. \n",
    "\n",
    "Now try inverting the weights to `W1 = 10` and `W2 = 1`. Observe that under these parameters, the plot resembles the original embedding visualizations and there are only a few changes between the positions of the plotted words.\n",
    "\n",
    "In the previous Transformer assignment, the word embedding is multiplied by `sqrt(EMBEDDING_DIM)`. In this case, it will be equivalent using `W1 = sqrt(EMBEDDING_DIM) = 10` and `W2 = 1`. \n",
    "\n",
    "### Congratulations!\n",
    " \n",
    "You've completed this notebook, and have a better sense of the inputs of the Transformer network! \n",
    "\n",
    "By now, you've: \n",
    "\n",
    "* Created positional encoding matrices to visualize the relational properties of the vectors\n",
    "* Plotted embeddings and positional encodings on a Cartesian plane to observe how they affect each other \n",
    "\n",
    "\n",
    "<font color='blue'><b>What you should remember</b>:\n",
    "- Positional encodings can be expressed as linear functions of each other, which allow the model to learn according to the relative positions of words.\n",
    "- Positional encodings can affect the word embeddings, but if the relative weight of the positional encoding is small, the sum will retain the semantic meaning of the words.  \n"
   ]
  },
  {
   "cell_type": "code",
   "execution_count": null,
   "metadata": {},
   "outputs": [],
   "source": []
  }
 ],
 "metadata": {
  "accelerator": "GPU",
  "colab": {
   "collapsed_sections": [],
   "name": "Transformer Assignment - Subclass.ipynb",
   "provenance": []
  },
  "kernelspec": {
   "display_name": ".venv",
   "language": "python",
   "name": "python3"
  },
  "language_info": {
   "codemirror_mode": {
    "name": "ipython",
    "version": 3
   },
   "file_extension": ".py",
   "mimetype": "text/x-python",
   "name": "python",
   "nbconvert_exporter": "python",
   "pygments_lexer": "ipython3",
   "version": "3.9.13"
  }
 },
 "nbformat": 4,
 "nbformat_minor": 1
}
