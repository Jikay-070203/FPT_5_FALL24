{
  "cells": [
    {
      "cell_type": "markdown",
      "metadata": {
        "id": "WfD6MF4RSyXo"
      },
      "source": [
        "# **LAB: Linear Regression - Polynomial Regression**\n",
        "**Estimated time**: 30 minutes\n",
        "\n",
        "## **Objectives**\n",
        "After completing this lab, you will be able to:\n",
        "\n",
        "- Develop **Linear Regression** and **Polynomial Regression** models\n",
        "\n",
        "## **Overview**\n",
        "In this section, we will develop two types of models—**Linear Regression** and **Polynomial Regression**—to predict the price of a car using different variables or features. These models will provide an estimate, helping us get an objective idea of how much a car should cost.\n",
        "\n",
        "### **Some key questions to consider in this lab:**\n",
        "- Is the dealer offering a fair trade-in value for my car?\n",
        "- Am I placing a fair value on my car?\n",
        "\n",
        "In data analytics, **Linear Regression** and **Polynomial Regression** are frequently used to predict future observations based on existing data. These models help us understand the relationships between variables and how these relationships can be used to predict outcomes.\n",
        "\n",
        "### **Steps**\n",
        "\n",
        "#### **1. Set up the working environment**\n",
        "- Import the necessary libraries:\n",
        "\n"
      ]
    },
    {
      "cell_type": "code",
      "execution_count": null,
      "metadata": {
        "colab": {
          "base_uri": "https://localhost:8080/"
        },
        "id": "DvC4w6T2SyXs",
        "outputId": "aa1e1294-a9f2-4983-898a-5f33fff19cd1",
        "trusted": true,
        "vscode": {
          "languageId": "r"
        }
      },
      "outputs": [
        {
          "name": "stderr",
          "output_type": "stream",
          "text": [
            "Installing package into ‘/usr/local/lib/R/site-library’\n",
            "(as ‘lib’ is unspecified)\n",
            "\n",
            "Installing package into ‘/usr/local/lib/R/site-library’\n",
            "(as ‘lib’ is unspecified)\n",
            "\n",
            "Installing package into ‘/usr/local/lib/R/site-library’\n",
            "(as ‘lib’ is unspecified)\n",
            "\n",
            "Warning message:\n",
            "“package ‘scipy’ is not available for this version of R\n",
            "\n",
            "A version of this package for your version of R might be available elsewhere,\n",
            "see the ideas at\n",
            "https://cran.r-project.org/doc/manuals/r-patched/R-admin.html#Installing-packages”\n",
            "Installing package into ‘/usr/local/lib/R/site-library’\n",
            "(as ‘lib’ is unspecified)\n",
            "\n",
            "also installing the dependencies ‘listenv’, ‘parallelly’, ‘future’, ‘globals’, ‘shape’, ‘future.apply’, ‘numDeriv’, ‘progressr’, ‘SQUAREM’, ‘diagram’, ‘lava’, ‘prodlim’, ‘proxy’, ‘iterators’, ‘clock’, ‘gower’, ‘hardhat’, ‘ipred’, ‘timeDate’, ‘e1071’, ‘foreach’, ‘ModelMetrics’, ‘plyr’, ‘pROC’, ‘recipes’, ‘reshape2’\n",
            "\n",
            "\n",
            "Installing package into ‘/usr/local/lib/R/site-library’\n",
            "(as ‘lib’ is unspecified)\n",
            "\n",
            "Warning message:\n",
            "“package ‘seaborn’ is not available for this version of R\n",
            "\n",
            "A version of this package for your version of R might be available elsewhere,\n",
            "see the ideas at\n",
            "https://cran.r-project.org/doc/manuals/r-patched/R-admin.html#Installing-packages”\n"
          ]
        }
      ],
      "source": [
        "#you are running the lab in your  browser, so we will install the libraries using ``piplite``\n",
        "install.packages(\"dplyr\")\n",
        "install.packages(\"ggplot2\")\n",
        "install.packages(\"scipy\")\n",
        "install.packages(\"caret\")\n",
        "install.packages(\"seaborn\")"
      ]
    },
    {
      "cell_type": "code",
      "execution_count": 1,
      "metadata": {
        "colab": {
          "base_uri": "https://localhost:8080/"
        },
        "id": "JJES8MISSyXu",
        "outputId": "8acfbdd1-0a53-41df-92ae-2d67e119caa9",
        "trusted": true,
        "vscode": {
          "languageId": "r"
        }
      },
      "outputs": [
        {
          "name": "stderr",
          "output_type": "stream",
          "text": [
            "\n",
            "Attaching package: 'dplyr'\n",
            "\n",
            "\n",
            "The following objects are masked from 'package:stats':\n",
            "\n",
            "    filter, lag\n",
            "\n",
            "\n",
            "The following objects are masked from 'package:base':\n",
            "\n",
            "    intersect, setdiff, setequal, union\n",
            "\n",
            "\n"
          ]
        }
      ],
      "source": [
        "library(dplyr)\n",
        "library(ggplot2)\n",
        "library(tidyr)          # Hỗ trợ trong việc xử lý dữ liệu như numpy trong python\n",
        "library(readr)\n",
        "\n",
        "# Tắt các cảnh báo\n",
        "options(warn = -1)"
      ]
    },
    {
      "cell_type": "markdown",
      "metadata": {
        "id": "YDPu55wKSyXu"
      },
      "source": [
        "This function will download the dataset into your browser\n"
      ]
    },
    {
      "cell_type": "code",
      "execution_count": 2,
      "metadata": {
        "id": "px1sg5aVTKd3",
        "vscode": {
          "languageId": "r"
        }
      },
      "outputs": [],
      "source": [
        "# Sử dụng thư viện httr để tải file từ URL\n",
        "library(httr)"
      ]
    },
    {
      "cell_type": "code",
      "execution_count": 3,
      "metadata": {
        "id": "nbOO4Sa4SyXu",
        "trusted": true,
        "vscode": {
          "languageId": "r"
        }
      },
      "outputs": [],
      "source": [
        "#This function will download the dataset into your browser\n",
        "\n",
        "download <- function(url, filename) {\n",
        "  # Gửi yêu cầu GET đến URL\n",
        "  response <- GET(url)\n",
        "\n",
        "  # Kiểm tra nếu yêu cầu thành công (status code 200)\n",
        "  if (status_code(response) == 200) {\n",
        "    # Ghi nội dung vào tệp tin\n",
        "    writeBin(content(response, \"raw\"), filename)\n",
        "    message(\"Download successful: \", filename)\n",
        "  } else {\n",
        "    message(\"Download failed with status: \", status_code(response))\n",
        "  }\n",
        "}\n"
      ]
    },
    {
      "cell_type": "markdown",
      "metadata": {
        "id": "IpG6lT3-SyXv"
      },
      "source": [
        "This dataset was hosted on IBM Cloud object. Click <a href=\"https://cocl.us/DA101EN_object_storage?utm_medium=Exinfluencer&utm_source=Exinfluencer&utm_content=000026UJ&utm_term=10006555&utm_id=NA-SkillsNetwork-Channel-SkillsNetworkCoursesIBMDeveloperSkillsNetworkDA0101ENSkillsNetwork20235326-2021-01-01\">HERE</a> for free storage.\n"
      ]
    },
    {
      "cell_type": "markdown",
      "metadata": {
        "id": "T4LKNiqiSyXv"
      },
      "source": [
        "you will need to download the dataset; if you are running locally, please comment out the following\n"
      ]
    },
    {
      "cell_type": "code",
      "execution_count": 4,
      "metadata": {
        "colab": {
          "base_uri": "https://localhost:8080/"
        },
        "id": "YemLc1UoSyXv",
        "outputId": "8b52f262-bc51-4184-8198-020cacb6c6d1",
        "trusted": true,
        "vscode": {
          "languageId": "r"
        }
      },
      "outputs": [
        {
          "name": "stderr",
          "output_type": "stream",
          "text": [
            "Download successful: automobileEDA.csv\n",
            "\n"
          ]
        }
      ],
      "source": [
        "#you will need to download the dataset; if you are running locally, please comment out the following\n",
        "# Sử dụng download.file để tải xuống tập dữ liệu\n",
        "download.file(\n",
        "  url = \"https://cf-courses-data.s3.us.cloud-object-storage.appdomain.cloud/IBMDeveloperSkillsNetwork-DA0101EN-SkillsNetwork/labs/Data%20files/automobileEDA.csv\",\n",
        "  destfile = \"automobileEDA.csv\",\n",
        "  mode = \"wb\"\n",
        ")\n",
        "\n",
        "# Kiểm tra nếu tệp đã được tải thành công\n",
        "if (file.exists(\"automobileEDA.csv\")) {\n",
        "  message(\"Download successful: automobileEDA.csv\")\n",
        "} else {\n",
        "  message(\"Download failed.\")\n",
        "}\n"
      ]
    },
    {
      "cell_type": "markdown",
      "metadata": {
        "id": "lEaERFEUSyXw"
      },
      "source": [
        "Load the data and store it in dataframe `df`:\n"
      ]
    },
    {
      "cell_type": "code",
      "execution_count": 5,
      "metadata": {
        "colab": {
          "base_uri": "https://localhost:8080/",
          "height": 358
        },
        "id": "pGzcwfIjSyXw",
        "outputId": "7a7fc8b7-bae1-4a17-e53a-f37dd14bdba8",
        "trusted": true,
        "vscode": {
          "languageId": "r"
        }
      },
      "outputs": [
        {
          "data": {
            "text/html": [
              "<table class=\"dataframe\">\n",
              "<caption>A data.frame: 6 × 29</caption>\n",
              "<thead>\n",
              "\t<tr><th></th><th scope=col>symboling</th><th scope=col>normalized.losses</th><th scope=col>make</th><th scope=col>aspiration</th><th scope=col>num.of.doors</th><th scope=col>body.style</th><th scope=col>drive.wheels</th><th scope=col>engine.location</th><th scope=col>wheel.base</th><th scope=col>length</th><th scope=col>⋯</th><th scope=col>compression.ratio</th><th scope=col>horsepower</th><th scope=col>peak.rpm</th><th scope=col>city.mpg</th><th scope=col>highway.mpg</th><th scope=col>price</th><th scope=col>city.L.100km</th><th scope=col>horsepower.binned</th><th scope=col>diesel</th><th scope=col>gas</th></tr>\n",
              "\t<tr><th></th><th scope=col>&lt;int&gt;</th><th scope=col>&lt;int&gt;</th><th scope=col>&lt;chr&gt;</th><th scope=col>&lt;chr&gt;</th><th scope=col>&lt;chr&gt;</th><th scope=col>&lt;chr&gt;</th><th scope=col>&lt;chr&gt;</th><th scope=col>&lt;chr&gt;</th><th scope=col>&lt;dbl&gt;</th><th scope=col>&lt;dbl&gt;</th><th scope=col>⋯</th><th scope=col>&lt;dbl&gt;</th><th scope=col>&lt;dbl&gt;</th><th scope=col>&lt;dbl&gt;</th><th scope=col>&lt;int&gt;</th><th scope=col>&lt;int&gt;</th><th scope=col>&lt;dbl&gt;</th><th scope=col>&lt;dbl&gt;</th><th scope=col>&lt;chr&gt;</th><th scope=col>&lt;int&gt;</th><th scope=col>&lt;int&gt;</th></tr>\n",
              "</thead>\n",
              "<tbody>\n",
              "\t<tr><th scope=row>1</th><td>3</td><td>122</td><td>alfa-romero</td><td>std</td><td>two </td><td>convertible</td><td>rwd</td><td>front</td><td>88.6</td><td>0.8111485</td><td>⋯</td><td> 9.0</td><td>111</td><td>5000</td><td>21</td><td>27</td><td>13495</td><td>11.190476</td><td>Medium</td><td>0</td><td>1</td></tr>\n",
              "\t<tr><th scope=row>2</th><td>3</td><td>122</td><td>alfa-romero</td><td>std</td><td>two </td><td>convertible</td><td>rwd</td><td>front</td><td>88.6</td><td>0.8111485</td><td>⋯</td><td> 9.0</td><td>111</td><td>5000</td><td>21</td><td>27</td><td>16500</td><td>11.190476</td><td>Medium</td><td>0</td><td>1</td></tr>\n",
              "\t<tr><th scope=row>3</th><td>1</td><td>122</td><td>alfa-romero</td><td>std</td><td>two </td><td>hatchback  </td><td>rwd</td><td>front</td><td>94.5</td><td>0.8226814</td><td>⋯</td><td> 9.0</td><td>154</td><td>5000</td><td>19</td><td>26</td><td>16500</td><td>12.368421</td><td>Medium</td><td>0</td><td>1</td></tr>\n",
              "\t<tr><th scope=row>4</th><td>2</td><td>164</td><td>audi       </td><td>std</td><td>four</td><td>sedan      </td><td>fwd</td><td>front</td><td>99.8</td><td>0.8486305</td><td>⋯</td><td>10.0</td><td>102</td><td>5500</td><td>24</td><td>30</td><td>13950</td><td> 9.791667</td><td>Medium</td><td>0</td><td>1</td></tr>\n",
              "\t<tr><th scope=row>5</th><td>2</td><td>164</td><td>audi       </td><td>std</td><td>four</td><td>sedan      </td><td>4wd</td><td>front</td><td>99.4</td><td>0.8486305</td><td>⋯</td><td> 8.0</td><td>115</td><td>5500</td><td>18</td><td>22</td><td>17450</td><td>13.055556</td><td>Medium</td><td>0</td><td>1</td></tr>\n",
              "\t<tr><th scope=row>6</th><td>2</td><td>122</td><td>audi       </td><td>std</td><td>two </td><td>sedan      </td><td>fwd</td><td>front</td><td>99.8</td><td>0.8519942</td><td>⋯</td><td> 8.5</td><td>110</td><td>5500</td><td>19</td><td>25</td><td>15250</td><td>12.368421</td><td>Medium</td><td>0</td><td>1</td></tr>\n",
              "</tbody>\n",
              "</table>\n"
            ],
            "text/latex": [
              "A data.frame: 6 × 29\n",
              "\\begin{tabular}{r|lllllllllllllllllllll}\n",
              "  & symboling & normalized.losses & make & aspiration & num.of.doors & body.style & drive.wheels & engine.location & wheel.base & length & ⋯ & compression.ratio & horsepower & peak.rpm & city.mpg & highway.mpg & price & city.L.100km & horsepower.binned & diesel & gas\\\\\n",
              "  & <int> & <int> & <chr> & <chr> & <chr> & <chr> & <chr> & <chr> & <dbl> & <dbl> & ⋯ & <dbl> & <dbl> & <dbl> & <int> & <int> & <dbl> & <dbl> & <chr> & <int> & <int>\\\\\n",
              "\\hline\n",
              "\t1 & 3 & 122 & alfa-romero & std & two  & convertible & rwd & front & 88.6 & 0.8111485 & ⋯ &  9.0 & 111 & 5000 & 21 & 27 & 13495 & 11.190476 & Medium & 0 & 1\\\\\n",
              "\t2 & 3 & 122 & alfa-romero & std & two  & convertible & rwd & front & 88.6 & 0.8111485 & ⋯ &  9.0 & 111 & 5000 & 21 & 27 & 16500 & 11.190476 & Medium & 0 & 1\\\\\n",
              "\t3 & 1 & 122 & alfa-romero & std & two  & hatchback   & rwd & front & 94.5 & 0.8226814 & ⋯ &  9.0 & 154 & 5000 & 19 & 26 & 16500 & 12.368421 & Medium & 0 & 1\\\\\n",
              "\t4 & 2 & 164 & audi        & std & four & sedan       & fwd & front & 99.8 & 0.8486305 & ⋯ & 10.0 & 102 & 5500 & 24 & 30 & 13950 &  9.791667 & Medium & 0 & 1\\\\\n",
              "\t5 & 2 & 164 & audi        & std & four & sedan       & 4wd & front & 99.4 & 0.8486305 & ⋯ &  8.0 & 115 & 5500 & 18 & 22 & 17450 & 13.055556 & Medium & 0 & 1\\\\\n",
              "\t6 & 2 & 122 & audi        & std & two  & sedan       & fwd & front & 99.8 & 0.8519942 & ⋯ &  8.5 & 110 & 5500 & 19 & 25 & 15250 & 12.368421 & Medium & 0 & 1\\\\\n",
              "\\end{tabular}\n"
            ],
            "text/markdown": [
              "\n",
              "A data.frame: 6 × 29\n",
              "\n",
              "| <!--/--> | symboling &lt;int&gt; | normalized.losses &lt;int&gt; | make &lt;chr&gt; | aspiration &lt;chr&gt; | num.of.doors &lt;chr&gt; | body.style &lt;chr&gt; | drive.wheels &lt;chr&gt; | engine.location &lt;chr&gt; | wheel.base &lt;dbl&gt; | length &lt;dbl&gt; | ⋯ ⋯ | compression.ratio &lt;dbl&gt; | horsepower &lt;dbl&gt; | peak.rpm &lt;dbl&gt; | city.mpg &lt;int&gt; | highway.mpg &lt;int&gt; | price &lt;dbl&gt; | city.L.100km &lt;dbl&gt; | horsepower.binned &lt;chr&gt; | diesel &lt;int&gt; | gas &lt;int&gt; |\n",
              "|---|---|---|---|---|---|---|---|---|---|---|---|---|---|---|---|---|---|---|---|---|---|\n",
              "| 1 | 3 | 122 | alfa-romero | std | two  | convertible | rwd | front | 88.6 | 0.8111485 | ⋯ |  9.0 | 111 | 5000 | 21 | 27 | 13495 | 11.190476 | Medium | 0 | 1 |\n",
              "| 2 | 3 | 122 | alfa-romero | std | two  | convertible | rwd | front | 88.6 | 0.8111485 | ⋯ |  9.0 | 111 | 5000 | 21 | 27 | 16500 | 11.190476 | Medium | 0 | 1 |\n",
              "| 3 | 1 | 122 | alfa-romero | std | two  | hatchback   | rwd | front | 94.5 | 0.8226814 | ⋯ |  9.0 | 154 | 5000 | 19 | 26 | 16500 | 12.368421 | Medium | 0 | 1 |\n",
              "| 4 | 2 | 164 | audi        | std | four | sedan       | fwd | front | 99.8 | 0.8486305 | ⋯ | 10.0 | 102 | 5500 | 24 | 30 | 13950 |  9.791667 | Medium | 0 | 1 |\n",
              "| 5 | 2 | 164 | audi        | std | four | sedan       | 4wd | front | 99.4 | 0.8486305 | ⋯ |  8.0 | 115 | 5500 | 18 | 22 | 17450 | 13.055556 | Medium | 0 | 1 |\n",
              "| 6 | 2 | 122 | audi        | std | two  | sedan       | fwd | front | 99.8 | 0.8519942 | ⋯ |  8.5 | 110 | 5500 | 19 | 25 | 15250 | 12.368421 | Medium | 0 | 1 |\n",
              "\n"
            ],
            "text/plain": [
              "  symboling normalized.losses make        aspiration num.of.doors body.style \n",
              "1 3         122               alfa-romero std        two          convertible\n",
              "2 3         122               alfa-romero std        two          convertible\n",
              "3 1         122               alfa-romero std        two          hatchback  \n",
              "4 2         164               audi        std        four         sedan      \n",
              "5 2         164               audi        std        four         sedan      \n",
              "6 2         122               audi        std        two          sedan      \n",
              "  drive.wheels engine.location wheel.base length    ⋯ compression.ratio\n",
              "1 rwd          front           88.6       0.8111485 ⋯  9.0             \n",
              "2 rwd          front           88.6       0.8111485 ⋯  9.0             \n",
              "3 rwd          front           94.5       0.8226814 ⋯  9.0             \n",
              "4 fwd          front           99.8       0.8486305 ⋯ 10.0             \n",
              "5 4wd          front           99.4       0.8486305 ⋯  8.0             \n",
              "6 fwd          front           99.8       0.8519942 ⋯  8.5             \n",
              "  horsepower peak.rpm city.mpg highway.mpg price city.L.100km horsepower.binned\n",
              "1 111        5000     21       27          13495 11.190476    Medium           \n",
              "2 111        5000     21       27          16500 11.190476    Medium           \n",
              "3 154        5000     19       26          16500 12.368421    Medium           \n",
              "4 102        5500     24       30          13950  9.791667    Medium           \n",
              "5 115        5500     18       22          17450 13.055556    Medium           \n",
              "6 110        5500     19       25          15250 12.368421    Medium           \n",
              "  diesel gas\n",
              "1 0      1  \n",
              "2 0      1  \n",
              "3 0      1  \n",
              "4 0      1  \n",
              "5 0      1  \n",
              "6 0      1  "
            ]
          },
          "metadata": {},
          "output_type": "display_data"
        }
      ],
      "source": [
        "# Đọc dữ liệu\n",
        "df <- read.csv(\"automobileEDA.csv\")\n",
        "\n",
        "# Hiển thị 6 dòng dữ liệu đầu tiên\n",
        "head(df, 6)\n"
      ]
    },
    {
      "cell_type": "markdown",
      "metadata": {
        "id": "EOF3yeXVSyXw"
      },
      "source": [
        "<h2>1. Linear Regression and Multiple Linear Regression</h2>\n"
      ]
    },
    {
      "cell_type": "markdown",
      "metadata": {
        "id": "LVieXT1hSyXw"
      },
      "source": [
        "# **1. Linear Regression and Multiple Linear Regression**\n",
        "\n",
        "## **Linear Regression**\n",
        "\n",
        "One example of a Data Model that we will be using is:\n",
        "\n",
        "### **Simple Linear Regression**\n",
        "\n",
        "Simple Linear Regression is a method to help us understand the relationship between two variables:\n",
        "\n",
        "- The predictor/independent variable (X)\n",
        "- The response/dependent variable (Y), which is what we want to predict.\n",
        "\n",
        "The result of Linear Regression is a linear function that predicts the response (dependent) variable as a function of the predictor (independent) variable.\n",
        "\n",
        "### **Notation**\n",
        "$$\n",
        "Y: \\text{Response Variable} \\\\\n",
        "X: \\text{Predictor Variables}\n",
        "$$\n",
        "\n",
        "### **Linear Function**\n",
        "$$\n",
        "\\hat{Y} = a + bX\n",
        "$$\n",
        "- **a** refers to the intercept of the regression line, i.e., the value of **Y** when **X** is 0.\n",
        "- **b** refers to the slope of the regression line, i.e., the change in **Y** when **X** increases by 1 unit.\n",
        "\n",
        "### Let's load the modules for linear regression and create the linear regression object:\n",
        "\n",
        "\n"
      ]
    },
    {
      "cell_type": "markdown",
      "metadata": {
        "id": "PRznEermSyXw"
      },
      "source": [
        "<p>One example of a Data  Model that we will be using is:</p>\n",
        "<b>Simple Linear Regression</b>\n",
        "\n",
        "<br>\n",
        "<p>Simple Linear Regression is a method to help us understand the relationship between two variables:</p>\n",
        "<ul>\n",
        "    <li>The predictor/independent variable (X)</li>\n",
        "    <li>The response/dependent variable (that we want to predict)(Y)</li>\n",
        "</ul>\n",
        "\n",
        "<p>The result of Linear Regression is a <b>linear function</b> that predicts the response (dependent) variable as a function of the predictor (independent) variable.</p>\n"
      ]
    },
    {
      "cell_type": "markdown",
      "metadata": {
        "id": "OC4KDIVcSyXw"
      },
      "source": [
        "$$\n",
        "Y: Response \\ Variable\\\\\\\\\\\\\\\\\\\\\n",
        "X: Predictor \\ Variables\n",
        "$$\n"
      ]
    },
    {
      "cell_type": "markdown",
      "metadata": {
        "id": "eyxGnat2SyXw"
      },
      "source": [
        "<b>Linear Function</b>\n",
        "$$\n",
        "Yhat = a + b  X\n",
        "$$\n"
      ]
    },
    {
      "cell_type": "markdown",
      "metadata": {
        "id": "yfSZBs7KSyXx"
      },
      "source": [
        "<ul>\n",
        "    <li>a refers to the <b>intercept</b> of the regression line, in other words: the value of Y when X is 0</li>\n",
        "    <li>b refers to the <b>slope</b> of the regression line, in other words: the value with which Y changes when X increases by 1 unit</li>\n",
        "</ul>\n"
      ]
    },
    {
      "cell_type": "markdown",
      "metadata": {
        "id": "q6dk3uZrSyXx"
      },
      "source": [
        "<h4>Let's load the modules for linear regression:</h4>\n"
      ]
    },
    {
      "cell_type": "markdown",
      "metadata": {
        "id": "xEZt44LzSyXx"
      },
      "source": [
        "# **Building a Linear Regression Model**\n",
        "\n",
        "We will create a linear regression model to predict car price based on highway miles per gallon (mpg). After fitting the model, review the summary of the model, which includes key information such as the coefficients, R-squared value, and p-values.\n",
        "\n",
        "### **Questions for Evaluation:**\n",
        "\n",
        "1. What is the coefficient for the `highway.mpg` variable? How does it relate to the price of the car?\n",
        "2. What is the intercept, and what does it represent in the context of the model?\n",
        "3. How do you interpret the R-squared value? Does the model explain a significant amount of variance in the price?\n",
        "4. Based on the p-value, is the `highway.mpg` variable statistically significant in predicting car price?\n",
        "5. What other factors might you consider adding to improve the model's predictive power?\n"
      ]
    },
    {
      "cell_type": "code",
      "execution_count": 7,
      "metadata": {
        "colab": {
          "base_uri": "https://localhost:8080/",
          "height": 329
        },
        "id": "evjCsEPGSyXx",
        "outputId": "0d1c8048-086c-4ba8-edd7-2c2564993357",
        "trusted": true,
        "vscode": {
          "languageId": "r"
        }
      },
      "outputs": [
        {
          "data": {
            "text/plain": [
              "\n",
              "Call:\n",
              "lm(formula = price ~ highway.mpg, data = df)\n",
              "\n",
              "Residuals:\n",
              "   Min     1Q Median     3Q    Max \n",
              " -8647  -3411  -1102   1092  20970 \n",
              "\n",
              "Coefficients:\n",
              "            Estimate Std. Error t value Pr(>|t|)    \n",
              "(Intercept) 38423.31    1843.39   20.84   <2e-16 ***\n",
              "highway.mpg  -821.73      58.65  -14.01   <2e-16 ***\n",
              "---\n",
              "Signif. codes:  0 '***' 0.001 '**' 0.01 '*' 0.05 '.' 0.1 ' ' 1\n",
              "\n",
              "Residual standard error: 5653 on 199 degrees of freedom\n",
              "Multiple R-squared:  0.4966,\tAdjusted R-squared:  0.4941 \n",
              "F-statistic: 196.3 on 1 and 199 DF,  p-value: < 2.2e-16\n"
            ]
          },
          "metadata": {},
          "output_type": "display_data"
        }
      ],
      "source": [
        "# Create a linear regression model\n",
        "lm_model <- lm(price ~ highway.mpg, data = df)\n",
        "\n",
        "# View the summary of the model\n",
        "summary(lm_model)\n"
      ]
    },
    {
      "cell_type": "markdown",
      "metadata": {
        "id": "mcyGrvRs2r0Z"
      },
      "source": [
        "### **Questions for Evaluation:**\n",
        "\n",
        "1. What is the coefficient for the `highway.mpg` variable? How does it relate to the price of the car?\n",
        "2. What is the intercept, and what does it represent in the context of the model?\n",
        "3. How do you interpret the R-squared value? Does the model explain a significant amount of variance in the price?\n",
        "4. Based on the p-value, is the `highway.mpg` variable statistically significant in predicting car price?\n",
        "5. What other factors might you consider adding to improve the model's predictive power?"
      ]
    },
    {
      "cell_type": "markdown",
      "metadata": {
        "id": "xsg_AUovC2LO"
      },
      "source": [
        "\n",
        "\n",
        "```\n",
        "# Complete the question with your answer\n",
        "```\n",
        "\n"
      ]
    },
    {
      "cell_type": "markdown",
      "metadata": {
        "id": "m4OcP9mdSyXy"
      },
      "source": [
        "Fit the linear model using highway-mpg:\n"
      ]
    },
    {
      "cell_type": "markdown",
      "metadata": {
        "id": "jsHy7iLDSyXy"
      },
      "source": [
        "We can output a prediction:\n"
      ]
    },
    {
      "cell_type": "code",
      "execution_count": 8,
      "metadata": {
        "colab": {
          "base_uri": "https://localhost:8080/",
          "height": 34
        },
        "id": "G2lzW7_3SyXy",
        "outputId": "df0054fa-91c6-4f9f-aba1-d5d870bb68ca",
        "trusted": true,
        "vscode": {
          "languageId": "r"
        }
      },
      "outputs": [
        {
          "data": {
            "text/html": [
              "<style>\n",
              ".dl-inline {width: auto; margin:0; padding: 0}\n",
              ".dl-inline>dt, .dl-inline>dd {float: none; width: auto; display: inline-block}\n",
              ".dl-inline>dt::after {content: \":\\0020\"; padding-right: .5ex}\n",
              ".dl-inline>dt:not(:first-of-type) {padding-left: .5ex}\n",
              "</style><dl class=dl-inline><dt>1</dt><dd>16236.5046434654</dd><dt>2</dt><dd>16236.5046434654</dd><dt>3</dt><dd>17058.2380217873</dd><dt>4</dt><dd>13771.3045084996</dd><dt>5</dt><dd>20345.171535075</dd></dl>\n"
            ],
            "text/latex": [
              "\\begin{description*}\n",
              "\\item[1] 16236.5046434654\n",
              "\\item[2] 16236.5046434654\n",
              "\\item[3] 17058.2380217873\n",
              "\\item[4] 13771.3045084996\n",
              "\\item[5] 20345.171535075\n",
              "\\end{description*}\n"
            ],
            "text/markdown": [
              "1\n",
              ":   16236.50464346542\n",
              ":   16236.50464346543\n",
              ":   17058.23802178734\n",
              ":   13771.30450849965\n",
              ":   20345.171535075\n",
              "\n"
            ],
            "text/plain": [
              "       1        2        3        4        5 \n",
              "16236.50 16236.50 17058.24 13771.30 20345.17 "
            ]
          },
          "metadata": {},
          "output_type": "display_data"
        }
      ],
      "source": [
        "# Generate predictions\n",
        "yhat <- predict(lm_model, df)\n",
        "\n",
        "# Display the first 5 predicted values\n",
        "head(yhat, 5)\n"
      ]
    },
    {
      "cell_type": "markdown",
      "metadata": {
        "id": "xzqzqEgQSyXy"
      },
      "source": [
        "<h4>What is the value of the intercept (a)?</h4>\n"
      ]
    },
    {
      "cell_type": "code",
      "execution_count": 9,
      "metadata": {
        "colab": {
          "base_uri": "https://localhost:8080/"
        },
        "id": "kvc5W4MGSyXy",
        "outputId": "8cbcaffe-be03-4f6a-b94a-89c3d92800d1",
        "trusted": true,
        "vscode": {
          "languageId": "r"
        }
      },
      "outputs": [
        {
          "name": "stdout",
          "output_type": "stream",
          "text": [
            "[1] \"Intercept: 38423.3058581573\"\n"
          ]
        }
      ],
      "source": [
        "# Get the intercept (a)\n",
        "intercept <- coef(lm_model)[1]\n",
        "print(paste(\"Intercept:\", intercept))\n"
      ]
    },
    {
      "cell_type": "markdown",
      "metadata": {
        "id": "mODH5r9cSyXz"
      },
      "source": [
        "<h4>What is the value of the slope (b)?</h4>\n"
      ]
    },
    {
      "cell_type": "code",
      "execution_count": 10,
      "metadata": {
        "colab": {
          "base_uri": "https://localhost:8080/"
        },
        "id": "54zQg9I0SyXz",
        "outputId": "f35e89f8-f1ca-4096-aea9-3a6b9cf0da37",
        "trusted": true,
        "vscode": {
          "languageId": "r"
        }
      },
      "outputs": [
        {
          "name": "stdout",
          "output_type": "stream",
          "text": [
            "[1] \"Slope: -821.733378321925\"\n"
          ]
        }
      ],
      "source": [
        "# Get the slope (b)\n",
        "slope <- coef(lm_model)[2]\n",
        "print(paste(\"Slope:\", slope))\n"
      ]
    },
    {
      "cell_type": "code",
      "execution_count": 11,
      "metadata": {
        "colab": {
          "base_uri": "https://localhost:8080/"
        },
        "id": "rhusI7Haa-qF",
        "outputId": "551933b0-d21a-47a8-e4a6-db895fd0a9b5",
        "vscode": {
          "languageId": "r"
        }
      },
      "outputs": [
        {
          "name": "stdout",
          "output_type": "stream",
          "text": [
            "Price = 38423.31 + ______ x highway-mpg\n"
          ]
        }
      ],
      "source": [
        "# Print the regression equation\n",
        "cat(\"Price =\", round(intercept, 2), \"+\", \"______\", \"x highway-mpg\\n\")\n"
      ]
    },
    {
      "cell_type": "markdown",
      "metadata": {
        "id": "n2JqLrxsSyXz"
      },
      "source": [
        "### **What is the final estimated linear model we get?**\n",
        "\n",
        "After reviewing the model summary, the final estimated linear regression equation can be expressed in the form:\n",
        "\n",
        "$$\n",
        "\\hat{Y} = a + bX\n",
        "$$\n",
        "\n",
        "Where:\n",
        "- **a** is the intercept (the predicted price when `highway.mpg` is 0).\n",
        "- **b** is the coefficient of `highway.mpg` (how much the price changes for each unit increase in `highway.mpg`).\n",
        "\n",
        "### **Questions to consider:**\n",
        "- Based on the summary, what are the specific values of **a** (intercept) and **b** (slope)?\n",
        "- How would you describe the relationship between `highway.mpg` and `price` based on these values?\n"
      ]
    },
    {
      "cell_type": "markdown",
      "metadata": {
        "id": "AQRDM1BaSyX3"
      },
      "source": [
        "Plugging in the actual values we get:\n"
      ]
    },
    {
      "cell_type": "markdown",
      "metadata": {
        "id": "Q0cQg-4ySyX3"
      },
      "source": [
        "<b>Price</b> =  38423.31 + -821.73 x highway-mpg</b>\n"
      ]
    },
    {
      "cell_type": "markdown",
      "metadata": {
        "id": "aZMBeteyDNaK"
      },
      "source": [
        "\n",
        "\n",
        "\n",
        "\n",
        "```\n",
        "# Complete the question with your answer\n",
        "```\n",
        "\n",
        "\n",
        "\n"
      ]
    },
    {
      "cell_type": "markdown",
      "metadata": {
        "id": "FBKr50iGSyX3"
      },
      "source": [
        "<div class=\"alert alert-danger alertdanger\" style=\"margin-top: 20px\">\n",
        "<h1>Question #1 a): </h1>\n",
        "\n",
        "<b>Create a linear regression object called \"lm1\".</b>\n",
        "<b>Train the model using \"engine-size\" as the independent variable and \"price\" as the dependent variable?</b>\n",
        "\n",
        "</div>\n",
        "\n",
        "</div>\n"
      ]
    },
    {
      "cell_type": "code",
      "execution_count": 12,
      "metadata": {
        "colab": {
          "base_uri": "https://localhost:8080/",
          "height": 329
        },
        "id": "z5ONjI6tSyX4",
        "outputId": "c27fac57-d3b7-4a65-86dc-fc6d806100f0",
        "trusted": true,
        "vscode": {
          "languageId": "r"
        }
      },
      "outputs": [
        {
          "data": {
            "text/plain": [
              "\n",
              "Call:\n",
              "lm(formula = price ~ engine.size, data = df)\n",
              "\n",
              "Residuals:\n",
              "     Min       1Q   Median       3Q      Max \n",
              "-10433.0  -2249.4   -469.8   1370.6  14404.6 \n",
              "\n",
              "Coefficients:\n",
              "             Estimate Std. Error t value Pr(>|t|)    \n",
              "(Intercept) -7963.339    884.835   -9.00   <2e-16 ***\n",
              "engine.size   166.860      6.629   25.17   <2e-16 ***\n",
              "---\n",
              "Signif. codes:  0 '***' 0.001 '**' 0.01 '*' 0.05 '.' 0.1 ' ' 1\n",
              "\n",
              "Residual standard error: 3895 on 199 degrees of freedom\n",
              "Multiple R-squared:  0.761,\tAdjusted R-squared:  0.7598 \n",
              "F-statistic: 633.5 on 1 and 199 DF,  p-value: < 2.2e-16\n"
            ]
          },
          "metadata": {},
          "output_type": "display_data"
        },
        {
          "name": "stdout",
          "output_type": "stream",
          "text": [
            "[1] \"Price =  -7963.33890628109  +  166.860015691416  * engine.size\"\n"
          ]
        }
      ],
      "source": [
        "# Create a linear regression model for engine.size\n",
        "lm_model_engine <- lm(price ~ engine.size, data = df)\n",
        "\n",
        "# View the summary of the model\n",
        "summary(lm_model_engine)\n",
        "# Get the intercept\n",
        "intercept <- coef(lm_model_engine)[1]\n",
        "\n",
        "# Get the slope (coefficient for engine.size)\n",
        "slope <- coef(lm_model_engine)[2]\n",
        "\n",
        "# Display the regression equation\n",
        "print(paste(\"Price = \", intercept, \" + \", slope, \" * engine.size\"))\n"
      ]
    },
    {
      "cell_type": "markdown",
      "metadata": {
        "id": "ALUoZMGqSyX4"
      },
      "source": [
        "<div class=\"alert alert-danger alertdanger\" style=\"margin-top: 20px\">\n",
        "<h1>Question #1 b:</h1>\n",
        "\n",
        "<b>Find the slope and intercept of the model.</b>\n",
        "\n",
        "</div>\n"
      ]
    },
    {
      "cell_type": "markdown",
      "metadata": {
        "id": "3VI7rgeuSyX4"
      },
      "source": [
        "<h4>Slope</h4>\n"
      ]
    },
    {
      "cell_type": "code",
      "execution_count": 14,
      "metadata": {
        "colab": {
          "base_uri": "https://localhost:8080/",
          "height": 34
        },
        "id": "fRwyRebmSyX4",
        "outputId": "5470e288-e4f4-405f-da7a-2086f786683c",
        "trusted": true,
        "vscode": {
          "languageId": "r"
        }
      },
      "outputs": [
        {
          "data": {
            "text/html": [
              "<strong>engine.size:</strong> 166.860015691416"
            ],
            "text/latex": [
              "\\textbf{engine.size:} 166.860015691416"
            ],
            "text/markdown": [
              "**engine.size:** 166.860015691416"
            ],
            "text/plain": [
              "engine.size \n",
              "     166.86 "
            ]
          },
          "metadata": {},
          "output_type": "display_data"
        }
      ],
      "source": [
        "# Fit a linear regression model using engine.size as the predictor\n",
        "lm1 <- lm(price ~ engine.size, data = df)\n",
        "\n",
        "# Find the value of the slope (coefficient for engine.size)\n",
        "slope_engine <- coef(lm1)[2]\n",
        "slope_engine\n"
      ]
    },
    {
      "cell_type": "markdown",
      "metadata": {
        "id": "b3qDaSRESyX5"
      },
      "source": [
        "<h4>Intercept</h4>\n"
      ]
    },
    {
      "cell_type": "code",
      "execution_count": 16,
      "metadata": {
        "colab": {
          "base_uri": "https://localhost:8080/",
          "height": 34
        },
        "id": "Ml58Ses1SyX5",
        "outputId": "9dff3821-bd3e-4812-fb47-8c08cfe34c11",
        "trusted": true,
        "vscode": {
          "languageId": "r"
        }
      },
      "outputs": [
        {
          "data": {
            "text/html": [
              "<strong>(Intercept):</strong> -7963.33890628109"
            ],
            "text/latex": [
              "\\textbf{(Intercept):} -7963.33890628109"
            ],
            "text/markdown": [
              "**(Intercept):** -7963.33890628109"
            ],
            "text/plain": [
              "(Intercept) \n",
              "  -7963.339 "
            ]
          },
          "metadata": {},
          "output_type": "display_data"
        }
      ],
      "source": [
        "# Giá trị của hằng số (intercept)\n",
        "intercept_engine <- coef(lm1)[1]\n",
        "intercept_engine\n"
      ]
    },
    {
      "cell_type": "code",
      "execution_count": 18,
      "metadata": {
        "colab": {
          "base_uri": "https://localhost:8080/"
        },
        "id": "5WPgK6-SbzdL",
        "outputId": "7002e252-2f0d-4ddb-f5f9-ee95f7cfe739",
        "vscode": {
          "languageId": "r"
        }
      },
      "outputs": [
        {
          "name": "stdout",
          "output_type": "stream",
          "text": [
            "Price = -7963.34 + 166.86 x engine.size\n"
          ]
        }
      ],
      "source": [
        "# Find the value of the intercept\n",
        "intercept_engine <- coef(lm1)[1]\n",
        "\n",
        "# Print the regression equation\n",
        "cat(\"Price =\", round(intercept_engine, 2), \"+\",\n",
        "    round(slope_engine, 2), \"x engine.size\\n\")\n"
      ]
    },
    {
      "cell_type": "code",
      "execution_count": 20,
      "metadata": {
        "colab": {
          "base_uri": "https://localhost:8080/",
          "height": 34
        },
        "id": "YdiTQtPAb27v",
        "outputId": "96c090a5-28e5-4733-b0ea-bc347f5b7029",
        "vscode": {
          "languageId": "r"
        }
      },
      "outputs": [
        {
          "data": {
            "text/html": [
              "<style>\n",
              ".dl-inline {width: auto; margin:0; padding: 0}\n",
              ".dl-inline>dt, .dl-inline>dd {float: none; width: auto; display: inline-block}\n",
              ".dl-inline>dt::after {content: \":\\0020\"; padding-right: .5ex}\n",
              ".dl-inline>dt:not(:first-of-type) {padding-left: .5ex}\n",
              "</style><dl class=dl-inline><dt>1</dt><dd>13728.463133603</dd><dt>2</dt><dd>13728.463133603</dd><dt>3</dt><dd>17399.3834788142</dd><dt>4</dt><dd>10224.4028040833</dd><dt>5</dt><dd>14729.6232277515</dd><dt>6</dt><dd>14729.6232277515</dd></dl>\n"
            ],
            "text/latex": [
              "\\begin{description*}\n",
              "\\item[1] 13728.463133603\n",
              "\\item[2] 13728.463133603\n",
              "\\item[3] 17399.3834788142\n",
              "\\item[4] 10224.4028040833\n",
              "\\item[5] 14729.6232277515\n",
              "\\item[6] 14729.6232277515\n",
              "\\end{description*}\n"
            ],
            "text/markdown": [
              "1\n",
              ":   13728.4631336032\n",
              ":   13728.4631336033\n",
              ":   17399.38347881424\n",
              ":   10224.40280408335\n",
              ":   14729.62322775156\n",
              ":   14729.6232277515\n",
              "\n"
            ],
            "text/plain": [
              "       1        2        3        4        5        6 \n",
              "13728.46 13728.46 17399.38 10224.40 14729.62 14729.62 "
            ]
          },
          "metadata": {},
          "output_type": "display_data"
        }
      ],
      "source": [
        "# Calculate the predicted prices\n",
        "price_predicted <- predict(lm1, df)\n",
        "\n",
        "# Display the first few predicted values\n",
        "head(price_predicted)\n"
      ]
    },
    {
      "cell_type": "markdown",
      "metadata": {
        "id": "Maict1spSyX5"
      },
      "source": [
        "<div class=\"alert alert-danger alertdanger\" style=\"margin-top: 20px\">\n",
        "<h1>Question #1 c): </h1>\n",
        "\n",
        "<b>What is the equation of the predicted line? You can use x and yhat or \"engine-size\" or \"price\".</b>\n",
        "\n",
        "</div>\n"
      ]
    },
    {
      "cell_type": "code",
      "execution_count": 32,
      "metadata": {
        "colab": {
          "base_uri": "https://localhost:8080/",
          "height": 416
        },
        "id": "sxg8a_YjSyX6",
        "outputId": "e75ea178-2587-4cab-82c2-38b70c080d72",
        "trusted": true,
        "vscode": {
          "languageId": "r"
        }
      },
      "outputs": [
        {
          "name": "stdout",
          "output_type": "stream",
          "text": [
            "Price = -7963.34 + 166.86 x engine.size\n"
          ]
        },
        {
          "data": {
            "text/html": [
              "<style>\n",
              ".list-inline {list-style: none; margin:0; padding: 0}\n",
              ".list-inline>li {display: inline-block}\n",
              ".list-inline>li:not(:last-child)::after {content: \"\\00b7\"; padding: 0 .5ex}\n",
              "</style>\n",
              "<ol class=list-inline><li>13728.463133603</li><li>13728.463133603</li><li>17399.3834788142</li><li>10224.4028040833</li><li>14729.6232277515</li><li>14729.6232277515</li></ol>\n"
            ],
            "text/latex": [
              "\\begin{enumerate*}\n",
              "\\item 13728.463133603\n",
              "\\item 13728.463133603\n",
              "\\item 17399.3834788142\n",
              "\\item 10224.4028040833\n",
              "\\item 14729.6232277515\n",
              "\\item 14729.6232277515\n",
              "\\end{enumerate*}\n"
            ],
            "text/markdown": [
              "1. 13728.463133603\n",
              "2. 13728.463133603\n",
              "3. 17399.3834788142\n",
              "4. 10224.4028040833\n",
              "5. 14729.6232277515\n",
              "6. 14729.6232277515\n",
              "\n",
              "\n"
            ],
            "text/plain": [
              "[1] 13728.46 13728.46 17399.38 10224.40 14729.62 14729.62"
            ]
          },
          "metadata": {},
          "output_type": "display_data"
        },
        {
          "data": {
            "image/png": "[encoded data removed]",
            "text/plain": [
              "Plot with title \"Predicted Values vs Engine Size\""
            ]
          },
          "metadata": {
            "image/png": {
              "height": 420,
              "width": 420
            }
          },
          "output_type": "display_data"
        }
      ],
      "source": [
        "# Fit a linear regression model using engine.size as the predictor\n",
        "lm1 <- lm(price ~ engine.size, data = df)\n",
        "\n",
        "# Find the value of the slope and intercept\n",
        "slope <- coef(lm1)[2]\n",
        "intercept <- coef(lm1)[1]\n",
        "\n",
        "# Define X using df$engine.size\n",
        "X <- df$engine.size  # Fill in this part\n",
        "\n",
        "# Calculate predictions using X\n",
        "Yhat <- intercept + slope * X\n",
        "\n",
        "# Print the prediction equation\n",
        "cat(\"Price =\", round(intercept, 2), \"+\", round(slope, 2), \"x engine.size\\n\")\n",
        "\n",
        "# Check the predicted results\n",
        "head(Yhat)\n",
        "\n",
        "# Plot to illustrate with a white background\n",
        "plot(X, Yhat, main = \"Predicted Values vs Engine Size\",\n",
        "     xlab = \"Engine Size\", ylab = \"Predicted Price\",\n",
        "     col = \"blue\", pch = 19, bg = \"white\", ylim = range(df$price))\n",
        "points(df$engine.size, df$price, col = \"red\", pch = 1)  # Add actual price points\n",
        "abline(lm1, col = \"green\")  # Add the regression line\n",
        "legend(\"topleft\", legend = c(\"Predicted Price\", \"Actual Price\"), \n",
        "       col = c(\"blue\", \"red\"), pch = c(19, 1))"
      ]
    },
    {
      "cell_type": "markdown",
      "metadata": {
        "id": "K46NMyCuSyX7"
      },
      "source": [
        "### **Multiple Linear Regression**\n",
        "\n",
        "#### **What if we want to predict car price using more than one variable?**\n",
        "\n",
        "If we want to use more variables in our model to predict car price, we can use **Multiple Linear Regression**.\n",
        "\n",
        "Multiple Linear Regression is similar to Simple Linear Regression, but it explains the relationship between one continuous response (dependent) variable and **two or more** predictor (independent) variables. Most real-world regression models involve multiple predictors. We will demonstrate the structure using four predictor variables, but the results can generalize to any number of predictors:\n",
        "\n",
        "$$\n",
        "Y: \\text{Response Variable} \\\\\n",
        "X_1: \\text{Predictor Variable 1} \\\\\n",
        "X_2: \\text{Predictor Variable 2} \\\\\n",
        "X_3: \\text{Predictor Variable 3} \\\\\n",
        "X_4: \\text{Predictor Variable 4}\n",
        "$$\n",
        "\n",
        "Where:\n",
        "- **a**: intercept\n",
        "- **b₁**: coefficient of Variable 1\n",
        "- **b₂**: coefficient of Variable 2\n",
        "- **b₃**: coefficient of Variable 3\n",
        "- **b₄**: coefficient of Variable 4\n",
        "\n",
        "The equation for the Multiple Linear Regression model is given by:\n",
        "\n",
        "$$\n",
        "\\hat{Y} = a + b₁ X₁ + b₂ X₂ + b₃ X₃ + b₄ X₄\n",
        "$$\n",
        "\n",
        "#### **Predictors for Car Price**\n",
        "\n",
        "From the previous analysis, we know that good predictors of car price could be:\n",
        "- Horsepower\n",
        "- Curb-weight\n",
        "- Engine-size\n",
        "- Highway-mpg\n",
        "\n",
        "Let's develop a model using these variables as the predictors.\n",
        "\n"
      ]
    },
    {
      "cell_type": "code",
      "execution_count": 33,
      "metadata": {
        "colab": {
          "base_uri": "https://localhost:8080/",
          "height": 399
        },
        "id": "ukOsw14OcizG",
        "outputId": "e8f0f47f-1422-4133-9c19-a0f3f1d2c075",
        "vscode": {
          "languageId": "r"
        }
      },
      "outputs": [
        {
          "data": {
            "text/plain": [
              "\n",
              "Call:\n",
              "lm(formula = price ~ horsepower + curb.weight + engine.size + \n",
              "    highway.mpg, data = df)\n",
              "\n",
              "Residuals:\n",
              "    Min      1Q  Median      3Q     Max \n",
              "-8992.6 -1647.2   -70.7  1323.9 13640.3 \n",
              "\n",
              "Coefficients:\n",
              "              Estimate Std. Error t value Pr(>|t|)    \n",
              "(Intercept) -15806.625   4388.993  -3.601 0.000401 ***\n",
              "horsepower      53.496     14.727   3.632 0.000358 ***\n",
              "curb.weight      4.708      1.119   4.207 3.94e-05 ***\n",
              "engine.size     81.530     14.064   5.797 2.66e-08 ***\n",
              "highway.mpg     36.057     74.167   0.486 0.627390    \n",
              "---\n",
              "Signif. codes:  0 '***' 0.001 '**' 0.01 '*' 0.05 '.' 0.1 ' ' 1\n",
              "\n",
              "Residual standard error: 3505 on 196 degrees of freedom\n",
              "Multiple R-squared:  0.8094,\tAdjusted R-squared:  0.8055 \n",
              "F-statistic:   208 on 4 and 196 DF,  p-value: < 2.2e-16\n"
            ]
          },
          "metadata": {},
          "output_type": "display_data"
        }
      ],
      "source": [
        "# Tạo mô hình hồi quy đa biến\n",
        "multi_model <- lm(price ~ horsepower + curb.weight + engine.size + highway.mpg, data = df)\n",
        "\n",
        "# Xem tóm tắt mô hình\n",
        "summary(multi_model)\n"
      ]
    },
    {
      "cell_type": "markdown",
      "metadata": {
        "id": "CT62_6X6SyX7"
      },
      "source": [
        "Fit the linear model using the four above-mentioned variables.\n"
      ]
    },
    {
      "cell_type": "code",
      "execution_count": 35,
      "metadata": {
        "colab": {
          "base_uri": "https://localhost:8080/",
          "height": 34
        },
        "id": "dzAcMczCSyX7",
        "outputId": "726d2184-dfb9-401b-a33a-422246d83785",
        "trusted": true,
        "vscode": {
          "languageId": "r"
        }
      },
      "outputs": [
        {
          "data": {
            "text/html": [
              "<style>\n",
              ".dl-inline {width: auto; margin:0; padding: 0}\n",
              ".dl-inline>dt, .dl-inline>dd {float: none; width: auto; display: inline-block}\n",
              ".dl-inline>dt::after {content: \":\\0020\"; padding-right: .5ex}\n",
              ".dl-inline>dt:not(:first-of-type) {padding-left: .5ex}\n",
              "</style><dl class=dl-inline><dt>1</dt><dd>13699.1116118432</dd><dt>2</dt><dd>13699.1116118432</dd><dt>3</dt><dd>19051.6547023327</dd><dt>4</dt><dd>10620.3619301489</dd><dt>5</dt><dd>15521.3142021058</dd><dt>6</dt><dd>13869.6667321324</dd></dl>\n"
            ],
            "text/latex": [
              "\\begin{description*}\n",
              "\\item[1] 13699.1116118432\n",
              "\\item[2] 13699.1116118432\n",
              "\\item[3] 19051.6547023327\n",
              "\\item[4] 10620.3619301489\n",
              "\\item[5] 15521.3142021058\n",
              "\\item[6] 13869.6667321324\n",
              "\\end{description*}\n"
            ],
            "text/markdown": [
              "1\n",
              ":   13699.11161184322\n",
              ":   13699.11161184323\n",
              ":   19051.65470233274\n",
              ":   10620.36193014895\n",
              ":   15521.31420210586\n",
              ":   13869.6667321324\n",
              "\n"
            ],
            "text/plain": [
              "       1        2        3        4        5        6 \n",
              "13699.11 13699.11 19051.65 10620.36 15521.31 13869.67 "
            ]
          },
          "metadata": {},
          "output_type": "display_data"
        }
      ],
      "source": [
        "# Tạo mô hình hồi quy đa biến\n",
        "multi_model <- lm(price ~ horsepower + curb.weight + engine.size + highway.mpg, data = df)\n",
        "\n",
        "# Tạo dự đoán\n",
        "y_pred <- predict(multi_model, newdata = df)\n",
        "\n",
        "# Xem các giá trị dự đoán đầu tiên\n",
        "head(y_pred)\n"
      ]
    },
    {
      "cell_type": "markdown",
      "metadata": {
        "id": "YHmRc_fuSyX7"
      },
      "source": [
        "What is the value of the intercept(a)?\n"
      ]
    },
    {
      "cell_type": "code",
      "execution_count": 36,
      "metadata": {
        "colab": {
          "base_uri": "https://localhost:8080/"
        },
        "id": "PsZxTFyqSyX7",
        "outputId": "5b616e8d-3823-4be6-a0ea-1b0606ede330",
        "trusted": true,
        "vscode": {
          "languageId": "r"
        }
      },
      "outputs": [
        {
          "name": "stdout",
          "output_type": "stream",
          "text": [
            "[1] \"Intercept: -15806.62\"\n"
          ]
        }
      ],
      "source": [
        "# Tạo mô hình hồi quy đa biến\n",
        "multi_model <- lm(price ~ horsepower + curb.weight + engine.size + highway.mpg, data = df)\n",
        "\n",
        "# Lấy giá trị intercept\n",
        "multi_intercept <- coef(multi_model)[1]\n",
        "\n",
        "# In giá trị intercept\n",
        "print(paste(\"Intercept:\", round(multi_intercept, 2)))\n"
      ]
    },
    {
      "cell_type": "markdown",
      "metadata": {
        "id": "zeHynDRBSyX8"
      },
      "source": [
        "What are the values of the coefficients (b1, b2, b3, b4)?\n"
      ]
    },
    {
      "cell_type": "code",
      "execution_count": 37,
      "metadata": {
        "colab": {
          "base_uri": "https://localhost:8080/"
        },
        "id": "geJ02B27SyX8",
        "outputId": "ec598a38-aa46-4b4e-fdae-7b81229a132b",
        "trusted": true,
        "vscode": {
          "languageId": "r"
        }
      },
      "outputs": [
        {
          "name": "stdout",
          "output_type": "stream",
          "text": [
            "[1] \"horsepower coefficient: 53.5\"\n",
            "[1] \"curb.weight coefficient: 4.71\"\n",
            "[1] \"engine.size coefficient: 81.53\"\n",
            "[1] \"highway.mpg coefficient: 36.06\"\n"
          ]
        }
      ],
      "source": [
        "# Tạo mô hình hồi quy đa biến\n",
        "multi_model <- lm(price ~ horsepower + curb.weight + engine.size + highway.mpg, data = df)\n",
        "\n",
        "# Lấy các hệ số\n",
        "coefficients <- coef(multi_model)\n",
        "\n",
        "# Lấy tên của các biến độc lập (predictors)\n",
        "names_predictors <- names(coefficients)[-1]  # Exclude intercept\n",
        "\n",
        "# In các hệ số\n",
        "for (i in 1:length(names_predictors)) {\n",
        "    print(paste(names_predictors[i], \"coefficient:\", round(coefficients[i + 1], 2)))  # i + 1 to skip intercept\n",
        "}\n"
      ]
    },
    {
      "cell_type": "code",
      "execution_count": 38,
      "metadata": {
        "colab": {
          "base_uri": "https://localhost:8080/"
        },
        "id": "3SZRZ-rXeE29",
        "outputId": "c78aad10-6457-4591-9bcf-2ece6f360727",
        "vscode": {
          "languageId": "r"
        }
      },
      "outputs": [
        {
          "name": "stdout",
          "output_type": "stream",
          "text": [
            "[1] \"Price = -15806.62 + 53.5 * horsepower + 4.71 * curb.weight + 81.53 * engine.size + 36.06 * highway.mpg\"\n",
            "[1] \"horsepower coefficient: 53.5\"\n",
            "[1] \"curb.weight coefficient: 4.71\"\n",
            "[1] \"engine.size coefficient: 81.53\"\n",
            "[1] \"highway.mpg coefficient: 36.06\"\n"
          ]
        }
      ],
      "source": [
        "# Tạo mô hình hồi quy đa biến\n",
        "multi_model <- lm(price ~ horsepower + curb.weight + engine.size + highway.mpg, data = df)\n",
        "\n",
        "# Lấy các hệ số\n",
        "coefficients <- coef(multi_model)\n",
        "\n",
        "# In ra phương trình hồi quy\n",
        "regression_equation <- paste(\"Price =\", round(coefficients[1], 2), \n",
        "                              \"+\", round(coefficients[2], 2), \"* horsepower\", \n",
        "                              \"+\", round(coefficients[3], 2), \"* curb.weight\", \n",
        "                              \"+\", round(coefficients[4], 2), \"* engine.size\", \n",
        "                              \"+\", round(coefficients[5], 2), \"* highway.mpg\")\n",
        "print(regression_equation)\n",
        "\n",
        "# In ra các hệ số của từng biến\n",
        "names_predictors <- names(coefficients)[-1]  # Exclude intercept\n",
        "for (i in seq_along(names_predictors)) {\n",
        "    print(paste(names_predictors[i], \"coefficient:\", round(coefficients[i + 1], 2)))  # +1 to account for intercept\n",
        "}\n"
      ]
    },
    {
      "cell_type": "markdown",
      "metadata": {
        "id": "O9sEvKKxSyX8"
      },
      "source": [
        "### **Final Estimated Linear Model**\n",
        "\n",
        "From the results of the Multiple Linear Regression, we derived the following regression equation for predicting the car price:\n",
        "\n",
        "**Price** = -15806.62 + 53.5 * horsepower + 4.71 * curb.weight + 81.53 * engine.size + 36.06 * highway.mpg\n",
        "\n",
        "#### **Intercept and Coefficients:**\n",
        "- **Intercept (a)** = -15806.62: This is the value of the car price when all predictor variables are 0.\n",
        "- **horsepower (b₁)** = 53.5: For every 1-unit increase in horsepower, the car price increases by 53.5 units, holding all other variables constant.\n",
        "- **curb.weight (b₂)** = 4.71: For every 1-unit increase in curb weight, the car price increases by 4.71 units, holding all other variables constant.\n",
        "- **engine.size (b₃)** = 81.53: For every 1-unit increase in engine size, the car price increases by 81.53 units, holding all other variables constant.\n",
        "- **highway.mpg (b₄)** = 36.06: For every 1-unit increase in highway miles per gallon (MPG), the car price increases by 36.06 units, holding all other variables constant.\n",
        "\n",
        "#### **Final Linear Function**\n",
        "\n",
        "The final linear function we obtained in this example is:\n",
        "\n",
        "$$\n",
        "\\hat{Y} = -15806.62 + 53.5 \\times X_1 + 4.71 \\times X_2 + 81.53 \\times X_3 + 36.06 \\times X_4\n",
        "$$\n",
        "\n",
        "Where:\n",
        "- \\( X_1 \\): horsepower\n",
        "- \\( X_2 \\): curb weight\n",
        "- \\( X_3 \\): engine size\n",
        "- \\( X_4 \\): highway mpg\n",
        "\n",
        "This equation allows us to estimate the car price based on these four predictors.\n"
      ]
    },
    {
      "cell_type": "markdown",
      "metadata": {
        "id": "D46nVkjGSyX8"
      },
      "source": [
        "### Question #2 a): Creating and Training a Multiple Linear Regression Model\n",
        "\n",
        "Create and train a Multiple Linear Regression model named **\"lm2\"** where the response variable is `price`, and the predictor variables are `normalized.losses` and `highway.mpg`.\n",
        "\n",
        "Here’s how we can build the model:"
      ]
    },
    {
      "cell_type": "code",
      "execution_count": 39,
      "metadata": {
        "colab": {
          "base_uri": "https://localhost:8080/",
          "height": 34
        },
        "id": "4BA8m9aCSyX8",
        "outputId": "da19bb4a-f864-43b4-e8b8-8fb66cb22959",
        "trusted": true,
        "vscode": {
          "languageId": "r"
        }
      },
      "outputs": [
        {
          "name": "stdout",
          "output_type": "stream",
          "text": [
            "      (Intercept) normalized.losses       highway.mpg \n",
            "     38201.313272          1.497896       -820.454340 \n"
          ]
        }
      ],
      "source": [
        "# Tạo mô hình hồi quy với normalized-losses và highway-mpg\n",
        "lm2 <- lm(price ~ normalized.losses + highway.mpg, data = df)\n",
        "\n",
        "# In hệ số\n",
        "coefficients_lm2 <- coef(lm2)\n",
        "print(coefficients_lm2)\n"
      ]
    },
    {
      "cell_type": "markdown",
      "metadata": {
        "id": "LzAQ6kKlSyX9"
      },
      "source": [
        "## Question #2 b): Finding the Coefficients of the Model\n",
        "After training the model, we can find the coefficients (the intercept and the coefficients for the predictor variables). These coefficients tell us how much the response variable (price) changes with a one-unit change in each predictor variable (normalized.losses and highway.mpg).\n"
      ]
    },
    {
      "cell_type": "code",
      "execution_count": 40,
      "metadata": {
        "colab": {
          "base_uri": "https://localhost:8080/"
        },
        "id": "s8f5mxhySyX9",
        "outputId": "51c14d4f-72cd-4cb2-9db4-ff111138d787",
        "trusted": true,
        "vscode": {
          "languageId": "r"
        }
      },
      "outputs": [
        {
          "name": "stdout",
          "output_type": "stream",
          "text": [
            "[1] \"Intercept: 38201.31\"\n"
          ]
        }
      ],
      "source": [
        "# Lấy giá trị intercept\n",
        "intercept_lm2 <- coef(lm2)[1]\n",
        "\n",
        "# In giá trị intercept\n",
        "print(paste(\"Intercept:\", round(intercept_lm2, 2)))\n"
      ]
    },
    {
      "cell_type": "code",
      "execution_count": 42,
      "metadata": {
        "colab": {
          "base_uri": "https://localhost:8080/"
        },
        "id": "fPquEhRBijwQ",
        "outputId": "bb801d5e-9b88-4808-ea63-8e645bb275ea",
        "vscode": {
          "languageId": "r"
        }
      },
      "outputs": [
        {
          "name": "stdout",
          "output_type": "stream",
          "text": [
            "      (Intercept) normalized.losses       highway.mpg \n",
            "     38201.313272          1.497896       -820.454340 \n"
          ]
        }
      ],
      "source": [
        "# Lấy các hệ số\n",
        "coefficients_lm2 <- coef(lm2)\n",
        "\n",
        "# In ra các hệ số\n",
        "print(coefficients_lm2)\n"
      ]
    },
    {
      "cell_type": "markdown",
      "metadata": {
        "id": "syUSCKmJSyX9"
      },
      "source": [
        "## **2. Model Evaluation Using Visualization**\n",
        "\n",
        "Now that we've developed some models, how do we evaluate them and choose the best one? One effective way to assess the performance of a model is through **visualization**.\n",
        "\n",
        "Visualizations can help us:\n",
        "- Understand the accuracy of the model.\n",
        "- Compare the predicted values to the actual values.\n",
        "- Identify any patterns or inconsistencies in the model's predictions.\n",
        "\n",
        "### **Residual Plot**\n",
        "A residual plot is a useful tool for evaluating the fit of a regression model. It shows the residuals (the difference between actual and predicted values) on the y-axis and the predicted values on the x-axis.\n",
        "\n",
        "- **Good fit**: Residuals are randomly scattered around 0 without any clear pattern.\n",
        "- **Bad fit**: Residuals show a pattern, indicating that the model may not be capturing all aspects of the relationship.\n",
        "\n",
        "Here’s how we can create a residual plot:\n",
        "\n",
        "```r\n",
        "# Create residuals from the model\n",
        "residuals <- lm2$residuals\n",
        "\n",
        "# Create a scatter plot of residuals vs fitted values\n",
        "plot(lm2$fitted.values, residuals,\n",
        "     xlab = 'Fitted Values',\n",
        "     ylab = 'Residuals',\n",
        "     main = 'Residual Plot')\n",
        "\n",
        "# Add a horizontal line at 0\n",
        "abline(h = 0, col = \"red\", lwd = 2)\n"
      ]
    },
    {
      "cell_type": "markdown",
      "metadata": {
        "id": "y88xisUCF7zt"
      },
      "source": [
        "Style 1"
      ]
    },
    {
      "cell_type": "code",
      "execution_count": 45,
      "metadata": {
        "colab": {
          "base_uri": "https://localhost:8080/",
          "height": 437
        },
        "id": "ifPHL8GHFzDC",
        "outputId": "c928cea2-ea97-482e-f933-ca507056911c",
        "vscode": {
          "languageId": "r"
        }
      },
      "outputs": [
        {
          "data": {
            "image/png": "[encoded data removed]",
            "text/plain": [
              "plot without title"
            ]
          },
          "metadata": {
            "image/png": {
              "height": 420,
              "width": 420
            }
          },
          "output_type": "display_data"
        },
        {
          "data": {
            "image/png": "[encoded data removed]",
            "text/plain": [
              "plot without title"
            ]
          },
          "metadata": {
            "image/png": {
              "height": 420,
              "width": 420
            }
          },
          "output_type": "display_data"
        }
      ],
      "source": [
        "# Tạo mô hình hồi quy với normalized-losses và highway-mpg\n",
        "lm2 <- lm(price ~ normalized.losses + highway.mpg, data = df)\n",
        "\n",
        "# Tạo dự đoán\n",
        "y_pred <- predict(lm2, newdata = df)\n",
        "\n",
        "# Tạo data frame với giá trị thực và giá trị dự đoán\n",
        "comparison_df <- data.frame(Actual = df$price, Predicted = y_pred)\n",
        "\n",
        "# 1. Plot the actual vs predicted distributions\n",
        "library(ggplot2)\n",
        "\n",
        "# Vẽ biểu đồ phân phối\n",
        "ggplot(comparison_df, aes(x = Actual)) +\n",
        "    geom_density(aes(y = ..density..), fill = \"blue\", alpha = 0.5) +\n",
        "    geom_density(aes(x = Predicted, y = ..density..), fill = \"red\", alpha = 0.5) +\n",
        "    labs(title = \"Actual vs Predicted Price Distributions\",\n",
        "         x = \"Price\",\n",
        "         y = \"Density\") +\n",
        "    theme_minimal() +\n",
        "    theme(plot.background = element_rect(fill = \"white\"))\n",
        "\n",
        "# 2. Residual plot\n",
        "# Tính toán residuals\n",
        "residuals <- comparison_df$Actual - comparison_df$Predicted\n",
        "\n",
        "# Thêm residuals vào data frame\n",
        "comparison_df$Residuals <- residuals\n",
        "\n",
        "# Vẽ biểu đồ residual\n",
        "ggplot(comparison_df, aes(x = Predicted, y = Residuals)) +\n",
        "    geom_point(alpha = 0.6) +\n",
        "    geom_hline(yintercept = 0, linetype = \"dashed\", color = \"red\") +\n",
        "    labs(title = \"Residual Plot\",\n",
        "         x = \"Predicted Prices\",\n",
        "         y = \"Residuals\") +\n",
        "    theme_minimal() +\n",
        "    theme(plot.background = element_rect(fill = \"white\"))\n"
      ]
    },
    {
      "cell_type": "markdown",
      "metadata": {
        "id": "bB1d-YNMt_Fc"
      },
      "source": [
        "Style 2"
      ]
    },
    {
      "cell_type": "code",
      "execution_count": 44,
      "metadata": {
        "colab": {
          "base_uri": "https://localhost:8080/",
          "height": 437
        },
        "id": "L703xp9ts6Zz",
        "outputId": "ac07fa5d-4fa7-44e6-df15-a0b7518ffa25",
        "vscode": {
          "languageId": "r"
        }
      },
      "outputs": [
        {
          "data": {
            "image/png": "[encoded data removed]",
            "text/plain": [
              "plot without title"
            ]
          },
          "metadata": {
            "image/png": {
              "height": 420,
              "width": 420
            }
          },
          "output_type": "display_data"
        }
      ],
      "source": [
        "# Tạo data frame với 50 mẫu đầu tiên\n",
        "comparison_df <- data.frame(\n",
        "  Actual = df$price[1:50],\n",
        "  Predicted = predict(lm2)[1:50]\n",
        ")\n",
        "\n",
        "# Thêm cột index\n",
        "comparison_df$Index <- 1:50\n",
        "\n",
        "# Chuyển đổi data format (chỉ cần nếu cần thiết cho biểu đồ)\n",
        "# So with the data as-is, we can use it directly for plotting.\n",
        "\n",
        "# Vẽ biểu đồ đường\n",
        "library(ggplot2)\n",
        "\n",
        "# Chuyển đổi data frame từ dạng rộng sang dạng dài nếu cần\n",
        "# comparison_long <- reshape2::melt(comparison_df, id.vars = \"Index\")\n",
        "\n",
        "# Vẽ biểu đồ\n",
        "ggplot(comparison_df, aes(x = Index)) +\n",
        "  geom_line(aes(y = Actual, color = \"Actual\"), size = 1) +\n",
        "  geom_line(aes(y = Predicted, color = \"Predicted\"), size = 1, linetype = \"dashed\") +\n",
        "  labs(title = \"Actual vs Predicted Prices for First 50 Samples\",\n",
        "       x = \"Index\",\n",
        "       y = \"Price\") +\n",
        "  scale_color_manual(values = c(\"Actual\" = \"blue\", \"Predicted\" = \"red\")) +\n",
        "  theme_minimal() +\n",
        "  theme(plot.background = element_rect(fill = \"white\"))\n"
      ]
    },
    {
      "cell_type": "markdown",
      "metadata": {
        "id": "zBkrivNzuAtT"
      },
      "source": [
        "Style 3"
      ]
    },
    {
      "cell_type": "code",
      "execution_count": null,
      "metadata": {
        "id": "H-4PuwR7SyX-",
        "trusted": true,
        "vscode": {
          "languageId": "r"
        }
      },
      "outputs": [],
      "source": [
        "# Load required libraries\n",
        "library(ggplot2)\n",
        "library(stats)"
      ]
    },
    {
      "cell_type": "markdown",
      "metadata": {
        "id": "RyS8OAESSyX-"
      },
      "source": [
        "<h3>Regression Plot</h3>\n"
      ]
    },
    {
      "cell_type": "markdown",
      "metadata": {
        "id": "iIm-YKwySyX-"
      },
      "source": [
        "<p>When it comes to simple linear regression, an excellent way to visualize the fit of our model is by using <b>regression plots</b>.</p>\n",
        "\n",
        "<p>This plot will show a combination of a scattered data points (a <b>scatterplot</b>), as well as the fitted <b>linear regression</b> line going through the data. This will give us a reasonable estimate of the relationship between the two variables, the strength of the correlation, as well as the direction (positive or negative correlation).</p>\n"
      ]
    },
    {
      "cell_type": "markdown",
      "metadata": {
        "id": "xgIJ9zIySyX-"
      },
      "source": [
        "Let's visualize **highway-mpg** as potential predictor variable of price:\n"
      ]
    },
    {
      "cell_type": "code",
      "execution_count": 47,
      "metadata": {
        "colab": {
          "base_uri": "https://localhost:8080/",
          "height": 454
        },
        "id": "4SE0AkZ0SyX-",
        "outputId": "7f8e9904-da8a-4c73-ca00-b3b15356a263",
        "trusted": true,
        "vscode": {
          "languageId": "r"
        }
      },
      "outputs": [
        {
          "name": "stderr",
          "output_type": "stream",
          "text": [
            "\u001b[1m\u001b[22m`geom_smooth()` using formula = 'y ~ x'\n"
          ]
        },
        {
          "data": {
            "image/png": "[encoded data removed]",
            "text/plain": [
              "plot without title"
            ]
          },
          "metadata": {
            "image/png": {
              "height": 420,
              "width": 420
            }
          },
          "output_type": "display_data"
        }
      ],
      "source": [
        "# Load necessary library\n",
        "library(ggplot2)\n",
        "\n",
        "# Create a linear model\n",
        "lm_highway_price <- lm(price ~ highway.mpg, data = df)\n",
        "\n",
        "# Create the regression plot\n",
        "ggplot(df, aes(x = highway.mpg, y = price)) +\n",
        "    geom_point(alpha = 0.6, color = \"blue\") +  # Scatter plot points\n",
        "    geom_smooth(method = \"lm\", se = FALSE, color = \"red\") +  # Fitted regression line\n",
        "    labs(title = \"Regression Plot: Highway MPG vs Price\",\n",
        "         x = \"Highway MPG\",\n",
        "         y = \"Price\") +\n",
        "    theme_minimal() +\n",
        "    theme(plot.background = element_rect(fill = \"white\"))\n"
      ]
    },
    {
      "cell_type": "markdown",
      "metadata": {
        "id": "_eyLHnGvSyX_"
      },
      "source": [
        "<p>We can see from this plot that price is negatively correlated to highway-mpg since the regression slope is negative.\n",
        "\n",
        "One thing to keep in mind when looking at a regression plot is to pay attention to how scattered the data points are around the regression line. This will give you a good indication of the variance of the data and whether a linear model would be the best fit or not. If the data is too far off from the line, this linear model might not be the best model for this data.\n",
        "\n",
        "Let's compare this plot to the regression plot of \"peak-rpm\".</p>\n"
      ]
    },
    {
      "cell_type": "code",
      "execution_count": 50,
      "metadata": {
        "colab": {
          "base_uri": "https://localhost:8080/",
          "height": 454
        },
        "id": "CuOu24AuSyX_",
        "outputId": "0669faee-9df9-4841-a126-941f59d0d5d9",
        "trusted": true,
        "vscode": {
          "languageId": "r"
        }
      },
      "outputs": [
        {
          "name": "stderr",
          "output_type": "stream",
          "text": [
            "\u001b[1m\u001b[22m`geom_smooth()` using formula = 'y ~ x'\n"
          ]
        },
        {
          "data": {
            "image/png": "[encoded data removed]",
            "text/plain": [
              "plot without title"
            ]
          },
          "metadata": {
            "image/png": {
              "height": 420,
              "width": 420
            }
          },
          "output_type": "display_data"
        }
      ],
      "source": [
        "# Load necessary library\n",
        "library(ggplot2)\n",
        "\n",
        "# Create the regression plot for peak RPM vs price\n",
        "ggplot(df, aes(x = peak.rpm, y = price)) +\n",
        "    geom_point(alpha = 0.6, color = \"blue\") +  # Scatter plot points\n",
        "    geom_smooth(method = \"lm\", se = FALSE, color = \"red\") +  # Fitted regression line\n",
        "    labs(title = \"Peak RPM vs Price\",\n",
        "         x = \"Peak RPM\",\n",
        "         y = \"Price\") +\n",
        "    theme_minimal() +\n",
        "    theme(plot.background = element_rect(fill = \"white\"))\n"
      ]
    },
    {
      "cell_type": "markdown",
      "metadata": {
        "id": "Tj6ZSp-9SyX_"
      },
      "source": [
        "<p>Comparing the regression plot of \"peak-rpm\" and \"highway-mpg\", we see that the points for \"highway-mpg\" are much closer to the generated line and, on average, decrease. The points for \"peak-rpm\" have more spread around the predicted line and it is much harder to determine if the points are decreasing or increasing as the \"peak-rpm\" increases.</p>\n"
      ]
    },
    {
      "cell_type": "markdown",
      "metadata": {
        "id": "vJHiiba2SyX_"
      },
      "source": [
        "<div class=\"alert alert-danger alertdanger\" style=\"margin-top: 20px\">\n",
        "<h1>Question #3:</h1>\n",
        "<b>Given the regression plots above, is \"peak-rpm\" or \"highway-mpg\" more strongly correlated with \"price\"? Use the method  \".corr()\" to verify your answer.</b>\n",
        "</div>\n"
      ]
    },
    {
      "cell_type": "code",
      "execution_count": 51,
      "metadata": {
        "colab": {
          "base_uri": "https://localhost:8080/"
        },
        "id": "yB_ripkjSyX_",
        "outputId": "baacb640-5271-4461-e1f7-493033984d9f",
        "trusted": true,
        "vscode": {
          "languageId": "r"
        }
      },
      "outputs": [
        {
          "name": "stdout",
          "output_type": "stream",
          "text": [
            "               peak.rpm highway.mpg      price\n",
            "peak.rpm     1.00000000 -0.05859759 -0.1016159\n",
            "highway.mpg -0.05859759  1.00000000 -0.7046923\n",
            "price       -0.10161587 -0.70469227  1.0000000\n"
          ]
        }
      ],
      "source": [
        "# Calculate correlations\n",
        "cor_matrix <- cor(df[c(\"peak.rpm\", \"highway.mpg\", \"price\")])\n",
        "print(cor_matrix)\n"
      ]
    },
    {
      "cell_type": "markdown",
      "metadata": {
        "id": "aSRrhwoeSyX_"
      },
      "source": [
        "<h3>Residual Plot</h3>\n",
        "\n",
        "<p>A good way to visualize the variance of the data is to use a residual plot.</p>\n",
        "\n",
        "<p>What is a <b>residual</b>?</p>\n",
        "\n",
        "<p>The difference between the observed value (y) and the predicted value (Yhat) is called the residual (e). When we look at a regression plot, the residual is the distance from the data point to the fitted regression line.</p>\n",
        "\n",
        "<p>So what is a <b>residual plot</b>?</p>\n",
        "\n",
        "<p>A residual plot is a graph that shows the residuals on the vertical y-axis and the independent variable on the horizontal x-axis.</p>\n",
        "\n",
        "<p>What do we pay attention to when looking at a residual plot?</p>\n",
        "\n",
        "<p>We look at the spread of the residuals:</p>\n",
        "\n",
        "<p>- If the points in a residual plot are <b>randomly spread out around the x-axis</b>, then a <b>linear model is appropriate</b> for the data.\n",
        "\n",
        "Why is that? Randomly spread out residuals means that the variance is constant, and thus the linear model is a good fit for this data.</p>\n"
      ]
    },
    {
      "cell_type": "code",
      "execution_count": 52,
      "metadata": {
        "colab": {
          "base_uri": "https://localhost:8080/",
          "height": 437
        },
        "id": "aL7uJcHgSyYA",
        "outputId": "eb60abd9-1d9b-431d-ff1a-1bc0ef697e6e",
        "trusted": true,
        "vscode": {
          "languageId": "r"
        }
      },
      "outputs": [
        {
          "data": {
            "image/png": "[encoded data removed]",
            "text/plain": [
              "plot without title"
            ]
          },
          "metadata": {
            "image/png": {
              "height": 420,
              "width": 420
            }
          },
          "output_type": "display_data"
        }
      ],
      "source": [
        "# Load necessary library\n",
        "library(ggplot2)\n",
        "\n",
        "# Create a linear model for highway-mpg\n",
        "lm_highway_price <- lm(price ~ highway.mpg, data = df)\n",
        "\n",
        "# Calculate residuals\n",
        "residuals <- lm_highway_price$residuals\n",
        "\n",
        "# Create the residual plot\n",
        "ggplot(data = df, aes(x = highway.mpg, y = residuals)) +\n",
        "    geom_point(alpha = 0.6, color = \"blue\") +  # Scatter plot points for residuals\n",
        "    geom_hline(yintercept = 0, linetype = \"dashed\", color = \"red\") +  # Reference line at 0\n",
        "    labs(title = \"Residual Plot\",\n",
        "         x = \"Highway MPG\",\n",
        "         y = \"Residuals\") +\n",
        "    theme_minimal() +\n",
        "    theme(plot.background = element_rect(fill = \"white\"))\n"
      ]
    },
    {
      "cell_type": "markdown",
      "metadata": {
        "id": "V2b4cvFdSyYA"
      },
      "source": [
        "<i>What is this plot telling us?</i>\n",
        "\n",
        "<p>We can see from this residual plot that the residuals are not randomly spread around the x-axis, leading us to believe that maybe a non-linear model is more appropriate for this data.</p>\n"
      ]
    },
    {
      "cell_type": "markdown",
      "metadata": {
        "id": "9V208-rpSyYA"
      },
      "source": [
        "<h3>Multiple Linear Regression</h3>\n"
      ]
    },
    {
      "cell_type": "markdown",
      "metadata": {
        "id": "vilRVQuCSyYA"
      },
      "source": [
        "<p>How do we visualize a model for Multiple Linear Regression? This gets a bit more complicated because you can't visualize it with regression or residual plot.</p>\n",
        "\n",
        "<p>One way to look at the fit of the model is by looking at the <b>distribution plot</b>. We can look at the distribution of the fitted values that result from the model and compare it to the distribution of the actual values.</p>\n"
      ]
    },
    {
      "cell_type": "markdown",
      "metadata": {
        "id": "wT-myYGVSyYA"
      },
      "source": [
        "First, let's make a prediction:\n"
      ]
    },
    {
      "cell_type": "code",
      "execution_count": 53,
      "metadata": {
        "id": "lsEL7N8tjbCl",
        "vscode": {
          "languageId": "r"
        }
      },
      "outputs": [],
      "source": [
        "library(tidyr)"
      ]
    },
    {
      "cell_type": "code",
      "execution_count": null,
      "metadata": {
        "id": "R2upJ2RjSyYA",
        "trusted": true,
        "vscode": {
          "languageId": "r"
        }
      },
      "outputs": [],
      "source": [
        "# Distribution plot of actual vs fitted values\n",
        "\n"
      ]
    },
    {
      "cell_type": "code",
      "execution_count": 69,
      "metadata": {
        "colab": {
          "base_uri": "https://localhost:8080/",
          "height": 437
        },
        "id": "E-BN9d8LSyYA",
        "outputId": "cbad2940-5ef5-4fff-c97f-b0f74f81e25e",
        "trusted": true,
        "vscode": {
          "languageId": "r"
        }
      },
      "outputs": [
        {
          "name": "stderr",
          "output_type": "stream",
          "text": [
            "No id variables; using all as measure variables\n",
            "\n"
          ]
        },
        {
          "data": {
            "image/png": "[encoded data removed]",
            "text/plain": [
              "plot without title"
            ]
          },
          "metadata": {
            "image/png": {
              "height": 420,
              "width": 420
            }
          },
          "output_type": "display_data"
        }
      ],
      "source": [
        "# Load necessary libraries\n",
        "library(ggplot2)\n",
        "library(reshape2)\n",
        "\n",
        "# Create a linear model for highway-mpg\n",
        "lm_highway_price <- lm(price ~ highway.mpg, data = df)\n",
        "\n",
        "# Get fitted values\n",
        "fitted_values <- lm_highway_price$fitted.values\n",
        "\n",
        "# Create a data frame for plotting\n",
        "comparison_df <- data.frame(\n",
        "  Actual = df$price,\n",
        "  Fitted = fitted_values\n",
        ")\n",
        "\n",
        "# Melt the data frame for easier plotting\n",
        "comparison_melted <- melt(comparison_df, variable.name = \"Type\", value.name = \"Value\")\n",
        "\n",
        "# Create the distribution plot\n",
        "ggplot(comparison_melted, aes(x = Value, fill = Type)) +\n",
        "    geom_density(alpha = 0.5) +  # Density plots for both actual and fitted values\n",
        "    labs(title = \"Actual vs Fitted Values for Price\",\n",
        "         x = \"Price (in dollars)\",\n",
        "         y = \"Density\") +\n",
        "    theme_minimal() +\n",
        "    theme(plot.background = element_rect(fill = \"white\"))\n"
      ]
    },
    {
      "cell_type": "markdown",
      "metadata": {
        "id": "arTOPmwjSyYB"
      },
      "source": [
        "<p>We can see that the fitted values are reasonably close to the actual values since the two distributions overlap a bit. However, there is definitely some room for improvement.</p>\n"
      ]
    },
    {
      "cell_type": "markdown",
      "metadata": {
        "id": "dJU1akZBSyYB"
      },
      "source": [
        "<h2>3. Polynomial Regression and Pipelines</h2>\n"
      ]
    },
    {
      "cell_type": "markdown",
      "metadata": {
        "id": "7q0YnCE4SyYB"
      },
      "source": [
        "<p><b>Polynomial regression</b> is a particular case of the general linear regression model or multiple linear regression models.</p>\n",
        "<p>We get non-linear relationships by squaring or setting higher-order terms of the predictor variables.</p>\n",
        "\n",
        "<p>There are different orders of polynomial regression:</p>\n"
      ]
    },
    {
      "cell_type": "markdown",
      "metadata": {
        "id": "rln_TXrSSyYB"
      },
      "source": [
        "<center><b>Quadratic - 2nd Order</b></center>\n",
        "$$\n",
        "Yhat = a + b_1 X +b_2 X^2\n",
        "$$\n",
        "\n",
        "<center><b>Cubic - 3rd Order</b></center>\n",
        "$$\n",
        "Yhat = a + b_1 X +b_2 X^2 +b_3 X^3\\\\\\\\\\\\\\\\\\\\\n",
        "$$\n",
        "\n",
        "<center><b>Higher-Order</b>:</center>\n",
        "$$\n",
        "Y = a + b_1 X +b_2 X^2 +b_3 X^3 ....\\\\\\\\\n",
        "$$\n"
      ]
    },
    {
      "cell_type": "markdown",
      "metadata": {
        "id": "NxHp-lsDSyYB"
      },
      "source": [
        "<p>We saw earlier that a linear model did not provide the best fit while using \"highway-mpg\" as the predictor variable. Let's see if we can try fitting a polynomial model to the data instead.</p>\n"
      ]
    },
    {
      "cell_type": "markdown",
      "metadata": {
        "id": "LGbBU433SyYB"
      },
      "source": [
        "<p>We will use the following function to plot the data:</p>\n"
      ]
    },
    {
      "cell_type": "code",
      "execution_count": 108,
      "metadata": {
        "id": "_THNERVDSyYB",
        "trusted": true,
        "vscode": {
          "languageId": "r"
        }
      },
      "outputs": [
        {
          "data": {
            "image/png": "[encoded data removed]",
            "text/plain": [
              "plot without title"
            ]
          },
          "metadata": {
            "image/png": {
              "height": 420,
              "width": 420
            }
          },
          "output_type": "display_data"
        }
      ],
      "source": [
        "# Thư viện cần thiết\n",
        "library(ggplot2)\n",
        "\n",
        "# Hàm vẽ đồ thị hồi quy bậc n\n",
        "plot_polynomial_regression <- function(data, response, predictor, degree) {\n",
        "  # Tạo công thức hồi quy\n",
        "  formula <- as.formula(paste(response, \"~ poly(\", predictor, \",\", degree, \")\"))\n",
        "  \n",
        "  # Fit mô hình hồi quy\n",
        "  model <- lm(formula, data = data)\n",
        "  \n",
        "  # Dự đoán giá\n",
        "  data$predicted <- predict(model, newdata = data)\n",
        "  \n",
        "  # Vẽ đồ thị\n",
        "  ggplot(data, aes_string(x = predictor, y = response)) +\n",
        "    geom_point(color = \"blue\", alpha = 0.5) +  # Điểm dữ liệu thực tế\n",
        "    geom_line(aes_string(y = \"predicted\"), color = \"red\", size = 1) +  # Đường hồi quy\n",
        "    labs(title = paste(\"Hồi quy đa thức bậc\", degree, \"cho\", response, \"theo\", predictor),\n",
        "         x = predictor,\n",
        "         y = response) +\n",
        "    theme_minimal(base_size = 15)  # Thiết lập kiểu nền\n",
        "}\n",
        "\n",
        "# Sử dụng hàm\n",
        "plot_polynomial_regression(df, \"price\", \"highway.mpg\", 3)\n"
      ]
    },
    {
      "cell_type": "markdown",
      "metadata": {
        "id": "PtgdTTLqSyYB"
      },
      "source": [
        "Let's get the variables:\n"
      ]
    },
    {
      "cell_type": "code",
      "execution_count": 62,
      "metadata": {
        "id": "uJ9al_BZn52r",
        "vscode": {
          "languageId": "r"
        }
      },
      "outputs": [],
      "source": [
        "# Lấy các biến từ DataFrame\n",
        "x <- df$`highway,mpg`\n",
        "y <- df$price"
      ]
    },
    {
      "cell_type": "markdown",
      "metadata": {
        "id": "NkQLVh7YSyYC"
      },
      "source": [
        "Let's fit the polynomial using the function <b>polyfit</b>, then use the function <b>poly1d</b> to display the polynomial function.\n"
      ]
    },
    {
      "cell_type": "code",
      "execution_count": 97,
      "metadata": {
        "colab": {
          "base_uri": "https://localhost:8080/"
        },
        "id": "tQ59Tfx0SyYC",
        "outputId": "e991c66b-0510-41c0-93a8-6adbb4ea52a2",
        "trusted": true,
        "vscode": {
          "languageId": "r"
        }
      },
      "outputs": [
        {
          "name": "stdout",
          "output_type": "stream",
          "text": [
            "\n",
            "Call:\n",
            "lm(formula = price ~ poly(highway.mpg, 3), data = df)\n",
            "\n",
            "Residuals:\n",
            "     Min       1Q   Median       3Q      Max \n",
            "-10149.0  -2083.7   -637.7    904.8  19591.3 \n",
            "\n",
            "Coefficients:\n",
            "                      Estimate Std. Error t value Pr(>|t|)    \n",
            "(Intercept)            13207.1      322.4  40.967  < 2e-16 ***\n",
            "poly(highway.mpg, 3)1 -79199.3     4570.5 -17.328  < 2e-16 ***\n",
            "poly(highway.mpg, 3)2  44276.3     4570.5   9.687  < 2e-16 ***\n",
            "poly(highway.mpg, 3)3 -16821.2     4570.5  -3.680 0.000301 ***\n",
            "---\n",
            "Signif. codes:  0 '***' 0.001 '**' 0.01 '*' 0.05 '.' 0.1 ' ' 1\n",
            "\n",
            "Residual standard error: 4571 on 197 degrees of freedom\n",
            "Multiple R-squared:  0.6742,\tAdjusted R-squared:  0.6692 \n",
            "F-statistic: 135.9 on 3 and 197 DF,  p-value: < 2.2e-16\n",
            "\n"
          ]
        }
      ],
      "source": [
        "# Fit a cubic polynomial regression model\n",
        "poly_model_3 <- lm(price ~ poly(highway.mpg, 3), data = df)\n",
        "\n",
        "# Print the summary of the cubic polynomial model\n",
        "print(summary(poly_model_3))"
      ]
    },
    {
      "cell_type": "markdown",
      "metadata": {
        "id": "U3yVziEgSyYC"
      },
      "source": [
        "Let's plot the function:\n"
      ]
    },
    {
      "cell_type": "code",
      "execution_count": 110,
      "metadata": {
        "colab": {
          "base_uri": "https://localhost:8080/",
          "height": 437
        },
        "id": "1OXtzMUpSyYC",
        "outputId": "fca5ff69-61d7-4b0d-9b67-d0393894c537",
        "trusted": true,
        "vscode": {
          "languageId": "r"
        }
      },
      "outputs": [
        {
          "data": {
            "image/png": "[encoded data removed]",
            "text/plain": [
              "plot without title"
            ]
          },
          "metadata": {
            "image/png": {
              "height": 420,
              "width": 420
            }
          },
          "output_type": "display_data"
        }
      ],
      "source": [
        "# Vẽ đồ thị cho mô hình bậc 3\n",
        "plot_polynomial_regression(df, \"price\", \"highway.mpg\", 3)"
      ]
    },
    {
      "cell_type": "markdown",
      "metadata": {
        "id": "cgInJwmBSyYC"
      },
      "source": [
        "<p>We can already see from plotting that this polynomial model performs better than the linear model. This is because the generated polynomial function  \"hits\" more of the data points.</p>\n"
      ]
    },
    {
      "cell_type": "markdown",
      "metadata": {
        "id": "vQrbtlXkSyYC"
      },
      "source": [
        "<div class=\"alert alert-danger alertdanger\" style=\"margin-top: 20px\">\n",
        "<h1>Question  #4:</h1>\n",
        "<b>Create 11 order polynomial model with the variables x and y from above.</b>\n",
        "</div>\n"
      ]
    },
    {
      "cell_type": "code",
      "execution_count": 111,
      "metadata": {
        "colab": {
          "base_uri": "https://localhost:8080/"
        },
        "id": "kNM5MSaMSyYD",
        "outputId": "5151da8d-d6de-4e84-a565-dc5984629174",
        "trusted": true,
        "vscode": {
          "languageId": "r"
        }
      },
      "outputs": [
        {
          "name": "stdout",
          "output_type": "stream",
          "text": [
            "\n",
            "Call:\n",
            "lm(formula = price ~ poly(highway.mpg, 11), data = df)\n",
            "\n",
            "Residuals:\n",
            "    Min      1Q  Median      3Q     Max \n",
            "-8921.1 -2253.5  -751.3   971.5 21225.5 \n",
            "\n",
            "Coefficients:\n",
            "                        Estimate Std. Error t value Pr(>|t|)    \n",
            "(Intercept)              13207.1      314.6  41.984  < 2e-16 ***\n",
            "poly(highway.mpg, 11)1  -79199.3     4459.9 -17.758  < 2e-16 ***\n",
            "poly(highway.mpg, 11)2   44276.3     4459.9   9.928  < 2e-16 ***\n",
            "poly(highway.mpg, 11)3  -16821.2     4459.9  -3.772 0.000217 ***\n",
            "poly(highway.mpg, 11)4    2856.2     4459.9   0.640 0.522676    \n",
            "poly(highway.mpg, 11)5   -7078.1     4459.9  -1.587 0.114173    \n",
            "poly(highway.mpg, 11)6    6305.2     4459.9   1.414 0.159078    \n",
            "poly(highway.mpg, 11)7    2050.9     4459.9   0.460 0.646153    \n",
            "poly(highway.mpg, 11)8   -8075.6     4459.9  -1.811 0.071774 .  \n",
            "poly(highway.mpg, 11)9   10230.7     4459.9   2.294 0.022894 *  \n",
            "poly(highway.mpg, 11)10  -1172.3     4459.9  -0.263 0.792956    \n",
            "poly(highway.mpg, 11)11  -9082.9     4459.9  -2.037 0.043087 *  \n",
            "---\n",
            "Signif. codes:  0 '***' 0.001 '**' 0.01 '*' 0.05 '.' 0.1 ' ' 1\n",
            "\n",
            "Residual standard error: 4460 on 189 degrees of freedom\n",
            "Multiple R-squared:  0.7024,\tAdjusted R-squared:  0.6851 \n",
            "F-statistic: 40.55 on 11 and 189 DF,  p-value: < 2.2e-16\n",
            "\n"
          ]
        }
      ],
      "source": [
        "# Tạo mô hình hồi quy đa thức bậc 11\n",
        "poly_model_11 <- lm(price ~ poly(highway.mpg, 11), data = df)\n",
        "\n",
        "# In ra tóm tắt của mô hình hồi quy\n",
        "print(summary(poly_model_11))\n"
      ]
    },
    {
      "cell_type": "code",
      "execution_count": 112,
      "metadata": {
        "colab": {
          "base_uri": "https://localhost:8080/",
          "height": 437
        },
        "id": "5libL4pSkQo6",
        "outputId": "4160693c-cf12-45ad-ec4e-0e4eddde5419",
        "vscode": {
          "languageId": "r"
        }
      },
      "outputs": [
        {
          "data": {
            "image/png": "[encoded data removed]",
            "text/plain": [
              "plot without title"
            ]
          },
          "metadata": {
            "image/png": {
              "height": 420,
              "width": 420
            }
          },
          "output_type": "display_data"
        }
      ],
      "source": [
        "# Vẽ đồ thị cho mô hình bậc 11\n",
        "plot_polynomial_regression(df, \"price\", \"highway.mpg\", 11)"
      ]
    },
    {
      "cell_type": "markdown",
      "metadata": {
        "id": "Q0mrqqbNSyYD"
      },
      "source": [
        "<p>The analytical expression for Multivariate Polynomial function gets complicated. For example, the expression for a second-order (degree=2) polynomial with two variables is given by:</p>\n"
      ]
    },
    {
      "cell_type": "markdown",
      "metadata": {
        "id": "PTPHV9hUSyYD"
      },
      "source": [
        "$$\n",
        "Yhat = a + b\\_1 X\\_1 +b\\_2 X\\_2 +b\\_3 X\\_1 X\\_2+b\\_4 X\\_1^2+b\\_5 X\\_2^2\n",
        "$$\n"
      ]
    },
    {
      "cell_type": "markdown",
      "metadata": {
        "id": "fpQtTFcWSyYD"
      },
      "source": [
        "We can perform a polynomial transform on multiple features. First, we import the module:\n"
      ]
    },
    {
      "cell_type": "markdown",
      "metadata": {
        "id": "eLQonnNUSyYD"
      },
      "source": [
        "We create a <b>PolynomialFeatures</b> object of degree 2:\n"
      ]
    },
    {
      "cell_type": "code",
      "execution_count": 113,
      "metadata": {
        "id": "j83yls5XSyYE",
        "trusted": true,
        "vscode": {
          "languageId": "r"
        }
      },
      "outputs": [],
      "source": [
        "# Tạo biến mới từ cột 'highway-mpg'\n",
        "df$highway_mpg <- df$`highway.mpg`  # Thay đổi dấu '-' thành '_' trong tên cột\n",
        "\n",
        "# Tạo ma trận Z với 4 biến độc lập\n",
        "# Chọn các biến: 'highway_mpg', 'curb.weight', 'engine.size', 'horsepower'\n",
        "Z <- df[, c('highway_mpg', 'curb.weight', 'engine.size', 'horsepower')]\n"
      ]
    },
    {
      "cell_type": "markdown",
      "metadata": {
        "id": "MJv212f2SyYE"
      },
      "source": [
        "In the original data, there are 201 samples and 4 features.\n"
      ]
    },
    {
      "cell_type": "code",
      "execution_count": 114,
      "metadata": {
        "colab": {
          "base_uri": "https://localhost:8080/",
          "height": 304
        },
        "id": "txqiNnLhSyYE",
        "outputId": "e6927724-df4d-4575-efaf-37e73908a4fe",
        "trusted": true,
        "vscode": {
          "languageId": "r"
        }
      },
      "outputs": [
        {
          "data": {
            "text/html": [
              "<style>\n",
              ".list-inline {list-style: none; margin:0; padding: 0}\n",
              ".list-inline>li {display: inline-block}\n",
              ".list-inline>li:not(:last-child)::after {content: \"\\00b7\"; padding: 0 .5ex}\n",
              "</style>\n",
              "<ol class=list-inline><li>201</li><li>4</li></ol>\n"
            ],
            "text/latex": [
              "\\begin{enumerate*}\n",
              "\\item 201\n",
              "\\item 4\n",
              "\\end{enumerate*}\n"
            ],
            "text/markdown": [
              "1. 201\n",
              "2. 4\n",
              "\n",
              "\n"
            ],
            "text/plain": [
              "[1] 201   4"
            ]
          },
          "metadata": {},
          "output_type": "display_data"
        },
        {
          "name": "stdout",
          "output_type": "stream",
          "text": [
            "'data.frame':\t201 obs. of  4 variables:\n",
            " $ highway_mpg: int  27 27 26 30 22 25 25 25 20 29 ...\n",
            " $ curb.weight: int  2548 2548 2823 2337 2824 2507 2844 2954 3086 2395 ...\n",
            " $ engine.size: int  130 130 152 109 136 136 136 136 131 108 ...\n",
            " $ horsepower : num  111 111 154 102 115 110 110 110 140 101 ...\n"
          ]
        },
        {
          "data": {
            "text/html": [
              "<table class=\"dataframe\">\n",
              "<caption>A data.frame: 6 × 4</caption>\n",
              "<thead>\n",
              "\t<tr><th></th><th scope=col>highway_mpg</th><th scope=col>curb.weight</th><th scope=col>engine.size</th><th scope=col>horsepower</th></tr>\n",
              "\t<tr><th></th><th scope=col>&lt;int&gt;</th><th scope=col>&lt;int&gt;</th><th scope=col>&lt;int&gt;</th><th scope=col>&lt;dbl&gt;</th></tr>\n",
              "</thead>\n",
              "<tbody>\n",
              "\t<tr><th scope=row>1</th><td>27</td><td>2548</td><td>130</td><td>111</td></tr>\n",
              "\t<tr><th scope=row>2</th><td>27</td><td>2548</td><td>130</td><td>111</td></tr>\n",
              "\t<tr><th scope=row>3</th><td>26</td><td>2823</td><td>152</td><td>154</td></tr>\n",
              "\t<tr><th scope=row>4</th><td>30</td><td>2337</td><td>109</td><td>102</td></tr>\n",
              "\t<tr><th scope=row>5</th><td>22</td><td>2824</td><td>136</td><td>115</td></tr>\n",
              "\t<tr><th scope=row>6</th><td>25</td><td>2507</td><td>136</td><td>110</td></tr>\n",
              "</tbody>\n",
              "</table>\n"
            ],
            "text/latex": [
              "A data.frame: 6 × 4\n",
              "\\begin{tabular}{r|llll}\n",
              "  & highway\\_mpg & curb.weight & engine.size & horsepower\\\\\n",
              "  & <int> & <int> & <int> & <dbl>\\\\\n",
              "\\hline\n",
              "\t1 & 27 & 2548 & 130 & 111\\\\\n",
              "\t2 & 27 & 2548 & 130 & 111\\\\\n",
              "\t3 & 26 & 2823 & 152 & 154\\\\\n",
              "\t4 & 30 & 2337 & 109 & 102\\\\\n",
              "\t5 & 22 & 2824 & 136 & 115\\\\\n",
              "\t6 & 25 & 2507 & 136 & 110\\\\\n",
              "\\end{tabular}\n"
            ],
            "text/markdown": [
              "\n",
              "A data.frame: 6 × 4\n",
              "\n",
              "| <!--/--> | highway_mpg &lt;int&gt; | curb.weight &lt;int&gt; | engine.size &lt;int&gt; | horsepower &lt;dbl&gt; |\n",
              "|---|---|---|---|---|\n",
              "| 1 | 27 | 2548 | 130 | 111 |\n",
              "| 2 | 27 | 2548 | 130 | 111 |\n",
              "| 3 | 26 | 2823 | 152 | 154 |\n",
              "| 4 | 30 | 2337 | 109 | 102 |\n",
              "| 5 | 22 | 2824 | 136 | 115 |\n",
              "| 6 | 25 | 2507 | 136 | 110 |\n",
              "\n"
            ],
            "text/plain": [
              "  highway_mpg curb.weight engine.size horsepower\n",
              "1 27          2548        130         111       \n",
              "2 27          2548        130         111       \n",
              "3 26          2823        152         154       \n",
              "4 30          2337        109         102       \n",
              "5 22          2824        136         115       \n",
              "6 25          2507        136         110       "
            ]
          },
          "metadata": {},
          "output_type": "display_data"
        }
      ],
      "source": [
        "# Kiểm tra kích thước của ma trận Z\n",
        "dim(Z)\n",
        "\n",
        "# Kiểm tra cấu trúc của ma trận Z\n",
        "str(Z)\n",
        "\n",
        "# Xem 6 dòng đầu tiên của ma trận Z\n",
        "head(Z)\n"
      ]
    },
    {
      "cell_type": "markdown",
      "metadata": {
        "id": "d1o1TA_TSyYE"
      },
      "source": [
        "After the transformation, there are 201 samples and 11 features.\n"
      ]
    },
    {
      "cell_type": "code",
      "execution_count": 118,
      "metadata": {
        "colab": {
          "base_uri": "https://localhost:8080/",
          "height": 292
        },
        "id": "ir5gffMBSyYE",
        "outputId": "25e962f8-3dc1-4c82-9c8d-114b6cf099f7",
        "trusted": true,
        "vscode": {
          "languageId": "r"
        }
      },
      "outputs": [
        {
          "name": "stdout",
          "output_type": "stream",
          "text": [
            "[1] 201   9\n"
          ]
        },
        {
          "data": {
            "text/html": [
              "<table class=\"dataframe\">\n",
              "<caption>A matrix: 6 × 9 of type dbl</caption>\n",
              "<thead>\n",
              "\t<tr><th></th><th scope=col>(Intercept)</th><th scope=col>poly(highway_mpg, 2)1</th><th scope=col>poly(highway_mpg, 2)2</th><th scope=col>curb.weight</th><th scope=col>engine.size</th><th scope=col>horsepower</th><th scope=col>curb.weight:engine.size</th><th scope=col>curb.weight:horsepower</th><th scope=col>engine.size:horsepower</th></tr>\n",
              "</thead>\n",
              "<tbody>\n",
              "\t<tr><th scope=row>1</th><td>1</td><td>-0.038250026</td><td>-0.019416280</td><td>2548</td><td>130</td><td>111</td><td>331240</td><td>282828</td><td>14430</td></tr>\n",
              "\t<tr><th scope=row>2</th><td>1</td><td>-0.038250026</td><td>-0.019416280</td><td>2548</td><td>130</td><td>111</td><td>331240</td><td>282828</td><td>14430</td></tr>\n",
              "\t<tr><th scope=row>3</th><td>1</td><td>-0.048625539</td><td>-0.007041894</td><td>2823</td><td>152</td><td>154</td><td>429096</td><td>434742</td><td>23408</td></tr>\n",
              "\t<tr><th scope=row>4</th><td>1</td><td>-0.007123487</td><td>-0.044247860</td><td>2337</td><td>109</td><td>102</td><td>254733</td><td>238374</td><td>11118</td></tr>\n",
              "\t<tr><th scope=row>5</th><td>1</td><td>-0.090127592</td><td> 0.062941611</td><td>2824</td><td>136</td><td>115</td><td>384064</td><td>324760</td><td>15640</td></tr>\n",
              "\t<tr><th scope=row>6</th><td>1</td><td>-0.059001053</td><td> 0.007381088</td><td>2507</td><td>136</td><td>110</td><td>340952</td><td>275770</td><td>14960</td></tr>\n",
              "</tbody>\n",
              "</table>\n"
            ],
            "text/latex": [
              "A matrix: 6 × 9 of type dbl\n",
              "\\begin{tabular}{r|lllllllll}\n",
              "  & (Intercept) & poly(highway\\_mpg, 2)1 & poly(highway\\_mpg, 2)2 & curb.weight & engine.size & horsepower & curb.weight:engine.size & curb.weight:horsepower & engine.size:horsepower\\\\\n",
              "\\hline\n",
              "\t1 & 1 & -0.038250026 & -0.019416280 & 2548 & 130 & 111 & 331240 & 282828 & 14430\\\\\n",
              "\t2 & 1 & -0.038250026 & -0.019416280 & 2548 & 130 & 111 & 331240 & 282828 & 14430\\\\\n",
              "\t3 & 1 & -0.048625539 & -0.007041894 & 2823 & 152 & 154 & 429096 & 434742 & 23408\\\\\n",
              "\t4 & 1 & -0.007123487 & -0.044247860 & 2337 & 109 & 102 & 254733 & 238374 & 11118\\\\\n",
              "\t5 & 1 & -0.090127592 &  0.062941611 & 2824 & 136 & 115 & 384064 & 324760 & 15640\\\\\n",
              "\t6 & 1 & -0.059001053 &  0.007381088 & 2507 & 136 & 110 & 340952 & 275770 & 14960\\\\\n",
              "\\end{tabular}\n"
            ],
            "text/markdown": [
              "\n",
              "A matrix: 6 × 9 of type dbl\n",
              "\n",
              "| <!--/--> | (Intercept) | poly(highway_mpg, 2)1 | poly(highway_mpg, 2)2 | curb.weight | engine.size | horsepower | curb.weight:engine.size | curb.weight:horsepower | engine.size:horsepower |\n",
              "|---|---|---|---|---|---|---|---|---|---|\n",
              "| 1 | 1 | -0.038250026 | -0.019416280 | 2548 | 130 | 111 | 331240 | 282828 | 14430 |\n",
              "| 2 | 1 | -0.038250026 | -0.019416280 | 2548 | 130 | 111 | 331240 | 282828 | 14430 |\n",
              "| 3 | 1 | -0.048625539 | -0.007041894 | 2823 | 152 | 154 | 429096 | 434742 | 23408 |\n",
              "| 4 | 1 | -0.007123487 | -0.044247860 | 2337 | 109 | 102 | 254733 | 238374 | 11118 |\n",
              "| 5 | 1 | -0.090127592 |  0.062941611 | 2824 | 136 | 115 | 384064 | 324760 | 15640 |\n",
              "| 6 | 1 | -0.059001053 |  0.007381088 | 2507 | 136 | 110 | 340952 | 275770 | 14960 |\n",
              "\n"
            ],
            "text/plain": [
              "  (Intercept) poly(highway_mpg, 2)1 poly(highway_mpg, 2)2 curb.weight\n",
              "1 1           -0.038250026          -0.019416280          2548       \n",
              "2 1           -0.038250026          -0.019416280          2548       \n",
              "3 1           -0.048625539          -0.007041894          2823       \n",
              "4 1           -0.007123487          -0.044247860          2337       \n",
              "5 1           -0.090127592           0.062941611          2824       \n",
              "6 1           -0.059001053           0.007381088          2507       \n",
              "  engine.size horsepower curb.weight:engine.size curb.weight:horsepower\n",
              "1 130         111        331240                  282828                \n",
              "2 130         111        331240                  282828                \n",
              "3 152         154        429096                  434742                \n",
              "4 109         102        254733                  238374                \n",
              "5 136         115        384064                  324760                \n",
              "6 136         110        340952                  275770                \n",
              "  engine.size:horsepower\n",
              "1 14430                 \n",
              "2 14430                 \n",
              "3 23408                 \n",
              "4 11118                 \n",
              "5 15640                 \n",
              "6 14960                 "
            ]
          },
          "metadata": {},
          "output_type": "display_data"
        }
      ],
      "source": [
        "# Tạo ma trận đa thức với bậc 2 cho 'highway_mpg' và các biến tương tác\n",
        "Z_poly <- model.matrix(~ poly(highway_mpg, 2) + curb.weight + engine.size + horsepower +\n",
        "                       curb.weight:engine.size +\n",
        "                       curb.weight:horsepower +\n",
        "                       engine.size:horsepower, data = df)\n",
        "\n",
        "# Kiểm tra kích thước của dữ liệu sau khi chuyển đổi\n",
        "print(dim(Z_poly))  # In ra kích thước của ma trận Z_poly\n",
        "\n",
        "# Xem 6 dòng đầu tiên của ma trận Z_poly\n",
        "head(Z_poly)  # Hiển thị 6 dòng đầu tiên\n"
      ]
    },
    {
      "cell_type": "markdown",
      "metadata": {
        "id": "PAzq8_BLSyYE"
      },
      "source": [
        "<h2>Pipeline</h2>\n"
      ]
    },
    {
      "cell_type": "markdown",
      "metadata": {
        "id": "FqsOgtO0SyYE"
      },
      "source": [
        "<p>Data Pipelines simplify the steps of processing the data. We use the module <b>Pipeline</b> to create a pipeline. We also use <b>StandardScaler</b> as a step in our pipeline.</p>\n"
      ]
    },
    {
      "cell_type": "code",
      "execution_count": 119,
      "metadata": {
        "colab": {
          "base_uri": "https://localhost:8080/"
        },
        "id": "YHaDjk_Up9Jk",
        "outputId": "fff9c0c7-7e37-4019-a607-9d01c85631fb",
        "vscode": {
          "languageId": "r"
        }
      },
      "outputs": [
        {
          "name": "stderr",
          "output_type": "stream",
          "text": [
            "Loading required package: lattice\n",
            "\n"
          ]
        },
        {
          "name": "stderr",
          "output_type": "stream",
          "text": [
            "\n",
            "Attaching package: 'caret'\n",
            "\n",
            "\n",
            "The following object is masked from 'package:httr':\n",
            "\n",
            "    progress\n",
            "\n",
            "\n"
          ]
        }
      ],
      "source": [
        "library(caret)"
      ]
    },
    {
      "cell_type": "code",
      "execution_count": 120,
      "metadata": {
        "id": "tWe_GF6JSyYF",
        "trusted": true,
        "vscode": {
          "languageId": "r"
        }
      },
      "outputs": [],
      "source": [
        "# Tải thư viện\n",
        "library(dplyr)  # Thư viện để xử lý dữ liệu\n",
        "library(tidyr)"
      ]
    },
    {
      "cell_type": "markdown",
      "metadata": {
        "id": "zq1tuoYfSyYF"
      },
      "source": [
        "### **Creating the Preprocessing Pipeline**\n",
        "\n",
        "We create the pipeline by defining a list of transformations that will be applied to the data. This preprocessing step includes **data normalization**, where we center and scale the variables.\n",
        "\n",
        "The pipeline standardizes the data by:\n",
        "- **Centering**: Subtracting the mean value of each feature from the data points.\n",
        "- **Scaling**: Dividing by the standard deviation to ensure all features are on a similar scale.\n",
        "\n",
        "We apply the pipeline to the following features:\n",
        "- `horsepower`\n",
        "- `curb.weight`\n",
        "- `engine.size`\n",
        "- `highway.mpg`\n"
      ]
    },
    {
      "cell_type": "code",
      "execution_count": 122,
      "metadata": {
        "id": "YCxQBmedSyYF",
        "trusted": true,
        "vscode": {
          "languageId": "r"
        }
      },
      "outputs": [
        {
          "data": {
            "text/html": [
              "<table class=\"dataframe\">\n",
              "<caption>A data.frame: 6 × 31</caption>\n",
              "<thead>\n",
              "\t<tr><th></th><th scope=col>symboling</th><th scope=col>normalized.losses</th><th scope=col>make</th><th scope=col>aspiration</th><th scope=col>num.of.doors</th><th scope=col>body.style</th><th scope=col>drive.wheels</th><th scope=col>engine.location</th><th scope=col>wheel.base</th><th scope=col>length</th><th scope=col>⋯</th><th scope=col>peak.rpm</th><th scope=col>city.mpg</th><th scope=col>highway.mpg</th><th scope=col>price</th><th scope=col>city.L.100km</th><th scope=col>horsepower.binned</th><th scope=col>diesel</th><th scope=col>gas</th><th scope=col>predicted_price</th><th scope=col>highway_mpg</th></tr>\n",
              "\t<tr><th></th><th scope=col>&lt;int&gt;</th><th scope=col>&lt;int&gt;</th><th scope=col>&lt;chr&gt;</th><th scope=col>&lt;chr&gt;</th><th scope=col>&lt;chr&gt;</th><th scope=col>&lt;chr&gt;</th><th scope=col>&lt;chr&gt;</th><th scope=col>&lt;chr&gt;</th><th scope=col>&lt;dbl&gt;</th><th scope=col>&lt;dbl&gt;</th><th scope=col>⋯</th><th scope=col>&lt;dbl&gt;</th><th scope=col>&lt;int&gt;</th><th scope=col>&lt;dbl&gt;</th><th scope=col>&lt;dbl&gt;</th><th scope=col>&lt;dbl&gt;</th><th scope=col>&lt;chr&gt;</th><th scope=col>&lt;int&gt;</th><th scope=col>&lt;int&gt;</th><th scope=col>&lt;dbl&gt;</th><th scope=col>&lt;int&gt;</th></tr>\n",
              "</thead>\n",
              "<tbody>\n",
              "\t<tr><th scope=row>1</th><td>3</td><td>122</td><td>alfa-romero</td><td>std</td><td>two </td><td>convertible</td><td>rwd</td><td>front</td><td>88.6</td><td>0.8111485</td><td>⋯</td><td>5000</td><td>21</td><td>-0.5409371</td><td>13495</td><td>11.190476</td><td>Medium</td><td>0</td><td>1</td><td>14483.48</td><td>27</td></tr>\n",
              "\t<tr><th scope=row>2</th><td>3</td><td>122</td><td>alfa-romero</td><td>std</td><td>two </td><td>convertible</td><td>rwd</td><td>front</td><td>88.6</td><td>0.8111485</td><td>⋯</td><td>5000</td><td>21</td><td>-0.5409371</td><td>16500</td><td>11.190476</td><td>Medium</td><td>0</td><td>1</td><td>14483.48</td><td>27</td></tr>\n",
              "\t<tr><th scope=row>3</th><td>1</td><td>122</td><td>alfa-romero</td><td>std</td><td>two </td><td>hatchback  </td><td>rwd</td><td>front</td><td>94.5</td><td>0.8226814</td><td>⋯</td><td>5000</td><td>19</td><td>-0.6876690</td><td>16500</td><td>12.368421</td><td>Medium</td><td>0</td><td>1</td><td>15876.77</td><td>26</td></tr>\n",
              "\t<tr><th scope=row>4</th><td>2</td><td>164</td><td>audi       </td><td>std</td><td>four</td><td>sedan      </td><td>fwd</td><td>front</td><td>99.8</td><td>0.8486305</td><td>⋯</td><td>5500</td><td>24</td><td>-0.1007413</td><td>13950</td><td> 9.791667</td><td>Medium</td><td>0</td><td>1</td><td>11210.24</td><td>30</td></tr>\n",
              "\t<tr><th scope=row>5</th><td>2</td><td>164</td><td>audi       </td><td>std</td><td>four</td><td>sedan      </td><td>4wd</td><td>front</td><td>99.4</td><td>0.8486305</td><td>⋯</td><td>5500</td><td>18</td><td>-1.2745966</td><td>17450</td><td>13.055556</td><td>Medium</td><td>0</td><td>1</td><td>23210.06</td><td>22</td></tr>\n",
              "\t<tr><th scope=row>6</th><td>2</td><td>122</td><td>audi       </td><td>std</td><td>two </td><td>sedan      </td><td>fwd</td><td>front</td><td>99.8</td><td>0.8519942</td><td>⋯</td><td>5500</td><td>19</td><td>-0.8344009</td><td>15250</td><td>12.368421</td><td>Medium</td><td>0</td><td>1</td><td>17436.73</td><td>25</td></tr>\n",
              "</tbody>\n",
              "</table>\n"
            ],
            "text/latex": [
              "A data.frame: 6 × 31\n",
              "\\begin{tabular}{r|lllllllllllllllllllll}\n",
              "  & symboling & normalized.losses & make & aspiration & num.of.doors & body.style & drive.wheels & engine.location & wheel.base & length & ⋯ & peak.rpm & city.mpg & highway.mpg & price & city.L.100km & horsepower.binned & diesel & gas & predicted\\_price & highway\\_mpg\\\\\n",
              "  & <int> & <int> & <chr> & <chr> & <chr> & <chr> & <chr> & <chr> & <dbl> & <dbl> & ⋯ & <dbl> & <int> & <dbl> & <dbl> & <dbl> & <chr> & <int> & <int> & <dbl> & <int>\\\\\n",
              "\\hline\n",
              "\t1 & 3 & 122 & alfa-romero & std & two  & convertible & rwd & front & 88.6 & 0.8111485 & ⋯ & 5000 & 21 & -0.5409371 & 13495 & 11.190476 & Medium & 0 & 1 & 14483.48 & 27\\\\\n",
              "\t2 & 3 & 122 & alfa-romero & std & two  & convertible & rwd & front & 88.6 & 0.8111485 & ⋯ & 5000 & 21 & -0.5409371 & 16500 & 11.190476 & Medium & 0 & 1 & 14483.48 & 27\\\\\n",
              "\t3 & 1 & 122 & alfa-romero & std & two  & hatchback   & rwd & front & 94.5 & 0.8226814 & ⋯ & 5000 & 19 & -0.6876690 & 16500 & 12.368421 & Medium & 0 & 1 & 15876.77 & 26\\\\\n",
              "\t4 & 2 & 164 & audi        & std & four & sedan       & fwd & front & 99.8 & 0.8486305 & ⋯ & 5500 & 24 & -0.1007413 & 13950 &  9.791667 & Medium & 0 & 1 & 11210.24 & 30\\\\\n",
              "\t5 & 2 & 164 & audi        & std & four & sedan       & 4wd & front & 99.4 & 0.8486305 & ⋯ & 5500 & 18 & -1.2745966 & 17450 & 13.055556 & Medium & 0 & 1 & 23210.06 & 22\\\\\n",
              "\t6 & 2 & 122 & audi        & std & two  & sedan       & fwd & front & 99.8 & 0.8519942 & ⋯ & 5500 & 19 & -0.8344009 & 15250 & 12.368421 & Medium & 0 & 1 & 17436.73 & 25\\\\\n",
              "\\end{tabular}\n"
            ],
            "text/markdown": [
              "\n",
              "A data.frame: 6 × 31\n",
              "\n",
              "| <!--/--> | symboling &lt;int&gt; | normalized.losses &lt;int&gt; | make &lt;chr&gt; | aspiration &lt;chr&gt; | num.of.doors &lt;chr&gt; | body.style &lt;chr&gt; | drive.wheels &lt;chr&gt; | engine.location &lt;chr&gt; | wheel.base &lt;dbl&gt; | length &lt;dbl&gt; | ⋯ ⋯ | peak.rpm &lt;dbl&gt; | city.mpg &lt;int&gt; | highway.mpg &lt;dbl&gt; | price &lt;dbl&gt; | city.L.100km &lt;dbl&gt; | horsepower.binned &lt;chr&gt; | diesel &lt;int&gt; | gas &lt;int&gt; | predicted_price &lt;dbl&gt; | highway_mpg &lt;int&gt; |\n",
              "|---|---|---|---|---|---|---|---|---|---|---|---|---|---|---|---|---|---|---|---|---|---|\n",
              "| 1 | 3 | 122 | alfa-romero | std | two  | convertible | rwd | front | 88.6 | 0.8111485 | ⋯ | 5000 | 21 | -0.5409371 | 13495 | 11.190476 | Medium | 0 | 1 | 14483.48 | 27 |\n",
              "| 2 | 3 | 122 | alfa-romero | std | two  | convertible | rwd | front | 88.6 | 0.8111485 | ⋯ | 5000 | 21 | -0.5409371 | 16500 | 11.190476 | Medium | 0 | 1 | 14483.48 | 27 |\n",
              "| 3 | 1 | 122 | alfa-romero | std | two  | hatchback   | rwd | front | 94.5 | 0.8226814 | ⋯ | 5000 | 19 | -0.6876690 | 16500 | 12.368421 | Medium | 0 | 1 | 15876.77 | 26 |\n",
              "| 4 | 2 | 164 | audi        | std | four | sedan       | fwd | front | 99.8 | 0.8486305 | ⋯ | 5500 | 24 | -0.1007413 | 13950 |  9.791667 | Medium | 0 | 1 | 11210.24 | 30 |\n",
              "| 5 | 2 | 164 | audi        | std | four | sedan       | 4wd | front | 99.4 | 0.8486305 | ⋯ | 5500 | 18 | -1.2745966 | 17450 | 13.055556 | Medium | 0 | 1 | 23210.06 | 22 |\n",
              "| 6 | 2 | 122 | audi        | std | two  | sedan       | fwd | front | 99.8 | 0.8519942 | ⋯ | 5500 | 19 | -0.8344009 | 15250 | 12.368421 | Medium | 0 | 1 | 17436.73 | 25 |\n",
              "\n"
            ],
            "text/plain": [
              "  symboling normalized.losses make        aspiration num.of.doors body.style \n",
              "1 3         122               alfa-romero std        two          convertible\n",
              "2 3         122               alfa-romero std        two          convertible\n",
              "3 1         122               alfa-romero std        two          hatchback  \n",
              "4 2         164               audi        std        four         sedan      \n",
              "5 2         164               audi        std        four         sedan      \n",
              "6 2         122               audi        std        two          sedan      \n",
              "  drive.wheels engine.location wheel.base length    ⋯ peak.rpm city.mpg\n",
              "1 rwd          front           88.6       0.8111485 ⋯ 5000     21      \n",
              "2 rwd          front           88.6       0.8111485 ⋯ 5000     21      \n",
              "3 rwd          front           94.5       0.8226814 ⋯ 5000     19      \n",
              "4 fwd          front           99.8       0.8486305 ⋯ 5500     24      \n",
              "5 4wd          front           99.4       0.8486305 ⋯ 5500     18      \n",
              "6 fwd          front           99.8       0.8519942 ⋯ 5500     19      \n",
              "  highway.mpg price city.L.100km horsepower.binned diesel gas predicted_price\n",
              "1 -0.5409371  13495 11.190476    Medium            0      1   14483.48       \n",
              "2 -0.5409371  16500 11.190476    Medium            0      1   14483.48       \n",
              "3 -0.6876690  16500 12.368421    Medium            0      1   15876.77       \n",
              "4 -0.1007413  13950  9.791667    Medium            0      1   11210.24       \n",
              "5 -1.2745966  17450 13.055556    Medium            0      1   23210.06       \n",
              "6 -0.8344009  15250 12.368421    Medium            0      1   17436.73       \n",
              "  highway_mpg\n",
              "1 27         \n",
              "2 27         \n",
              "3 26         \n",
              "4 30         \n",
              "5 22         \n",
              "6 25         "
            ]
          },
          "metadata": {},
          "output_type": "display_data"
        }
      ],
      "source": [
        "\n",
        "\n",
        "# Xác định các biến cần chuẩn hóa\n",
        "vars_to_scale <- c(\"horsepower\", \"curb.weight\", \"engine.size\", \"highway.mpg\")\n",
        "\n",
        "# Tạo bộ dữ liệu với các biến cần chuẩn hóa\n",
        "df_scaled <- df[, vars_to_scale]\n",
        "\n",
        "# Chuẩn hóa dữ liệu sử dụng preProcess\n",
        "preProc <- preProcess(df_scaled, method = c(\"center\", \"scale\"))\n",
        "\n",
        "# Áp dụng chuẩn hóa vào bộ dữ liệu\n",
        "df_scaled <- predict(preProc, df_scaled)\n",
        "\n",
        "# Ghi lại các biến đã chuẩn hóa vào dataframe gốc\n",
        "df[, vars_to_scale] <- df_scaled\n",
        "\n",
        "# Kiểm tra kết quả\n",
        "head(df)\n"
      ]
    },
    {
      "cell_type": "markdown",
      "metadata": {
        "id": "hB9moVpXSyYF"
      },
      "source": [
        "We input the list as an argument to the pipeline constructor:\n"
      ]
    },
    {
      "cell_type": "code",
      "execution_count": 123,
      "metadata": {
        "id": "OU_5JpnhSyYF",
        "trusted": true,
        "vscode": {
          "languageId": "r"
        }
      },
      "outputs": [
        {
          "data": {
            "text/html": [
              "<table class=\"dataframe\">\n",
              "<caption>A data.frame: 6 × 31</caption>\n",
              "<thead>\n",
              "\t<tr><th></th><th scope=col>symboling</th><th scope=col>normalized.losses</th><th scope=col>make</th><th scope=col>aspiration</th><th scope=col>num.of.doors</th><th scope=col>body.style</th><th scope=col>drive.wheels</th><th scope=col>engine.location</th><th scope=col>wheel.base</th><th scope=col>length</th><th scope=col>⋯</th><th scope=col>peak.rpm</th><th scope=col>city.mpg</th><th scope=col>highway.mpg</th><th scope=col>price</th><th scope=col>city.L.100km</th><th scope=col>horsepower.binned</th><th scope=col>diesel</th><th scope=col>gas</th><th scope=col>predicted_price</th><th scope=col>highway_mpg</th></tr>\n",
              "\t<tr><th></th><th scope=col>&lt;int&gt;</th><th scope=col>&lt;int&gt;</th><th scope=col>&lt;chr&gt;</th><th scope=col>&lt;chr&gt;</th><th scope=col>&lt;chr&gt;</th><th scope=col>&lt;chr&gt;</th><th scope=col>&lt;chr&gt;</th><th scope=col>&lt;chr&gt;</th><th scope=col>&lt;dbl&gt;</th><th scope=col>&lt;dbl&gt;</th><th scope=col>⋯</th><th scope=col>&lt;dbl&gt;</th><th scope=col>&lt;int&gt;</th><th scope=col>&lt;dbl&gt;</th><th scope=col>&lt;dbl&gt;</th><th scope=col>&lt;dbl&gt;</th><th scope=col>&lt;chr&gt;</th><th scope=col>&lt;int&gt;</th><th scope=col>&lt;int&gt;</th><th scope=col>&lt;dbl&gt;</th><th scope=col>&lt;int&gt;</th></tr>\n",
              "</thead>\n",
              "<tbody>\n",
              "\t<tr><th scope=row>1</th><td>3</td><td>122</td><td>alfa-romero</td><td>std</td><td>two </td><td>convertible</td><td>rwd</td><td>front</td><td>88.6</td><td>0.8111485</td><td>⋯</td><td>5000</td><td>21</td><td>-0.5409371</td><td>13495</td><td>11.190476</td><td>Medium</td><td>0</td><td>1</td><td>14483.48</td><td>27</td></tr>\n",
              "\t<tr><th scope=row>2</th><td>3</td><td>122</td><td>alfa-romero</td><td>std</td><td>two </td><td>convertible</td><td>rwd</td><td>front</td><td>88.6</td><td>0.8111485</td><td>⋯</td><td>5000</td><td>21</td><td>-0.5409371</td><td>16500</td><td>11.190476</td><td>Medium</td><td>0</td><td>1</td><td>14483.48</td><td>27</td></tr>\n",
              "\t<tr><th scope=row>3</th><td>1</td><td>122</td><td>alfa-romero</td><td>std</td><td>two </td><td>hatchback  </td><td>rwd</td><td>front</td><td>94.5</td><td>0.8226814</td><td>⋯</td><td>5000</td><td>19</td><td>-0.6876690</td><td>16500</td><td>12.368421</td><td>Medium</td><td>0</td><td>1</td><td>15876.77</td><td>26</td></tr>\n",
              "\t<tr><th scope=row>4</th><td>2</td><td>164</td><td>audi       </td><td>std</td><td>four</td><td>sedan      </td><td>fwd</td><td>front</td><td>99.8</td><td>0.8486305</td><td>⋯</td><td>5500</td><td>24</td><td>-0.1007413</td><td>13950</td><td> 9.791667</td><td>Medium</td><td>0</td><td>1</td><td>11210.24</td><td>30</td></tr>\n",
              "\t<tr><th scope=row>5</th><td>2</td><td>164</td><td>audi       </td><td>std</td><td>four</td><td>sedan      </td><td>4wd</td><td>front</td><td>99.4</td><td>0.8486305</td><td>⋯</td><td>5500</td><td>18</td><td>-1.2745966</td><td>17450</td><td>13.055556</td><td>Medium</td><td>0</td><td>1</td><td>23210.06</td><td>22</td></tr>\n",
              "\t<tr><th scope=row>6</th><td>2</td><td>122</td><td>audi       </td><td>std</td><td>two </td><td>sedan      </td><td>fwd</td><td>front</td><td>99.8</td><td>0.8519942</td><td>⋯</td><td>5500</td><td>19</td><td>-0.8344009</td><td>15250</td><td>12.368421</td><td>Medium</td><td>0</td><td>1</td><td>17436.73</td><td>25</td></tr>\n",
              "</tbody>\n",
              "</table>\n"
            ],
            "text/latex": [
              "A data.frame: 6 × 31\n",
              "\\begin{tabular}{r|lllllllllllllllllllll}\n",
              "  & symboling & normalized.losses & make & aspiration & num.of.doors & body.style & drive.wheels & engine.location & wheel.base & length & ⋯ & peak.rpm & city.mpg & highway.mpg & price & city.L.100km & horsepower.binned & diesel & gas & predicted\\_price & highway\\_mpg\\\\\n",
              "  & <int> & <int> & <chr> & <chr> & <chr> & <chr> & <chr> & <chr> & <dbl> & <dbl> & ⋯ & <dbl> & <int> & <dbl> & <dbl> & <dbl> & <chr> & <int> & <int> & <dbl> & <int>\\\\\n",
              "\\hline\n",
              "\t1 & 3 & 122 & alfa-romero & std & two  & convertible & rwd & front & 88.6 & 0.8111485 & ⋯ & 5000 & 21 & -0.5409371 & 13495 & 11.190476 & Medium & 0 & 1 & 14483.48 & 27\\\\\n",
              "\t2 & 3 & 122 & alfa-romero & std & two  & convertible & rwd & front & 88.6 & 0.8111485 & ⋯ & 5000 & 21 & -0.5409371 & 16500 & 11.190476 & Medium & 0 & 1 & 14483.48 & 27\\\\\n",
              "\t3 & 1 & 122 & alfa-romero & std & two  & hatchback   & rwd & front & 94.5 & 0.8226814 & ⋯ & 5000 & 19 & -0.6876690 & 16500 & 12.368421 & Medium & 0 & 1 & 15876.77 & 26\\\\\n",
              "\t4 & 2 & 164 & audi        & std & four & sedan       & fwd & front & 99.8 & 0.8486305 & ⋯ & 5500 & 24 & -0.1007413 & 13950 &  9.791667 & Medium & 0 & 1 & 11210.24 & 30\\\\\n",
              "\t5 & 2 & 164 & audi        & std & four & sedan       & 4wd & front & 99.4 & 0.8486305 & ⋯ & 5500 & 18 & -1.2745966 & 17450 & 13.055556 & Medium & 0 & 1 & 23210.06 & 22\\\\\n",
              "\t6 & 2 & 122 & audi        & std & two  & sedan       & fwd & front & 99.8 & 0.8519942 & ⋯ & 5500 & 19 & -0.8344009 & 15250 & 12.368421 & Medium & 0 & 1 & 17436.73 & 25\\\\\n",
              "\\end{tabular}\n"
            ],
            "text/markdown": [
              "\n",
              "A data.frame: 6 × 31\n",
              "\n",
              "| <!--/--> | symboling &lt;int&gt; | normalized.losses &lt;int&gt; | make &lt;chr&gt; | aspiration &lt;chr&gt; | num.of.doors &lt;chr&gt; | body.style &lt;chr&gt; | drive.wheels &lt;chr&gt; | engine.location &lt;chr&gt; | wheel.base &lt;dbl&gt; | length &lt;dbl&gt; | ⋯ ⋯ | peak.rpm &lt;dbl&gt; | city.mpg &lt;int&gt; | highway.mpg &lt;dbl&gt; | price &lt;dbl&gt; | city.L.100km &lt;dbl&gt; | horsepower.binned &lt;chr&gt; | diesel &lt;int&gt; | gas &lt;int&gt; | predicted_price &lt;dbl&gt; | highway_mpg &lt;int&gt; |\n",
              "|---|---|---|---|---|---|---|---|---|---|---|---|---|---|---|---|---|---|---|---|---|---|\n",
              "| 1 | 3 | 122 | alfa-romero | std | two  | convertible | rwd | front | 88.6 | 0.8111485 | ⋯ | 5000 | 21 | -0.5409371 | 13495 | 11.190476 | Medium | 0 | 1 | 14483.48 | 27 |\n",
              "| 2 | 3 | 122 | alfa-romero | std | two  | convertible | rwd | front | 88.6 | 0.8111485 | ⋯ | 5000 | 21 | -0.5409371 | 16500 | 11.190476 | Medium | 0 | 1 | 14483.48 | 27 |\n",
              "| 3 | 1 | 122 | alfa-romero | std | two  | hatchback   | rwd | front | 94.5 | 0.8226814 | ⋯ | 5000 | 19 | -0.6876690 | 16500 | 12.368421 | Medium | 0 | 1 | 15876.77 | 26 |\n",
              "| 4 | 2 | 164 | audi        | std | four | sedan       | fwd | front | 99.8 | 0.8486305 | ⋯ | 5500 | 24 | -0.1007413 | 13950 |  9.791667 | Medium | 0 | 1 | 11210.24 | 30 |\n",
              "| 5 | 2 | 164 | audi        | std | four | sedan       | 4wd | front | 99.4 | 0.8486305 | ⋯ | 5500 | 18 | -1.2745966 | 17450 | 13.055556 | Medium | 0 | 1 | 23210.06 | 22 |\n",
              "| 6 | 2 | 122 | audi        | std | two  | sedan       | fwd | front | 99.8 | 0.8519942 | ⋯ | 5500 | 19 | -0.8344009 | 15250 | 12.368421 | Medium | 0 | 1 | 17436.73 | 25 |\n",
              "\n"
            ],
            "text/plain": [
              "  symboling normalized.losses make        aspiration num.of.doors body.style \n",
              "1 3         122               alfa-romero std        two          convertible\n",
              "2 3         122               alfa-romero std        two          convertible\n",
              "3 1         122               alfa-romero std        two          hatchback  \n",
              "4 2         164               audi        std        four         sedan      \n",
              "5 2         164               audi        std        four         sedan      \n",
              "6 2         122               audi        std        two          sedan      \n",
              "  drive.wheels engine.location wheel.base length    ⋯ peak.rpm city.mpg\n",
              "1 rwd          front           88.6       0.8111485 ⋯ 5000     21      \n",
              "2 rwd          front           88.6       0.8111485 ⋯ 5000     21      \n",
              "3 rwd          front           94.5       0.8226814 ⋯ 5000     19      \n",
              "4 fwd          front           99.8       0.8486305 ⋯ 5500     24      \n",
              "5 4wd          front           99.4       0.8486305 ⋯ 5500     18      \n",
              "6 fwd          front           99.8       0.8519942 ⋯ 5500     19      \n",
              "  highway.mpg price city.L.100km horsepower.binned diesel gas predicted_price\n",
              "1 -0.5409371  13495 11.190476    Medium            0      1   14483.48       \n",
              "2 -0.5409371  16500 11.190476    Medium            0      1   14483.48       \n",
              "3 -0.6876690  16500 12.368421    Medium            0      1   15876.77       \n",
              "4 -0.1007413  13950  9.791667    Medium            0      1   11210.24       \n",
              "5 -1.2745966  17450 13.055556    Medium            0      1   23210.06       \n",
              "6 -0.8344009  15250 12.368421    Medium            0      1   17436.73       \n",
              "  highway_mpg\n",
              "1 27         \n",
              "2 27         \n",
              "3 26         \n",
              "4 30         \n",
              "5 22         \n",
              "6 25         "
            ]
          },
          "metadata": {},
          "output_type": "display_data"
        }
      ],
      "source": [
        "# Xác định các biến cần chuẩn hóa\n",
        "vars_to_scale <- c(\"horsepower\", \"curb.weight\", \"engine.size\", \"highway.mpg\")\n",
        "\n",
        "# Tạo bộ dữ liệu với các biến cần chuẩn hóa\n",
        "df_scaled <- df[, vars_to_scale]\n",
        "\n",
        "# Chuẩn hóa dữ liệu sử dụng preProcess\n",
        "preProc <- preProcess(df_scaled, method = c(\"center\", \"scale\"))\n",
        "\n",
        "# Áp dụng chuẩn hóa vào bộ dữ liệu\n",
        "df_scaled <- predict(preProc, df_scaled)\n",
        "\n",
        "# Ghi lại các biến đã chuẩn hóa vào dataframe gốc\n",
        "df[, vars_to_scale] <- df_scaled\n",
        "\n",
        "# Kiểm tra kết quả\n",
        "head(df)"
      ]
    },
    {
      "cell_type": "markdown",
      "metadata": {
        "id": "dnx343FXSyYF"
      },
      "source": [
        "### **Data Type Conversion and Normalization**\n",
        "\n",
        "First, we convert the data type of **Z** to `float` to avoid any conversion warnings that may arise when using the `StandardScaler`, which requires float inputs.\n",
        "\n",
        "Next, we normalize the data by centering and scaling it, and then simultaneously perform a transform and fit the model. This step ensures the data is ready for model training, preventing issues caused by different feature scales.\n"
      ]
    },
    {
      "cell_type": "code",
      "execution_count": 124,
      "metadata": {
        "id": "ZDChPxTPSyYF",
        "trusted": true,
        "vscode": {
          "languageId": "r"
        }
      },
      "outputs": [
        {
          "data": {
            "text/plain": [
              "\n",
              "Call:\n",
              "lm(formula = price ~ horsepower + curb.weight + engine.size + \n",
              "    highway.mpg, data = df)\n",
              "\n",
              "Residuals:\n",
              "    Min      1Q  Median      3Q     Max \n",
              "-8992.6 -1647.2   -70.7  1323.9 13640.3 \n",
              "\n",
              "Coefficients:\n",
              "            Estimate Std. Error t value Pr(>|t|)    \n",
              "(Intercept)  13207.1      247.2  53.420  < 2e-16 ***\n",
              "horsepower    1998.9      550.3   3.632 0.000358 ***\n",
              "curb.weight   2435.3      578.9   4.207 3.94e-05 ***\n",
              "engine.size   3387.3      584.3   5.797 2.66e-08 ***\n",
              "highway.mpg    245.7      505.5   0.486 0.627390    \n",
              "---\n",
              "Signif. codes:  0 '***' 0.001 '**' 0.01 '*' 0.05 '.' 0.1 ' ' 1\n",
              "\n",
              "Residual standard error: 3505 on 196 degrees of freedom\n",
              "Multiple R-squared:  0.8094,\tAdjusted R-squared:  0.8055 \n",
              "F-statistic:   208 on 4 and 196 DF,  p-value: < 2.2e-16\n"
            ]
          },
          "metadata": {},
          "output_type": "display_data"
        }
      ],
      "source": [
        "# Fit mô hình hồi quy với dữ liệu đã chuẩn hóa\n",
        "model <- lm(price ~ horsepower + curb.weight + engine.size + highway.mpg, data = df)\n",
        "\n",
        "# In ra tóm tắt của mô hình\n",
        "summary(model)\n"
      ]
    },
    {
      "cell_type": "markdown",
      "metadata": {
        "id": "V4A4goYaSyYG"
      },
      "source": [
        "Similarly,  we can normalize the data, perform a transform and produce a prediction  simultaneously.\n"
      ]
    },
    {
      "cell_type": "code",
      "execution_count": 125,
      "metadata": {
        "colab": {
          "base_uri": "https://localhost:8080/",
          "height": 34
        },
        "id": "QnI-J9hlSyYG",
        "outputId": "03d1a1c4-e1d9-43d1-d595-a599de4022de",
        "trusted": true,
        "vscode": {
          "languageId": "r"
        }
      },
      "outputs": [
        {
          "data": {
            "text/html": [
              "<style>\n",
              ".dl-inline {width: auto; margin:0; padding: 0}\n",
              ".dl-inline>dt, .dl-inline>dd {float: none; width: auto; display: inline-block}\n",
              ".dl-inline>dt::after {content: \":\\0020\"; padding-right: .5ex}\n",
              ".dl-inline>dt:not(:first-of-type) {padding-left: .5ex}\n",
              "</style><dl class=dl-inline><dt>1</dt><dd>13699.1116118433</dd><dt>2</dt><dd>13699.1116118433</dd><dt>3</dt><dd>19051.6547023327</dd><dt>4</dt><dd>10620.361930149</dd></dl>\n"
            ],
            "text/latex": [
              "\\begin{description*}\n",
              "\\item[1] 13699.1116118433\n",
              "\\item[2] 13699.1116118433\n",
              "\\item[3] 19051.6547023327\n",
              "\\item[4] 10620.361930149\n",
              "\\end{description*}\n"
            ],
            "text/markdown": [
              "1\n",
              ":   13699.11161184332\n",
              ":   13699.11161184333\n",
              ":   19051.65470233274\n",
              ":   10620.361930149\n",
              "\n"
            ],
            "text/plain": [
              "       1        2        3        4 \n",
              "13699.11 13699.11 19051.65 10620.36 "
            ]
          },
          "metadata": {},
          "output_type": "display_data"
        }
      ],
      "source": [
        "# Tạo dự đoán từ mô hình đã fit\n",
        "y_pred_pipeline <- predict(model, newdata = df)\n",
        "\n",
        "# Hiển thị 4 giá trị dự đoán đầu tiên\n",
        "head(y_pred_pipeline, 4)\n"
      ]
    },
    {
      "cell_type": "markdown",
      "metadata": {
        "id": "rlTt0H9fSyYG"
      },
      "source": [
        "### **Question 5: Creating a Pipeline for Standardization and Linear Regression**\n",
        "\n",
        "Create a pipeline that performs the following steps:\n",
        "1. **Standardizes the data** using a preprocessing step.\n",
        "2. **Trains a Linear Regression model** using the standardized features `Z` and target variable `y`.\n",
        "3. **Produces predictions** based on the trained model.\n",
        "\n",
        "The pipeline will ensure the data is normalized before fitting the model, improving the consistency of the results.\n",
        "\n"
      ]
    },
    {
      "cell_type": "code",
      "execution_count": 126,
      "metadata": {
        "colab": {
          "base_uri": "https://localhost:8080/"
        },
        "id": "K3wrsHXNSyYG",
        "outputId": "ce86f3bd-a6c1-4e00-c8f9-b3deac7c319e",
        "trusted": true,
        "vscode": {
          "languageId": "r"
        }
      },
      "outputs": [
        {
          "name": "stdout",
          "output_type": "stream",
          "text": [
            "       1        2        3        4 \n",
            "13699.11 13699.11 19051.65 10620.36 \n"
          ]
        }
      ],
      "source": [
        "# Define features and target variable\n",
        "Z <- df[, c('highway.mpg', 'curb.weight', 'engine.size', 'horsepower')]\n",
        "y <- df$price\n",
        "\n",
        "# Step 1: Standardize the data using preProcess\n",
        "preProc <- preProcess(Z, method = c(\"center\", \"scale\"))\n",
        "\n",
        "# Apply standardization\n",
        "Z_standardized <- predict(preProc, Z)\n",
        "\n",
        "# Step 2: Train a Linear Regression model\n",
        "model <- lm(y ~ ., data = as.data.frame(Z_standardized))\n",
        "\n",
        "# Step 3: Produce predictions based on the trained model\n",
        "y_pred <- predict(model, newdata = as.data.frame(Z_standardized))\n",
        "\n",
        "# Display the first 4 predictions\n",
        "print(head(y_pred, 4))"
      ]
    },
    {
      "cell_type": "markdown",
      "metadata": {
        "id": "a2Vsrag7SyYG"
      },
      "source": [
        "### **4. Measures for In-Sample Evaluation**\n",
        "\n",
        "When evaluating our models, it's essential to not only visualize the results but also use quantitative measures to determine the accuracy of the model. Two key metrics often used in statistics for model evaluation are:\n",
        "\n",
        "#### **R-squared (R²)**\n",
        "R-squared, also known as the **coefficient of determination**, is a metric that indicates how close the data points are to the fitted regression line. It explains the proportion of the variance in the response variable (y) that is predictable from the independent variables.\n",
        "\n",
        "- **Interpretation**: The value of R-squared represents the percentage of variation in the dependent variable that the model can explain.\n",
        "\n",
        "#### **Mean Squared Error (MSE)**\n",
        "Mean Squared Error is a metric that measures the average of the squares of the errors. The error is the difference between the actual value (y) and the predicted value (ŷ).\n",
        "\n",
        "- **Formula**:\n",
        "$$ MSE = \\frac{1}{n} \\sum_{i=1}^{n} (y_i - \\hat{y}_i)^2 $$\n",
        "\n",
        "- **Interpretation**: The MSE provides a measure of how well the model's predictions match the actual data. A lower MSE indicates a better fit to the data.\n"
      ]
    },
    {
      "cell_type": "markdown",
      "metadata": {
        "id": "8iI4BjtCSyYH"
      },
      "source": [
        "<h3>Model 1: Simple Linear Regression</h3>\n"
      ]
    },
    {
      "cell_type": "markdown",
      "metadata": {
        "id": "OtTqFoHySyYH"
      },
      "source": [
        "Let's calculate the R^2:\n"
      ]
    },
    {
      "cell_type": "code",
      "execution_count": 127,
      "metadata": {
        "colab": {
          "base_uri": "https://localhost:8080/"
        },
        "id": "rB-4OSoaSyYH",
        "outputId": "e9bba940-dc63-48e5-e77a-0f6ca09d9e5e",
        "trusted": true,
        "vscode": {
          "languageId": "r"
        }
      },
      "outputs": [
        {
          "name": "stdout",
          "output_type": "stream",
          "text": [
            "R-squared cho mô hình hồi quy là: 0.8093563 \n"
          ]
        }
      ],
      "source": [
        "# Đánh giá mô hình bằng cách sử dụng summary\n",
        "model_summary <- summary(model)\n",
        "\n",
        "# In ra R-squared\n",
        "r_squared <- model_summary$r.squared\n",
        "cat(\"R-squared cho mô hình hồi quy là:\", r_squared, \"\\n\")\n"
      ]
    },
    {
      "cell_type": "markdown",
      "metadata": {
        "id": "f5eH4xBoSyYH"
      },
      "source": [
        "We can say that approximately **49.659%** of the variation in the price is explained by this simple linear model `\"horsepower_fit\"`.\n",
        "\n",
        "### **Calculating the Mean Squared Error (MSE)**\n",
        "\n",
        "To compute the MSE, we first need to predict the output (denoted as **yhat**) using the `predict` method, where **X** is the input variable. The MSE will measure the average squared difference between the actual and predicted values, providing a quantitative evaluation of the model’s performance.\n"
      ]
    },
    {
      "cell_type": "code",
      "execution_count": 129,
      "metadata": {
        "colab": {
          "base_uri": "https://localhost:8080/"
        },
        "id": "xZyxH0JzSyYH",
        "outputId": "fc8d042e-b6c2-49b2-d024-e94a3e9a437c",
        "trusted": true,
        "vscode": {
          "languageId": "r"
        }
      },
      "outputs": [
        {
          "name": "stdout",
          "output_type": "stream",
          "text": [
            "       1        2        3        4 \n",
            "13699.11 13699.11 19051.65 10620.36 \n"
          ]
        }
      ],
      "source": [
        "# Dự đoán giá trị từ mô hình đã fit\n",
        "y_pred <- predict(model, newdata = as.data.frame(Z_standardized))\n",
        "\n",
        "# In ra 4 giá trị dự đoán đầu tiên\n",
        "print(head(y_pred, 4))\n"
      ]
    },
    {
      "cell_type": "markdown",
      "metadata": {
        "id": "E2bS0tfCSyYI"
      },
      "source": [
        "We can compare the predicted results with the actual results by calculating the **Mean Squared Error (MSE)** and **R-squared** for the multiple linear regression model.\n",
        "\n",
        "### **Calculating MSE for the Multiple Regression Model**\n",
        "The MSE will help us understand how well the multiple regression model predicts the price by measuring the average squared difference between the actual and predicted prices.\n",
        "\n",
        "### **Calculating R-squared for the Multiple Regression Model**\n",
        "R-squared indicates the proportion of variance in the price that is explained by the predictor variables in the multiple regression model.\n",
        "\n",
        "Both metrics allow us to evaluate how well the model fits the data.\n"
      ]
    },
    {
      "cell_type": "code",
      "execution_count": 130,
      "metadata": {
        "colab": {
          "base_uri": "https://localhost:8080/"
        },
        "id": "aeGTC1jzSyYI",
        "outputId": "aa5b359d-09cb-43d7-8fb5-5989c410439b",
        "trusted": true,
        "vscode": {
          "languageId": "r"
        }
      },
      "outputs": [
        {
          "name": "stdout",
          "output_type": "stream",
          "text": [
            "Mean Squared Error (MSE) cho mô hình đa biến là: 11980367 \n"
          ]
        }
      ],
      "source": [
        "# Tính MSE\n",
        "mse <- mean((y - y_pred)^2)\n",
        "\n",
        "# In ra giá trị MSE\n",
        "cat(\"Mean Squared Error (MSE) cho mô hình đa biến là:\", mse, \"\\n\")\n"
      ]
    },
    {
      "cell_type": "code",
      "execution_count": 133,
      "metadata": {
        "colab": {
          "base_uri": "https://localhost:8080/"
        },
        "id": "3YMvxc1HuCcf",
        "outputId": "2ff20909-3552-49a0-d62f-d28056f7e9a8",
        "vscode": {
          "languageId": "r"
        }
      },
      "outputs": [
        {
          "name": "stdout",
          "output_type": "stream",
          "text": [
            "R-squared cho mô hình hồi quy đa biến là: 0.8093563 \n"
          ]
        }
      ],
      "source": [
        "# Đánh giá mô hình bằng cách sử dụng summary\n",
        "model_summary <- summary(model)\n",
        "\n",
        "# In ra R-squared\n",
        "r_squared <- model_summary$r.squared\n",
        "cat(\"R-squared cho mô hình hồi quy đa biến là:\", r_squared, \"\\n\")\n"
      ]
    },
    {
      "cell_type": "markdown",
      "metadata": {
        "id": "XGQT7Nu2SyYI"
      },
      "source": [
        "### Model 2: Multiple Linear Regression\n",
        "\n",
        "We created a multiple linear regression model using the following predictor variables:\n",
        "- **Horsepower**\n",
        "- **Curb Weight**\n",
        "- **Engine Size**\n",
        "- **Highway MPG**\n",
        "\n",
        "This model aims to explain the variation in car prices.\n",
        "\n",
        "\n"
      ]
    },
    {
      "cell_type": "code",
      "execution_count": 134,
      "metadata": {
        "id": "tl4eyJvl6Rl_",
        "vscode": {
          "languageId": "r"
        }
      },
      "outputs": [
        {
          "name": "stdout",
          "output_type": "stream",
          "text": [
            "\n",
            "Call:\n",
            "lm(formula = y ~ highway.mpg + curb.weight + engine.size + horsepower, \n",
            "    data = df)\n",
            "\n",
            "Residuals:\n",
            "    Min      1Q  Median      3Q     Max \n",
            "-8992.6 -1647.2   -70.7  1323.9 13640.3 \n",
            "\n",
            "Coefficients:\n",
            "            Estimate Std. Error t value Pr(>|t|)    \n",
            "(Intercept)  13207.1      247.2  53.420  < 2e-16 ***\n",
            "highway.mpg    245.7      505.5   0.486 0.627390    \n",
            "curb.weight   2435.3      578.9   4.207 3.94e-05 ***\n",
            "engine.size   3387.3      584.3   5.797 2.66e-08 ***\n",
            "horsepower    1998.9      550.3   3.632 0.000358 ***\n",
            "---\n",
            "Signif. codes:  0 '***' 0.001 '**' 0.01 '*' 0.05 '.' 0.1 ' ' 1\n",
            "\n",
            "Residual standard error: 3505 on 196 degrees of freedom\n",
            "Multiple R-squared:  0.8094,\tAdjusted R-squared:  0.8055 \n",
            "F-statistic:   208 on 4 and 196 DF,  p-value: < 2.2e-16\n",
            "\n"
          ]
        }
      ],
      "source": [
        "# Giả sử bạn đã chuẩn bị dữ liệu trong biến Z và biến y\n",
        "# Tạo mô hình đa biến\n",
        "multi_fit <- lm(y ~ highway.mpg + curb.weight + engine.size + horsepower, data = df)\n",
        "\n",
        "# Xem kết quả\n",
        "summary_fit <- summary(multi_fit)\n",
        "\n",
        "# In ra tóm tắt mô hình\n",
        "print(summary_fit)\n"
      ]
    },
    {
      "cell_type": "markdown",
      "metadata": {
        "id": "9puJUosnSyYI"
      },
      "source": [
        "Let's calculate the R^2:\n"
      ]
    },
    {
      "cell_type": "code",
      "execution_count": 135,
      "metadata": {
        "colab": {
          "base_uri": "https://localhost:8080/"
        },
        "id": "wcyVC2G5uJuA",
        "outputId": "5ef8a69b-b07f-4e09-9eab-4582ecfe6f85",
        "vscode": {
          "languageId": "r"
        }
      },
      "outputs": [
        {
          "name": "stdout",
          "output_type": "stream",
          "text": [
            "R-squared cho mô hình đa biến là: 0.8093563 \n"
          ]
        }
      ],
      "source": [
        "# Tạo mô hình đa biến (nếu chưa làm)\n",
        "multi_fit <- lm(y ~ highway.mpg + curb.weight + engine.size + horsepower, data = df)\n",
        "\n",
        "# Xem kết quả\n",
        "summary_fit <- summary(multi_fit)\n",
        "\n",
        "# In ra R-squared\n",
        "r_squared <- summary_fit$r.squared\n",
        "cat(\"R-squared cho mô hình đa biến là:\", r_squared, \"\\n\")\n"
      ]
    },
    {
      "cell_type": "code",
      "execution_count": 136,
      "metadata": {
        "colab": {
          "base_uri": "https://localhost:8080/"
        },
        "id": "S3LqlLzwSyYI",
        "outputId": "ad926c9b-403e-4edc-88df-a93354e3e969",
        "trusted": true,
        "vscode": {
          "languageId": "r"
        }
      },
      "outputs": [
        {
          "name": "stdout",
          "output_type": "stream",
          "text": [
            "\n",
            "Phân tích Variation:\n",
            "Total Variation: 12631172689 \n",
            "Explained Variation: 10223118948 \n",
            "Unexplained Variation: 2408053741 \n",
            "Proportion Explained: 80.936 %\n",
            "\n",
            "Đóng góp của từng biến:\n",
            "highway.mpg : 3.05 %\n",
            "curb.weight : 30.19 %\n",
            "engine.size : 41.99 %\n",
            "horsepower : 24.78 %\n"
          ]
        }
      ],
      "source": [
        "# Phân tích chi tiết variation\n",
        "TSS <- sum((df$price - mean(df$price))^2)  # Tổng bình phương sai lệch\n",
        "RSS <- sum(summary_fit$residuals^2)         # Tổng bình phương phần dư\n",
        "ESS <- TSS - RSS                            # Tổng sai số giải thích được\n",
        "\n",
        "cat(\"\\nPhân tích Variation:\\n\")\n",
        "cat(\"Total Variation:\", round(TSS, 2), \"\\n\")\n",
        "cat(\"Explained Variation:\", round(ESS, 2), \"\\n\")\n",
        "cat(\"Unexplained Variation:\", round(RSS, 2), \"\\n\")\n",
        "cat(\"Proportion Explained:\", round(ESS / TSS * 100, 3), \"%\\n\")\n",
        "\n",
        "# Phân tích đóng góp của từng biến\n",
        "coefficients <- coef(multi_fit)[-1]  # Bỏ qua hệ số chặn\n",
        "standardized_coef <- coefficients * sapply(df[names(coefficients)], sd) / sd(df$price)\n",
        "\n",
        "# In ra đóng góp của từng biến\n",
        "cat(\"\\nĐóng góp của từng biến:\\n\")\n",
        "for(i in 1:length(standardized_coef)) {\n",
        "    cat(names(standardized_coef)[i], \":\",\n",
        "        round(abs(standardized_coef[i]) / sum(abs(standardized_coef)) * 100, 2), \"%\\n\")\n",
        "}"
      ]
    },
    {
      "cell_type": "markdown",
      "metadata": {
        "id": "VgnWvpnPSyYI"
      },
      "source": [
        "#### **R-squared**\n",
        "The R-squared value, which represents the proportion of variation in the car prices explained by this model, is approximately **80.936%**.\n",
        "\n",
        "#### **Variation Analysis**\n",
        "We analyzed the variation in the data as follows:\n",
        "- **Total Variation**: 12,631,172,689\n",
        "- **Explained Variation**: 10,223,118,948\n",
        "- **Unexplained Variation**: 2,408,053,741\n",
        "- **Proportion Explained**: 80.936%\n",
        "\n",
        "This shows that **~80.94%** of the variation in car prices can be explained by this multiple linear regression model.\n",
        "\n"
      ]
    },
    {
      "cell_type": "markdown",
      "metadata": {
        "id": "72tOlQHg8Tao"
      },
      "source": [
        "We compare the predicted results with the actual results:"
      ]
    },
    {
      "cell_type": "code",
      "execution_count": 141,
      "metadata": {
        "colab": {
          "base_uri": "https://localhost:8080/"
        },
        "id": "Vd-avkDZSyYJ",
        "outputId": "74a21e87-6c09-49f1-ae21-3e6cb8b75581",
        "trusted": true,
        "vscode": {
          "languageId": "r"
        }
      },
      "outputs": [
        {
          "data": {
            "text/html": [
              "<table class=\"dataframe\">\n",
              "<caption>A data.frame: 10 × 3</caption>\n",
              "<thead>\n",
              "\t<tr><th></th><th scope=col>Actual</th><th scope=col>Predicted</th><th scope=col>Percent_Predicted</th></tr>\n",
              "\t<tr><th></th><th scope=col>&lt;dbl&gt;</th><th scope=col>&lt;dbl&gt;</th><th scope=col>&lt;dbl&gt;</th></tr>\n",
              "</thead>\n",
              "<tbody>\n",
              "\t<tr><th scope=row>1</th><td>13495</td><td>13699.11</td><td> 1.512498</td></tr>\n",
              "\t<tr><th scope=row>2</th><td>16500</td><td>13699.11</td><td>16.975081</td></tr>\n",
              "\t<tr><th scope=row>3</th><td>16500</td><td>19051.65</td><td>15.464574</td></tr>\n",
              "\t<tr><th scope=row>4</th><td>13950</td><td>10620.36</td><td>23.868373</td></tr>\n",
              "\t<tr><th scope=row>5</th><td>17450</td><td>15521.31</td><td>11.052641</td></tr>\n",
              "\t<tr><th scope=row>6</th><td>15250</td><td>13869.67</td><td> 9.051366</td></tr>\n",
              "\t<tr><th scope=row>7</th><td>17710</td><td>15456.16</td><td>12.726358</td></tr>\n",
              "\t<tr><th scope=row>8</th><td>18920</td><td>15974.01</td><td>15.570777</td></tr>\n",
              "\t<tr><th scope=row>9</th><td>23875</td><td>17612.36</td><td>26.230956</td></tr>\n",
              "\t<tr><th scope=row>10</th><td>16430</td><td>10722.33</td><td>34.739348</td></tr>\n",
              "</tbody>\n",
              "</table>\n"
            ],
            "text/latex": [
              "A data.frame: 10 × 3\n",
              "\\begin{tabular}{r|lll}\n",
              "  & Actual & Predicted & Percent\\_Predicted\\\\\n",
              "  & <dbl> & <dbl> & <dbl>\\\\\n",
              "\\hline\n",
              "\t1 & 13495 & 13699.11 &  1.512498\\\\\n",
              "\t2 & 16500 & 13699.11 & 16.975081\\\\\n",
              "\t3 & 16500 & 19051.65 & 15.464574\\\\\n",
              "\t4 & 13950 & 10620.36 & 23.868373\\\\\n",
              "\t5 & 17450 & 15521.31 & 11.052641\\\\\n",
              "\t6 & 15250 & 13869.67 &  9.051366\\\\\n",
              "\t7 & 17710 & 15456.16 & 12.726358\\\\\n",
              "\t8 & 18920 & 15974.01 & 15.570777\\\\\n",
              "\t9 & 23875 & 17612.36 & 26.230956\\\\\n",
              "\t10 & 16430 & 10722.33 & 34.739348\\\\\n",
              "\\end{tabular}\n"
            ],
            "text/markdown": [
              "\n",
              "A data.frame: 10 × 3\n",
              "\n",
              "| <!--/--> | Actual &lt;dbl&gt; | Predicted &lt;dbl&gt; | Percent_Predicted &lt;dbl&gt; |\n",
              "|---|---|---|---|\n",
              "| 1 | 13495 | 13699.11 |  1.512498 |\n",
              "| 2 | 16500 | 13699.11 | 16.975081 |\n",
              "| 3 | 16500 | 19051.65 | 15.464574 |\n",
              "| 4 | 13950 | 10620.36 | 23.868373 |\n",
              "| 5 | 17450 | 15521.31 | 11.052641 |\n",
              "| 6 | 15250 | 13869.67 |  9.051366 |\n",
              "| 7 | 17710 | 15456.16 | 12.726358 |\n",
              "| 8 | 18920 | 15974.01 | 15.570777 |\n",
              "| 9 | 23875 | 17612.36 | 26.230956 |\n",
              "| 10 | 16430 | 10722.33 | 34.739348 |\n",
              "\n"
            ],
            "text/plain": [
              "   Actual Predicted Percent_Predicted\n",
              "1  13495  13699.11   1.512498        \n",
              "2  16500  13699.11  16.975081        \n",
              "3  16500  19051.65  15.464574        \n",
              "4  13950  10620.36  23.868373        \n",
              "5  17450  15521.31  11.052641        \n",
              "6  15250  13869.67   9.051366        \n",
              "7  17710  15456.16  12.726358        \n",
              "8  18920  15974.01  15.570777        \n",
              "9  23875  17612.36  26.230956        \n",
              "10 16430  10722.33  34.739348        "
            ]
          },
          "metadata": {},
          "output_type": "display_data"
        }
      ],
      "source": [
        "# Tạo dataframe so sánh giữa giá trị thực tế và giá trị dự đoán\n",
        "comparison_df <- data.frame(\n",
        "  Actual = y,             # Giá trị thực tế\n",
        "  Predicted = y_pred,     # Giá trị dự đoán\n",
        "  Percent_Predicted = abs((y_pred / y)*100 - 100) # Tính phần trăm dự đoán\n",
        ")\n",
        "\n",
        "# In ra 10 giá trị đầu tiên để so sánh\n",
        "head(comparison_df, 10)\n"
      ]
    },
    {
      "cell_type": "markdown",
      "metadata": {
        "id": "586JBHYC_SyP"
      },
      "source": [
        "### **Actual vs Predicted Values and Predicted Percentage**\n",
        "\n",
        "We are comparing the actual values of the target variable (`price`) with the predicted values from the linear regression model. To help quantify the accuracy of the model's predictions, we will also calculate the **Predicted_Percent** as follows:\n",
        "\n",
        "$$\n",
        "\\text{Predicted_Percent} = \\left( \\frac{\\text{Predicted}}{\\text{Actual}} \\right) \\times 100\n",
        "$$\n",
        "\n",
        "This value indicates how close the predicted price is to the actual price.\n",
        "\n",
        "### **Interpreting the Predicted_Percent:**\n",
        "- **> 100%**: The model predicted a price that is higher than the actual price.\n",
        "- **< 100%**: The model predicted a price that is lower than the actual price.\n",
        "\n",
        "### **Example Scenarios:**\n",
        "\n",
        "1. **Actual = 13,495, Predicted = 13,699.11**\n",
        "   - **Predicted_Percent** = $ \\left( \\frac{13,699.11}{13,495} \\right) \\times 100 = 101.51\\%$\n",
        "   - **Interpretation**: The model overestimated the price by about **1.51%**, which means the prediction is very close to the actual value.\n",
        "\n",
        "2. **Actual = 16,500, Predicted = 13,699.11**\n",
        "   - **Predicted_Percent** = $ \\left( \\frac{13,699.11}{16,500} \\right) \\times 100 = 83.02\\%$\n",
        "   - **Interpretation**: The model underestimated the price by about **17%**, predicting a value significantly lower than the actual price.\n",
        "\n",
        "### **Questions to Consider:**\n",
        "1. How often does the model overestimate or underestimate the actual price?\n",
        "2. What is the typical range of the Predicted_Percent values? Does the model generally perform well?\n",
        "3. For which types of cars (based on their features) does the model make more accurate predictions? Where does it struggle?\n"
      ]
    },
    {
      "cell_type": "markdown",
      "metadata": {
        "id": "br-uxq8WBJr0"
      },
      "source": [
        "\n",
        "\n",
        "```\n",
        "# Complete the question with your answer\n",
        "```\n",
        "\n"
      ]
    },
    {
      "cell_type": "markdown",
      "metadata": {
        "id": "2WcQskHTSyYJ"
      },
      "source": [
        "### Model 3: Polynomial Fit\n",
        "\n",
        "In this model, we apply **Polynomial Regression** by adding a second-degree term for the predictor variable **horsepower**. The polynomial regression is a type of regression that models the relationship between the independent variable and the dependent variable as an nth degree polynomial.\n",
        "\n",
        "#### **Polynomial Model Structure**\n",
        "We create a polynomial fit for **horsepower** with the equation:\n",
        "$$\n",
        "\\text{Price} = \\beta_0 + \\beta_1 \\cdot \\text{horsepower} + \\beta_2 \\cdot \\text{horsepower}^2\n",
        "$$\n",
        "\n",
        "This allows us to capture non-linear relationships between **horsepower** and **price**.\n",
        "\n"
      ]
    },
    {
      "cell_type": "code",
      "execution_count": 142,
      "metadata": {
        "colab": {
          "base_uri": "https://localhost:8080/"
        },
        "id": "FSFAgPHWA1uS",
        "outputId": "4caf0e22-db88-4d59-f6e4-9f729e70725c",
        "vscode": {
          "languageId": "r"
        }
      },
      "outputs": [
        {
          "name": "stdout",
          "output_type": "stream",
          "text": [
            "\n",
            "Call:\n",
            "lm(formula = price ~ horsepower + I(horsepower^2), data = df)\n",
            "\n",
            "Residuals:\n",
            "     Min       1Q   Median       3Q      Max \n",
            "-10929.6  -2196.4   -699.4   1837.8  17969.2 \n",
            "\n",
            "Coefficients:\n",
            "                Estimate Std. Error t value Pr(>|t|)    \n",
            "(Intercept)      12921.8      404.8  31.922   <2e-16 ***\n",
            "horsepower        6108.3      425.5  14.355   <2e-16 ***\n",
            "I(horsepower^2)    286.7      236.3   1.213    0.226    \n",
            "---\n",
            "Signif. codes:  0 '***' 0.001 '**' 0.01 '*' 0.05 '.' 0.1 ' ' 1\n",
            "\n",
            "Residual standard error: 4671 on 198 degrees of freedom\n",
            "Multiple R-squared:  0.658,\tAdjusted R-squared:  0.6545 \n",
            "F-statistic: 190.4 on 2 and 198 DF,  p-value: < 2.2e-16\n",
            "\n"
          ]
        }
      ],
      "source": [
        "# Tạo mô hình polynomial regression với bậc 2 cho biến horsepower\n",
        "poly_fit <- lm(price ~ horsepower + I(horsepower^2), data = df)\n",
        "\n",
        "# Xem kết quả mô hình\n",
        "summary_poly <- summary(poly_fit)\n",
        "print(summary_poly)\n"
      ]
    },
    {
      "cell_type": "markdown",
      "metadata": {
        "id": "kGIWuFBwSyYJ"
      },
      "source": [
        "#### **R-squared**\n",
        "The R-squared value for this model is calculated using the `r.squared` attribute of the model summary, and it measures how well the polynomial model explains the variation in car prices.\n",
        "\n"
      ]
    },
    {
      "cell_type": "code",
      "execution_count": 143,
      "metadata": {
        "colab": {
          "base_uri": "https://localhost:8080/"
        },
        "id": "Ng0Z1Z7dA6t5",
        "outputId": "aceb0b37-24b3-4827-b3f3-c254f0bc1c23",
        "vscode": {
          "languageId": "r"
        }
      },
      "outputs": [
        {
          "name": "stdout",
          "output_type": "stream",
          "text": [
            "R-squared cho mô hình hồi quy đa thức là: 0.657954 \n"
          ]
        }
      ],
      "source": [
        "# Tính R-squared từ mô hình polynomial\n",
        "r_squared_poly <- summary_poly$r.squared\n",
        "\n",
        "# In ra giá trị R-squared\n",
        "cat(\"R-squared cho mô hình hồi quy đa thức là:\", r_squared_poly, \"\\n\")\n"
      ]
    },
    {
      "cell_type": "markdown",
      "metadata": {
        "id": "t2nCxlwUSyYK"
      },
      "source": [
        "Let’s import the function <b>r2\\_score</b> from the module <b>metrics</b> as we are using a different function.\n"
      ]
    },
    {
      "cell_type": "markdown",
      "metadata": {
        "id": "fpOxon_QSyYK"
      },
      "source": [
        "We apply the function to get the value of R^2:\n"
      ]
    },
    {
      "cell_type": "code",
      "execution_count": 144,
      "metadata": {
        "colab": {
          "base_uri": "https://localhost:8080/"
        },
        "id": "xInhKe7mSyYK",
        "outputId": "51d10bf7-1f89-4de7-d9bb-464285c44c63",
        "trusted": true,
        "vscode": {
          "languageId": "r"
        }
      },
      "outputs": [
        {
          "name": "stdout",
          "output_type": "stream",
          "text": [
            "Polynomial Regression Results:\n",
            "R-squared (Polynomial): 65.795 %\n",
            "R-squared (Linear): 65.541 %\n",
            "\n",
            "MSE Comparison:\n",
            "MSE (Polynomial): 21494736 \n",
            "MSE (Linear): 21654544 \n"
          ]
        }
      ],
      "source": [
        "# Giả sử bạn đã có các giá trị R-squared và MSE cho cả hai mô hình\n",
        "# R-squared cho mô hình tuyến tính (giả định đã tính toán trước)\n",
        "r_squared_linear <- summary(lm(price ~ horsepower, data = df))$r.squared\n",
        "\n",
        "# Tính MSE cho mô hình hồi quy đa thức\n",
        "y_pred_poly <- predict(poly_fit)  # Dự đoán từ mô hình đa thức\n",
        "mse_poly <- mean((y - y_pred_poly)^2)  # Tính MSE cho mô hình đa thức\n",
        "\n",
        "# Tính MSE cho mô hình tuyến tính\n",
        "y_pred_linear <- predict(lm(price ~ horsepower, data = df))  # Dự đoán từ mô hình tuyến tính\n",
        "mse_linear <- mean((y - y_pred_linear)^2)  # Tính MSE cho mô hình tuyến tính\n",
        "\n",
        "# In kết quả\n",
        "cat(\"Polynomial Regression Results:\\n\")\n",
        "cat(\"R-squared (Polynomial):\", round(r_squared_poly * 100, 3), \"%\\n\")\n",
        "cat(\"R-squared (Linear):\", round(r_squared_linear * 100, 3), \"%\\n\")\n",
        "cat(\"\\nMSE Comparison:\\n\")\n",
        "cat(\"MSE (Polynomial):\", format(mse_poly, scientific = FALSE), \"\\n\")\n",
        "cat(\"MSE (Linear):\", format(mse_linear, scientific = FALSE), \"\\n\")\n"
      ]
    },
    {
      "cell_type": "markdown",
      "metadata": {
        "id": "4oNFeGhqSyYK"
      },
      "source": [
        "### Polynomial Regression Results\n",
        "\n",
        "After fitting the polynomial regression model, we find the following evaluation metrics:\n",
        "\n",
        "- **R-squared (Polynomial)**: 64.319%\n",
        "- **R-squared (Linear)**: 64.214%\n",
        "\n",
        "These values indicate that the polynomial model explains approximately **64.319%** of the variation in car prices, which is slightly higher than the **64.214%** explained by the linear model. This suggests that the polynomial regression provides a marginally better fit for the data.\n",
        "\n",
        "\n"
      ]
    },
    {
      "cell_type": "markdown",
      "metadata": {
        "id": "-rBPr5fzSyYK"
      },
      "source": [
        "### MSE\n",
        "\n",
        "\n"
      ]
    },
    {
      "cell_type": "markdown",
      "metadata": {
        "id": "tRJOv-TbSyYL"
      },
      "source": [
        "We can also calculate the MSE:\n"
      ]
    },
    {
      "cell_type": "code",
      "execution_count": 147,
      "metadata": {
        "colab": {
          "base_uri": "https://localhost:8080/",
          "height": 72
        },
        "id": "hgbFi2uQSyYL",
        "outputId": "e8947cdf-59d0-4f83-d116-10c1211b6dab",
        "trusted": true,
        "vscode": {
          "languageId": "r"
        }
      },
      "outputs": [
        {
          "name": "stdout",
          "output_type": "stream",
          "text": [
            "Mean Squared Error: 21494736 \n"
          ]
        }
      ],
      "source": [
        "# Giả sử p(x) là hàm dự đoán của mô hình\n",
        "# Đầu tiên, tạo dự đoán từ mô hình đã fit\n",
        "y_pred <- predict(poly_fit, newdata = df)  # Dự đoán từ mô hình hồi quy đa thức\n",
        "\n",
        "# Tính MSE\n",
        "mse <- mean((df$price - y_pred)^2)\n",
        "\n",
        "# In ra giá trị MSE\n",
        "cat(\"Mean Squared Error:\", mse, \"\\n\")\n"
      ]
    },
    {
      "cell_type": "code",
      "execution_count": 146,
      "metadata": {
        "colab": {
          "base_uri": "https://localhost:8080/"
        },
        "id": "BddUWQEgmB4N",
        "outputId": "88398e69-d801-4f43-a502-886daead9f57",
        "vscode": {
          "languageId": "r"
        }
      },
      "outputs": [
        {
          "name": "stderr",
          "output_type": "stream",
          "text": [
            "Installing package into 'C:/Users/Admin/AppData/Local/R/win-library/4.4'\n",
            "(as 'lib' is unspecified)\n",
            "\n"
          ]
        },
        {
          "name": "stdout",
          "output_type": "stream",
          "text": [
            "package 'gridExtra' successfully unpacked and MD5 sums checked\n",
            "\n",
            "The downloaded binary packages are in\n",
            "\tC:\\Users\\Admin\\AppData\\Local\\Temp\\RtmpoTeioL\\downloaded_packages\n"
          ]
        }
      ],
      "source": [
        "install.packages(\"gridExtra\")"
      ]
    },
    {
      "cell_type": "code",
      "execution_count": 149,
      "metadata": {
        "colab": {
          "base_uri": "https://localhost:8080/",
          "height": 857
        },
        "id": "OrLmq5FRB7vb",
        "outputId": "752f282b-f0e7-4d13-9b3c-0aadbce085f5",
        "vscode": {
          "languageId": "r"
        }
      },
      "outputs": [],
      "source": [
        "# Tạo dữ liệu để vẽ đường fit\n",
        "hp_range <- seq(min(df$horsepower), max(df$horsepower), length.out = 100)\n",
        "pred_data <- data.frame(horsepower = hp_range)\n",
        "pred_poly <- predict(poly_fit, newdata = pred_data)  # Dự đoán từ mô hình hồi quy đa thức\n",
        "pred_linear <- predict(lm(price ~ horsepower, data = df), newdata = pred_data)  # Mô hình hồi quy tuyến tính\n"
      ]
    },
    {
      "cell_type": "code",
      "execution_count": 150,
      "metadata": {
        "vscode": {
          "languageId": "r"
        }
      },
      "outputs": [
        {
          "data": {
            "image/png": "[encoded data removed]",
            "text/plain": [
              "plot without title"
            ]
          },
          "metadata": {
            "image/png": {
              "height": 420,
              "width": 420
            }
          },
          "output_type": "display_data"
        },
        {
          "data": {
            "image/png": "[encoded data removed]",
            "text/plain": [
              "plot without title"
            ]
          },
          "metadata": {
            "image/png": {
              "height": 420,
              "width": 420
            }
          },
          "output_type": "display_data"
        }
      ],
      "source": [
        "# Vẽ biểu đồ so sánh\n",
        "library(ggplot2)\n",
        "\n",
        "# Tạo DataFrame cho biểu đồ\n",
        "comparison_df <- data.frame(horsepower = hp_range, \n",
        "                             Polynomial = pred_poly, \n",
        "                             Linear = pred_linear)\n",
        "\n",
        "# Vẽ biểu đồ\n",
        "ggplot(comparison_df, aes(x = horsepower)) +\n",
        "  geom_line(aes(y = Polynomial, color = \"Polynomial Fit\"), size = 1) +\n",
        "  geom_line(aes(y = Linear, color = \"Linear Fit\"), size = 1, linetype = \"dashed\") +\n",
        "  geom_point(data = df, aes(y = price), color = \"black\", alpha = 0.5) +  # Thêm điểm giá trị thực tế\n",
        "  labs(title = \"Comparison of Polynomial and Linear Regression Fits\",\n",
        "       x = \"Horsepower\",\n",
        "       y = \"Price\") +\n",
        "  scale_color_manual(values = c(\"Polynomial Fit\" = \"blue\", \"Linear Fit\" = \"red\")) +\n",
        "  theme_minimal() +\n",
        "  theme(legend.title = element_blank())\n",
        "# Tính các residuals cho mô hình hồi quy đa thức\n",
        "df$residuals_poly <- df$price - predict(poly_fit)\n",
        "\n",
        "# Vẽ residual plot\n",
        "ggplot(df, aes(x = predict(poly_fit), y = residuals_poly)) +\n",
        "  geom_point(alpha = 0.5) +\n",
        "  geom_hline(yintercept = 0, linetype = \"dashed\", color = \"red\") +\n",
        "  labs(title = \"Residual Plot for Polynomial Fit\",\n",
        "       x = \"Fitted values\",\n",
        "       y = \"Residuals\") +\n",
        "  theme_minimal()\n"
      ]
    },
    {
      "cell_type": "markdown",
      "metadata": {
        "id": "HT9QkeuiyRLo"
      },
      "source": [
        "# Analyzing Price vs Horsepower Relationship\n",
        "\n",
        "1. Model Comparison:\n",
        "   - Based on the R² values of both models (linear and polynomial), which model provides a better fit for predicting car prices? Explain your reasoning.\n",
        "   - Looking at the blue (polynomial) and red (linear) fit lines, what are the key differences between these two models?\n",
        "\n",
        "\n",
        "\n",
        "2. Data Trend Analysis:\n",
        "   - Is the relationship between car price and horsepower linear?\n",
        "   - Why does the polynomial fit line show curvature? What does this tell us about the relationship between price and horsepower?\n",
        "   - Identify regions in the plot where the polynomial model provides a notably better fit than the linear model.\n",
        "\n",
        "3. Data Point Analysis:\n",
        "   - Can you identify any potential outliers in the dataset?\n",
        "   - Is the dispersion of data points uniform across the plot? What implications does this have?\n",
        "   - In which horsepower range do we observe the highest density of data points?\n",
        "\n",
        "\n",
        "\n",
        "```\n",
        "# Complete the question with your answer\n",
        "```\n",
        "\n",
        "\n",
        "#  Analyzing the Residual Plot\n",
        "\n",
        "4. Model Fit Assessment:\n",
        "   - Examine the distribution of residuals around the y = 0 line. How well does the model fit the data?\n",
        "   - Are there any visible patterns in the residual plot? If so, what do they suggest?\n",
        "\n",
        "5. Regression Assumptions Check:\n",
        "   - Are the residuals evenly distributed around the y = 0 line?\n",
        "   - Does the spread of residuals change with fitted values (check for heteroscedasticity)?\n",
        "   - Based on the residual plot, which regression assumptions might be violated?\n",
        "\n",
        "6. Improvement Suggestions:\n",
        "   - Based on your residual plot analysis, what improvements would you suggest for the model?\n",
        "   - Should we consider any data transformations (e.g., log transformation)?\n",
        "   - Besides horsepower, what other variables might improve the model's accuracy?\n",
        "\n",
        "```\n",
        "# Complete the question with your answer\n",
        "```\n",
        "\n",
        "# Synthesis Questions:\n",
        "\n",
        "7. Practical Conclusions:\n",
        "   - Based on your analysis, which model would you recommend for practical car price prediction?\n",
        "   - What limitations should be considered when using this model?\n",
        "   - How could we improve the reliability of car price predictions?\n",
        "\n",
        "8. Advanced Analysis:\n",
        "   - How does the relationship between price and horsepower change across different price ranges?\n",
        "   - What might explain the increased variance in prices at higher horsepower values?\n",
        "   - How would you validate this model's performance on new data?\n",
        "\n",
        "9. Business Implications:\n",
        "   - How could car manufacturers use this analysis in their pricing strategy?\n",
        "   - What insights does this analysis provide about the car market?\n",
        "   - How reliable would this model be for different car segments (luxury vs. economy)?\n",
        "\n",
        "```\n",
        "# Complete the question with your answer\n",
        "```\n"
      ]
    },
    {
      "cell_type": "markdown",
      "metadata": {
        "id": "jWAP7NlySyYL"
      },
      "source": [
        "<h2>5. Prediction and Decision Making</h2>\n",
        "<h3>Prediction</h3>\n",
        "\n",
        "<p>In the previous section, we trained the model using the method <b>fit</b>. Now we will use the method <b>predict</b> to produce a prediction. Lets import <b>pyplot</b> for plotting; we will also be using some functions from numpy.</p>\n"
      ]
    },
    {
      "cell_type": "code",
      "execution_count": 152,
      "metadata": {
        "colab": {
          "base_uri": "https://localhost:8080/",
          "height": 1000
        },
        "id": "u0AG5yU3CrBb",
        "outputId": "4258d8f4-51bb-4fb3-d8e6-ec6332e523ab",
        "vscode": {
          "languageId": "r"
        }
      },
      "outputs": [
        {
          "name": "stdout",
          "output_type": "stream",
          "text": [
            "5 predicted values:\n",
            "         1          2          3          4          5 \n",
            "  7606.893   2006.657  -3593.579  -9193.815 -14794.052 \n"
          ]
        },
        {
          "data": {
            "image/png": "[encoded data removed]",
            "text/plain": [
              "plot without title"
            ]
          },
          "metadata": {
            "image/png": {
              "height": 420,
              "width": 420
            }
          },
          "output_type": "display_data"
        },
        {
          "data": {
            "image/png": "[encoded data removed]",
            "text/plain": [
              "plot without title"
            ]
          },
          "metadata": {
            "image/png": {
              "height": 420,
              "width": 420
            }
          },
          "output_type": "display_data"
        },
        {
          "name": "stdout",
          "output_type": "stream",
          "text": [
            "\n",
            "Statistics about predictions:\n",
            "Lowest predicted price: -546816.5 \n",
            "Highest predicted price: 7606.89 \n",
            "Average predicted price: -269604.8 \n"
          ]
        },
        {
          "data": {
            "image/png": "[encoded data removed]",
            "text/plain": [
              "plot without title"
            ]
          },
          "metadata": {
            "image/png": {
              "height": 420,
              "width": 420
            }
          },
          "output_type": "display_data"
        }
      ],
      "source": [
        "# 1. Create new data for prediction\n",
        "new_input <- data.frame(highway.mpg = seq(1, 100, 1))\n",
        "\n",
        "# 2. Fit the model and make predictions\n",
        "# Fit the model (giả định lm_model đã được định nghĩa)\n",
        "lm_model <- lm(price ~ highway.mpg, data = df)  # Tạo mô hình hồi quy tuyến tính\n",
        "yhat <- predict(lm_model, newdata = new_input)  # Dự đoán giá trị\n",
        "\n",
        "# Print the first 5 predicted values\n",
        "cat(\"5 predicted values:\\n\")\n",
        "print(head(yhat, 5))\n",
        "\n",
        "# Plot the predictions\n",
        "library(ggplot2)\n",
        "\n",
        "# Create dataframe for plotting\n",
        "plot_data <- data.frame(\n",
        "  highway.mpg = new_input$highway.mpg,\n",
        "  predicted_price = yhat\n",
        ")\n",
        "\n",
        "# Plot actual data and prediction line\n",
        "p1 <- ggplot(df, aes(x = highway.mpg, y = price)) +\n",
        "  geom_point(alpha = 0.5, color = \"black\") +  # Actual data points\n",
        "  geom_line(data = plot_data, aes(x = highway.mpg, y = predicted_price), \n",
        "            color = \"blue\", size = 1) +  # Prediction line\n",
        "  labs(title = \"Actual Prices vs Predicted Prices\",\n",
        "       x = \"Highway MPG\",\n",
        "       y = \"Price\") +\n",
        "  theme_minimal()\n",
        "\n",
        "# Plot only the prediction line\n",
        "p2 <- ggplot(plot_data, aes(x = highway.mpg, y = predicted_price)) +\n",
        "  geom_line(color = \"red\", size = 1) +\n",
        "  labs(title = \"Prediction Line for Price Based on Highway MPG\",\n",
        "       x = \"Highway MPG\",\n",
        "       y = \"Predicted Price\") +\n",
        "  theme_minimal()\n",
        "\n",
        "# Print the plots\n",
        "print(p1)\n",
        "print(p2)\n",
        "\n",
        "\n",
        "# 4. Additional analysis on predictions\n",
        "# Calculate the prediction interval\n",
        "prediction_interval <- predict(lm_model,\n",
        "                               newdata = new_input,\n",
        "                               interval = \"prediction\",\n",
        "                               level = 0.95)\n",
        "\n",
        "# Create dataframe with confidence intervals\n",
        "confidence_data <- data.frame(\n",
        "  highway_mpg = new_input$highway.mpg,\n",
        "  fit = prediction_interval[,\"fit\"],\n",
        "  lwr = prediction_interval[,\"lwr\"],\n",
        "  upr = prediction_interval[,\"upr\"]\n",
        ")\n",
        "\n",
        "# Plot with confidence interval\n",
        "p3 <- ggplot(confidence_data, aes(x = highway_mpg)) +\n",
        "  geom_ribbon(aes(ymin = lwr, ymax = upr),\n",
        "              fill = \"grey70\", alpha = 0.3) +\n",
        "  geom_line(aes(y = fit),\n",
        "            color = \"red\", size = 1) +\n",
        "  labs(title = \"Price Prediction with Confidence Interval\",\n",
        "       x = \"Highway MPG\",\n",
        "       y = \"Predicted Price\") +\n",
        "  theme_minimal()\n",
        "\n",
        "print(p3)\n",
        "\n",
        "# 5. Print statistics about predictions\n",
        "cat(\"\\nStatistics about predictions:\\n\")\n",
        "cat(\"Lowest predicted price:\", round(min(yhat), 2), \"\\n\")\n",
        "cat(\"Highest predicted price:\", round(max(yhat), 2), \"\\n\")\n",
        "cat(\"Average predicted price:\", round(mean(yhat), 2), \"\\n\")\n"
      ]
    },
    {
      "cell_type": "markdown",
      "metadata": {
        "id": "nR7d8CTCDHDQ"
      },
      "source": [
        "# Analysis of Prediction Results\n",
        "\n",
        "## 1. Statistical Results\n",
        "- **Lowest Predicted Price**: -43750.03  \n",
        "  A negative value is a significant issue and unrealistic in the context of predicting car prices. This suggests that the model may be unsuitable or that there are problems with the input data.\n",
        "  \n",
        "- **Highest Predicted Price**: 37601.57  \n",
        "  While this value is positive, it still needs to be assessed for reasonableness in the context of the car market.\n",
        "\n",
        "- **Average Predicted Price**: -3074.23  \n",
        "  The average being negative, alongside the lowest price being negative, indicates that the model not only lacks accuracy but could also lead to unrealistic predictions.\n",
        "\n",
        "## 2. Decreasing Trend\n",
        "- The model shows a price trend decreasing uniformly from **47,661.22** to **46,754.10**, with a decrease of **226.78** for each unit increase in `highway_mpg`.  \n",
        "  Although this trend seems reasonable in theory (more fuel-efficient cars generally have lower prices), the price reduction needs to be critically examined in real-world contexts.\n",
        "\n",
        "## 3. Degree of Change\n",
        "- Predictions for consecutive `MPG` levels show a consistent change, indicating that the model may be too simplistic and not reflective of the more complex factors at play in the car market.\n",
        "- The consistency in the amount of change (a uniform decrease of 226.78) may not reflect reality, as there are numerous other factors affecting car prices.\n",
        "\n",
        "## 4. Characteristics of Predictions\n",
        "- **Linearity**: The linear relationship may not be valid in all cases, as reality is often more complex and can exhibit nonlinear factors.\n",
        "- **Price Range**: The price range from ~46.7K to 47.7K may be reasonable, but the negative lowest price raises doubts about the overall accuracy of the model.\n",
        "\n",
        "## 5. Reasonableness Assessment\n",
        "- **Reasonable**: While the relationship between `MPG` and price seems logical, other factors such as brand, style, and economic factors could influence car prices and should be considered.\n",
        "- **Limitations**: The overly simplistic relationship may not accurately reflect reality and could lead to inaccurate results. Additional factors that may affect price should be considered to enhance the model.\n",
        "\n",
        "## 6. Improvement Suggestions\n",
        "- **Consider Additional Factors**: It is necessary to incorporate other variables (such as brand, style, and technical specifications) to create a more comprehensive model.\n",
        "- **Explore Nonlinear Models**: Consider using nonlinear regression methods or more complex models such as decision trees, logistic regression, or multivariate regression.\n",
        "\n",
        "## 7. Conclusion\n",
        "The current prediction results are unreliable due to negative values and a negative average. This indicates that the model needs to be improved and the data re-evaluated to achieve more accurate predictions in the future.\n"
      ]
    },
    {
      "cell_type": "markdown",
      "metadata": {
        "id": "DReImHUGDjN4"
      },
      "source": [
        "Sự thay đổi tuyến tính và đều đặn Tổng mức giảm: $907.12 từ MPG 1 đến MPG 5"
      ]
    },
    {
      "cell_type": "code",
      "execution_count": 153,
      "metadata": {
        "colab": {
          "base_uri": "https://localhost:8080/",
          "height": 715
        },
        "id": "lm8_xe9j0pNf",
        "outputId": "93b2c1c6-d5d6-4256-85a6-99efdd201c45",
        "vscode": {
          "languageId": "r"
        }
      },
      "outputs": [
        {
          "name": "stdout",
          "output_type": "stream",
          "text": [
            "Phân tích 5 giá trị dự đoán đầu tiên:\n",
            "  highway_mpg predicted_price\n",
            "1           1         7606.89\n",
            "2           2         2006.66\n",
            "3           3        -3593.58\n",
            "4           4        -9193.82\n",
            "5           5       -14794.05\n",
            "\n",
            "Phân tích xu hướng:\n",
            "Thay đổi trung bình giữa các dự đoán: -5600.24 \n",
            "Tổng thay đổi từ MPG 1 đến 5: -22400.94 \n",
            "Thay đổi trung bình mỗi đơn vị MPG: -5600.24 \n",
            "\n",
            "Thông số mô hình:\n",
            "Hệ số góc (độ dốc): -5600.24 \n",
            "Điểm cắt trục y: 13207.13 \n"
          ]
        },
        {
          "data": {
            "image/png": "[encoded data removed]",
            "text/plain": [
              "plot without title"
            ]
          },
          "metadata": {
            "image/png": {
              "height": 420,
              "width": 420
            }
          },
          "output_type": "display_data"
        }
      ],
      "source": [
        "# 3. Tạo prediction_df cho 5 giá trị đầu tiên\n",
        "prediction_df <- data.frame(\n",
        "  highway_mpg = new_input$highway.mpg[1:5],\n",
        "  predicted_price = yhat[1:5]\n",
        ")\n",
        "\n",
        "# In kết quả phân tích\n",
        "cat(\"Phân tích 5 giá trị dự đoán đầu tiên:\\n\")\n",
        "print(round(prediction_df, 2))\n",
        "\n",
        "# 4. Phân tích xu hướng\n",
        "# Phân tích xu hướng\n",
        "trend_analysis <- list(\n",
        "  avg_change = mean(diff(prediction_df$predicted_price)),  # Thay đổi trung bình\n",
        "  total_change = tail(prediction_df$predicted_price, 1) - head(prediction_df$predicted_price, 1),  # Tổng thay đổi\n",
        "  change_per_mpg = mean(diff(prediction_df$predicted_price)) / mean(diff(prediction_df$highway_mpg))  # Thay đổi trung bình mỗi đơn vị MPG\n",
        ")\n",
        "\n",
        "cat(\"\\nPhân tích xu hướng:\\n\")\n",
        "cat(\"Thay đổi trung bình giữa các dự đoán:\", round(trend_analysis$avg_change, 2), \"\\n\")\n",
        "cat(\"Tổng thay đổi từ MPG 1 đến 5:\", round(trend_analysis$total_change, 2), \"\\n\")\n",
        "cat(\"Thay đổi trung bình mỗi đơn vị MPG:\", round(trend_analysis$change_per_mpg, 2), \"\\n\")\n",
        "\n",
        "\n",
        "# 5. Vẽ đồ thị xu hướng\n",
        "# Vẽ đồ thị xu hướng\n",
        "library(ggplot2)\n",
        "\n",
        "trend_plot <- ggplot(prediction_df, aes(x = highway_mpg, y = predicted_price)) +\n",
        "  geom_line(color = \"blue\", size = 1) +\n",
        "  geom_point(color = \"black\") +\n",
        "  labs(title = \"Xu Hướng Dự Đoán Giá Dựa Trên Highway MPG\",\n",
        "       x = \"Highway MPG\",\n",
        "       y = \"Giá Dự Đoán\") +\n",
        "  theme_minimal()\n",
        "\n",
        "print(trend_plot)\n",
        "\n",
        "\n",
        "\n",
        "\n",
        "# 6. Tính độ dốc và hệ số góc của đường dự đoán\n",
        "# Tính độ dốc và hệ số góc của đường dự đoán\n",
        "model_stats <- list(\n",
        "  slope = coef(lm(predicted_price ~ highway_mpg, data = prediction_df))[2],\n",
        "  intercept = coef(lm(predicted_price ~ highway_mpg, data = prediction_df))[1]\n",
        ")\n",
        "\n",
        "cat(\"\\nThông số mô hình:\\n\")\n",
        "cat(\"Hệ số góc (độ dốc):\", round(model_stats$slope, 2), \"\\n\")\n",
        "cat(\"Điểm cắt trục y:\", round(model_stats$intercept, 2), \"\\n\")\n"
      ]
    },
    {
      "cell_type": "markdown",
      "metadata": {
        "id": "mSadQWRUSyYM"
      },
      "source": [
        "<h3>Decision Making: Determining a Good Model Fit</h3>\n"
      ]
    },
    {
      "cell_type": "markdown",
      "metadata": {
        "id": "6D2qMtYxSyYN"
      },
      "source": [
        "<p>Now that we have visualized the different models, and generated the R-squared and MSE values for the fits, how do we determine a good model fit?\n",
        "<ul>\n",
        "    <li><i>What is a good R-squared value?</i></li>\n",
        "</ul>\n",
        "</p>\n",
        "\n",
        "<p>When comparing models, <b>the model with the higher R-squared value is a better fit</b> for the data.\n",
        "<ul>\n",
        "    <li><i>What is a good MSE?</i></li>\n",
        "</ul>\n",
        "</p>\n",
        "\n",
        "<p>When comparing models, <b>the model with the smallest MSE value is a better fit</b> for the data.</p>\n",
        "\n",
        "<h4>Let's take a look at the values for the different models.</h4>\n",
        "<p>Simple Linear Regression: Using Highway-mpg as a Predictor Variable of Price.\n",
        "<ul>\n",
        "    <li>R-squared:\n",
        "    <li>MSE:\n",
        "</ul>\n",
        "</p>\n",
        "\n",
        "<p>Multiple Linear Regression: Using Horsepower, Curb-weight, Engine-size, and Highway-mpg as Predictor Variables of Price.\n",
        "<ul>\n",
        "    <li>R-squared:\n",
        "    <li>MSE:\n",
        "</ul>\n",
        "</p>\n",
        "\n",
        "<p>Polynomial Fit: Using Highway-mpg as a Predictor Variable of Price.\n",
        "<ul>\n",
        "    <li>R-squared:\n",
        "    <li>MSE:\n",
        "</ul>\n",
        "</p>\n"
      ]
    },
    {
      "cell_type": "markdown",
      "metadata": {
        "id": "UXLPlSALSyYN"
      },
      "source": [
        "<h3>Simple Linear Regression Model (SLR) vs Multiple Linear Regression Model (MLR)</h3>\n"
      ]
    },
    {
      "cell_type": "markdown",
      "metadata": {
        "id": "uhVZXTcQSyYN"
      },
      "source": [
        "<h3>Simple Linear Model (SLR) vs. Polynomial Fit</h3>\n"
      ]
    },
    {
      "cell_type": "markdown",
      "metadata": {
        "id": "m9B3Jyp_SyYN"
      },
      "source": [
        "<ul>\n",
        "    <li><b>MSE</b>: We can see that Polynomial Fit brought down the MSE, since this MSE is smaller than the one from the SLR.</li>\n",
        "    <li><b>R-squared</b>: The R-squared for the Polynomial Fit is larger than the R-squared for the SLR, so the Polynomial Fit also brought up the R-squared quite a bit.</li>\n",
        "</ul>\n",
        "<p>Since the Polynomial Fit resulted in a lower MSE and a higher R-squared, we can conclude that this was a better fit model than the simple linear regression for predicting \"price\" with \"highway-mpg\" as a predictor variable.</p>\n"
      ]
    },
    {
      "cell_type": "markdown",
      "metadata": {
        "id": "Hi_W9flTSyYN"
      },
      "source": [
        "<h3>Multiple Linear Regression (MLR) vs. Polynomial Fit</h3>\n"
      ]
    },
    {
      "cell_type": "markdown",
      "metadata": {
        "id": "3NNmm6veSyYN"
      },
      "source": [
        "<ul>\n",
        "    <li><b>MSE</b>: The MSE for the MLR is smaller than the MSE for the Polynomial Fit.</li>\n",
        "    <li><b>R-squared</b>: The R-squared for the MLR is also much larger than for the Polynomial Fit.</li>\n",
        "</ul>\n"
      ]
    },
    {
      "cell_type": "markdown",
      "metadata": {
        "id": "5hy8ds6sSyYN"
      },
      "source": [
        "<h2>Conclusion</h2>\n"
      ]
    }
  ],
  "metadata": {
    "colab": {
      "provenance": []
    },
    "kernelspec": {
      "display_name": "R",
      "language": "R",
      "name": "ir"
    },
    "language_info": {
      "codemirror_mode": "r",
      "file_extension": ".r",
      "mimetype": "text/x-r-source",
      "name": "R",
      "pygments_lexer": "r",
      "version": "4.4.1"
    }
  },
  "nbformat": 4,
  "nbformat_minor": 0
}
