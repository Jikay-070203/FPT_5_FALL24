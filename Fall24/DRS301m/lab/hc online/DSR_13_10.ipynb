{
  "nbformat": 4,
  "nbformat_minor": 0,
  "metadata": {
    "colab": {
      "provenance": []
    },
    "kernelspec": {
      "name": "ir",
      "display_name": "R"
    },
    "language_info": {
      "name": "R"
    }
  },
  "cells": [
    {
      "cell_type": "code",
      "execution_count": null,
      "metadata": {
        "colab": {
          "base_uri": "https://localhost:8080/"
        },
        "id": "oOZms48KZIL9",
        "outputId": "20ac3633-647e-4340-98b5-da6682a3ac1a"
      },
      "outputs": [
        {
          "output_type": "stream",
          "name": "stderr",
          "text": [
            "── \u001b[1mAttaching core tidyverse packages\u001b[22m ──────────────────────── tidyverse 2.0.0 ──\n",
            "\u001b[32m✔\u001b[39m \u001b[34mdplyr    \u001b[39m 1.1.4     \u001b[32m✔\u001b[39m \u001b[34mreadr    \u001b[39m 2.1.5\n",
            "\u001b[32m✔\u001b[39m \u001b[34mforcats  \u001b[39m 1.0.0     \u001b[32m✔\u001b[39m \u001b[34mstringr  \u001b[39m 1.5.1\n",
            "\u001b[32m✔\u001b[39m \u001b[34mggplot2  \u001b[39m 3.5.1     \u001b[32m✔\u001b[39m \u001b[34mtibble   \u001b[39m 3.2.1\n",
            "\u001b[32m✔\u001b[39m \u001b[34mlubridate\u001b[39m 1.9.3     \u001b[32m✔\u001b[39m \u001b[34mtidyr    \u001b[39m 1.3.1\n",
            "\u001b[32m✔\u001b[39m \u001b[34mpurrr    \u001b[39m 1.0.2     \n",
            "── \u001b[1mConflicts\u001b[22m ────────────────────────────────────────── tidyverse_conflicts() ──\n",
            "\u001b[31m✖\u001b[39m \u001b[34mdplyr\u001b[39m::\u001b[32mfilter()\u001b[39m masks \u001b[34mstats\u001b[39m::filter()\n",
            "\u001b[31m✖\u001b[39m \u001b[34mdplyr\u001b[39m::\u001b[32mlag()\u001b[39m    masks \u001b[34mstats\u001b[39m::lag()\n",
            "\u001b[36mℹ\u001b[39m Use the conflicted package (\u001b[3m\u001b[34m<http://conflicted.r-lib.org/>\u001b[39m\u001b[23m) to force all conflicts to become errors\n"
          ]
        }
      ],
      "source": [
        "library(tidyverse)"
      ]
    },
    {
      "cell_type": "code",
      "source": [
        "install.packages(\"readr\")"
      ],
      "metadata": {
        "colab": {
          "base_uri": "https://localhost:8080/"
        },
        "id": "ayd2iEU5kJqi",
        "outputId": "21aa9cdc-0634-476f-b629-84e4fba3cdcd"
      },
      "execution_count": null,
      "outputs": [
        {
          "output_type": "stream",
          "name": "stderr",
          "text": [
            "Installing package into ‘/usr/local/lib/R/site-library’\n",
            "(as ‘lib’ is unspecified)\n",
            "\n"
          ]
        }
      ]
    },
    {
      "cell_type": "code",
      "source": [
        "library(readr)\n",
        "library(httr)"
      ],
      "metadata": {
        "id": "i-bdaUuxkRAS"
      },
      "execution_count": null,
      "outputs": []
    },
    {
      "cell_type": "code",
      "source": [
        "# Colab has no internet access for direct file download, so use httr to download the file\n",
        "url <- \"https://dax-cdn.cdn.appdomain.cloud/dax-airline/1.0.1/lax_to_jfk.tar.gz\"\n",
        "#Use httr to download the file\n",
        "GET(url, write_disk(\"lax_to_jfk.tar.gz\", overwrite TRUE))"
      ],
      "metadata": {
        "colab": {
          "base_uri": "https://localhost:8080/",
          "height": 124
        },
        "id": "fcDRbQCBkWHM",
        "outputId": "fc582fea-5c36-48d3-d7d4-89c7ba387ece"
      },
      "execution_count": null,
      "outputs": [
        {
          "output_type": "error",
          "ename": "ERROR",
          "evalue": "Error in parse(text = input): <text>:4:52: unexpected numeric constant\n3: #Use httr to download the file\n4: GET(url, write_disk(\"lax_to_jfk.tar.gz\", overwrite TRUE\n                                                      ^\n",
          "traceback": [
            "Error in parse(text = input): <text>:4:52: unexpected numeric constant\n3: #Use httr to download the file\n4: GET(url, write_disk(\"lax_to_jfk.tar.gz\", overwrite TRUE\n                                                      ^\nTraceback:\n"
          ]
        }
      ]
    },
    {
      "cell_type": "code",
      "source": [
        "#Untar the file in Kaggle (no need for tar - \"internal\") untar(\"lax_to jfk.tar.gz\")\n",
        "#Read the CSV file\n",
        "sub_airline <- read_csv(\"lax_to_jfk/lax_to_jfk.csv\",\n",
        "col_types cols('DivDistance' col_number(),\n",
        "'DivArrDelay col_number()))\n",
        "#Check the first few rows\n",
        "head(sub_airline)"
      ],
      "metadata": {
        "id": "d8QRrUmjk4PV"
      },
      "execution_count": null,
      "outputs": []
    },
    {
      "cell_type": "code",
      "source": [
        "# Boxplot\n",
        "ggplot(data sub_airline, mapping aes (x Reporting_Airline, y ArrDelay)) +\n",
        "geom_boxplot(fill = \"bisque\", color \"black\", alpha 0.3) +\n",
        "geom_jitter(aes (color = 'blue'), alpha=0.2) +\n",
        "labs(x = \"Airline\") +\n",
        "ggtitle(\"Arrival Delays by Airline\") +\n",
        "guides (color = \"none\") +\n",
        "theme_minimal() +\n",
        "coord_cartesian(ylim quantile (sub_airline$ArrDelay, c(0, 0.99)))"
      ],
      "metadata": {
        "id": "0oFQHBIDlV16"
      },
      "execution_count": null,
      "outputs": []
    },
    {
      "cell_type": "code",
      "source": [
        "# Load Alaska data, deleting rows that have missing departure delay or arrival delay data\n",
        "alaska_flights <- sub_airline %>%\n",
        "filter (Reporting_Airline == \"AS\") %>%\n",
        "filter(lis.na (DepDelay) & lis.na (ArrDelay)) %>%\n",
        "filter (DepDelay < 40)\n",
        "ggplot(data alaska_flights, mapping aes (x = DepDelay, y = ArrDelay)) +\n",
        "geom_point() +\n",
        "ggtitle(\"Alaska Flight Depature Delays vs Arrival Delays\")"
      ],
      "metadata": {
        "id": "EI0tIm_QmJnj"
      },
      "execution_count": null,
      "outputs": []
    },
    {
      "cell_type": "markdown",
      "source": [
        "Liệt kê các kiểu dữ liệu của từng cột trong dataframe sub_airline"
      ],
      "metadata": {
        "id": "3hAJfn0JlyAO"
      }
    },
    {
      "cell_type": "code",
      "source": [
        "# list the data types for each column\n",
        "str(sub_airline)"
      ],
      "metadata": {
        "id": "_WNe8RX1lgjy"
      },
      "execution_count": null,
      "outputs": []
    },
    {
      "cell_type": "markdown",
      "source": [
        "Question #1:\n",
        "Kiểu dữ liệu của cột \"ArrDelayMinutes\" là gì??"
      ],
      "metadata": {
        "id": "NCg3TwRLmXkj"
      }
    },
    {
      "cell_type": "code",
      "source": [
        "# Write your code below and press Shift+Enter to execute\n",
        "class(sub_airline$ArrDelayMinutes)"
      ],
      "metadata": {
        "id": "_U50SfBYmY7c"
      },
      "execution_count": null,
      "outputs": []
    },
    {
      "cell_type": "markdown",
      "source": [
        "Question #2:\n",
        "Tìm hệ số tương quan giữa hai cột DepDelayMinutes và ArrDelayMinutes."
      ],
      "metadata": {
        "id": "1qPYthofmp26"
      }
    },
    {
      "cell_type": "code",
      "source": [
        "# Tính hệ số tương quan giữa DepDelayMinutes và ArrDelayMinutes\n",
        "cor(sub_airline$DepDelayMinutes, sub_airline$ArrDelayMinutes)"
      ],
      "metadata": {
        "id": "ziC1KJAHmwfA"
      },
      "execution_count": null,
      "outputs": []
    },
    {
      "cell_type": "markdown",
      "source": [
        "Xem xét tương quan giữa hai biến bằng hàm cor()"
      ],
      "metadata": {
        "id": "B1u_Qf9ZpOAR"
      }
    },
    {
      "cell_type": "markdown",
      "source": [
        "biến bằng hàm cor()\n",
        "Sử dụng tham số use = \"complete.obs\" trong hàm cor() để sử dụng các quan sát hoàn chỉnh, tức là loại bỏ các giá trị NA.."
      ],
      "metadata": {
        "id": "l7pAxXrtpRch"
      }
    },
    {
      "cell_type": "markdown",
      "source": [
        "**Kiểm tra Liên kết tuyến tính yếu (WeakLinear Relationship)**\n",
        "Kiểm tra mối quan hệ giữa 2 biến \"WeatherDelay\" và biến \"ArrDelayMinutes\""
      ],
      "metadata": {
        "id": "BZg9v1dxm1IF"
      }
    },
    {
      "cell_type": "code",
      "source": [
        "cor(sub_airlinesWeatherDelay, sub_airline$ArrDelayMinutes, use \"complete.obs\")"
      ],
      "metadata": {
        "id": "2hRBLnuIpVaW"
      },
      "execution_count": null,
      "outputs": []
    },
    {
      "cell_type": "markdown",
      "source": [
        "Question 3 a):\n",
        "Hãy tìm hệ số tương quan giữa hai biến x=\"Carrier Delay\", y=\"ArrDelayMinutes\"."
      ],
      "metadata": {
        "id": "38EeeG3ypmp1"
      }
    },
    {
      "cell_type": "code",
      "source": [
        "#Write your code below and press Shift+Enter to execute\n",
        "correlation <- cor(sub airline CarrierDelay, sub airline$ArrDelayMinutes, use \"complete.obs\")\n",
        "print(correlation)"
      ],
      "metadata": {
        "id": "Q0w4VkjVplZW"
      },
      "execution_count": null,
      "outputs": []
    },
    {
      "cell_type": "code",
      "source": [
        "Question 3 b):\n",
        "Hãy xác định xem có mối quan hệ tuyến tính"
      ],
      "metadata": {
        "id": "XKAGHEmcp0X9"
      },
      "execution_count": null,
      "outputs": []
    },
    {
      "cell_type": "code",
      "source": [
        "#Write your code below and press Shift+Enter to execute\n",
        "# Vẽ biểu đồ phân tán với đường hồi quy tuyến tính\n",
        "ggplot(data sub_airline, mapping aes (x CarrierDelay, y ArrDelayMinutes))\n",
        "       geom_point() +\n",
        "       geom_smooth(method = \"lm\", na.rm = TRUE) +\n",
        "       labs(title = “Mối quan hệ giữa CarrierDelay và ArrDelayMinutes\",\n",
        "            x = \"CarrierDelay\",\n",
        "            y = \"ArrDelayMinutes\")"
      ],
      "metadata": {
        "id": "MLhkddxqp33l"
      },
      "execution_count": null,
      "outputs": []
    },
    {
      "cell_type": "code",
      "source": [
        "# Biểu đồ phân tán của WeatherDelay so với ArrDelayMinutes\n",
        "ggplot(data = sub_airline, mapping aes (x = WeatherDelay, y ArrDelayMinutes)) +\n",
        "       geom_point() +\n",
        "       geom_smooth(method = \"lm\", na.rm = TRUE) +\n",
        "       labs(x = \"Độ trễ do thời tiết (phút)\", y = \"Độ đến trễ (phút)\",\n",
        "            title = \"Biểu đồ phân tán của Độ trễ do Thời tiết so với Độ đến trễ\") +\n",
        "       theme_minimal()"
      ],
      "metadata": {
        "id": "l28oa18znFku"
      },
      "execution_count": null,
      "outputs": []
    },
    {
      "cell_type": "code",
      "source": [
        "# library(ggplot2)\n",
        "ggplot(data sub_airline, mapping aes (x DepDelayMinutes, y = ArrDelayMinutes)) +\n",
        "geom_point(alpha=0.5)+# Vẽ các điểm dữ liệu\n",
        "geom_smooth(method = \"lm\", se = FALSE, color = \"blue\") + # Vẽ đường hồi quy tuyến tính\n",
        "labs (x = \"Thoi gian khoi hanh (phút)\",\n",
        "y = \"Thoi gian han canh (phút)\",\n",
        "title \"Tuong quan khoi hanh va thoi gian ha canh tre\") +\n",
        "theme_minimal()"
      ],
      "metadata": {
        "id": "HoglOy8jm0On"
      },
      "execution_count": null,
      "outputs": []
    },
    {
      "cell_type": "code",
      "source": [
        "#Ve bieu do phan tan giua DepDelayMinutes va ArrDelayMinutes #library(ggplot2)\n",
        "#Tinh he so tuong quan\n",
        "correlation <- with(sub_airline, cor (DepDelayMinutes, ArrDelayMinutes, use \"complete.obs\"))\n",
        "ggplot(data sub_airline, aes (x DepDelayMinutes, y ArrDelayMinutes)) +\n",
        " geom_point(color \"blue\", alpha 0.5) + #Ve diem voi mau xanh\n",
        " geom_smooth(method = \"lm\", color \"red\", se = FALSE) + # Them duong hoi quy tuyen tinh\n",
        " labs(title = \"Moi quan he giua Thoi gian Khoi hanh Tre va Thoi gian Den Tre\",\n",
        "x = \"Thoi gian Khoi hanh (Phut)\",\n",
        "y = \"Thoi gian Den (Phut)\") +\n",
        "theme_minimal() +\n",
        "# Them chu thich he so tuong quan\n",
        "annotate(\"text\", x Inf, y-Inf,\n",
        "          label sprintf(\"He so tuong quan: %.2f\", correlation),\n",
        "          hjust 1, vjust = -1)"
      ],
      "metadata": {
        "id": "FiC7NNvCnTQt"
      },
      "execution_count": null,
      "outputs": []
    },
    {
      "cell_type": "markdown",
      "source": [
        "Sử dụng phương pháp \"summarize\" và \"group_by\" xem tóm tắt dữ liệu như sau:"
      ],
      "metadata": {
        "id": "D1O0_FSJqY4p"
      }
    },
    {
      "cell_type": "code",
      "source": [
        "summary_airline_delays <- sub_airline %>%\n",
        "  group_by(Reporting_Airline) %>%\n",
        "  summarize (count = n(),\n",
        "             mean mean (ArrDelayMinutes, na.rm = TRUE),\n",
        "             std_dev sd (ArrDelayMinutes, na.rm = TRUE), min = min(ArrDelayMinutes, na.rm = TRUE), median = median (ArrDelayMinutes, na.rm=TRUE), iqr IQR(ArrDelayMinutes, na.rm TRUE),\n",
        "             max = max(ArrDelayMinutes, na.rm = TRUE))\n",
        "summary_airline_delays"
      ],
      "metadata": {
        "id": "dJNZrT7Kob-9"
      },
      "execution_count": null,
      "outputs": []
    },
    {
      "cell_type": "markdown",
      "source": [
        "Để xác định kiểu dữ liệu của từng cột trong data frame, chúng ta có thể sử dụng sapply() with typeof, để tìm kiểu cho biến. Ví dụ, áp dụng typeof cho mọi cột trong sub_airline."
      ],
      "metadata": {
        "id": "Fu6DHnjUqzNw"
      }
    },
    {
      "cell_type": "code",
      "source": [
        "Đếm giá trị trong biến (Counts)\n",
        "Để tóm tắt dữ liệu của biến ở định đạng danh mục là sử dụng hàm count(). Ví dụ, tính số lượng các chuyến bay của từng hãng hàng không trong tập dữ liệu"
      ],
      "metadata": {
        "id": "87Fpem2Tq0D_"
      },
      "execution_count": null,
      "outputs": []
    },
    {
      "cell_type": "markdown",
      "source": [],
      "metadata": {
        "id": "-0-134rPrECm"
      }
    },
    {
      "cell_type": "code",
      "source": [
        "sub_airline %>%\n",
        "   count(Reporting_Airline)"
      ],
      "metadata": {
        "id": "bB3Jg5xYrEep"
      },
      "execution_count": null,
      "outputs": []
    },
    {
      "cell_type": "markdown",
      "source": [
        "Để trả lời các câu hỏi như.\n",
        "Có mối quan hệ nào giữa hãng hàng không báo cáo và tình trạng chậm chuyến bay không? Nếu có, ngày nào trong tuần các chuyến bay có thời gian chậm trễ tương đối dài hơn?\n",
        "Điều này có thể được thực hiện bằng phương pháp \"group_by\". Phương pháp group by được sử dụng trên các biến phân loại, nó nhóm dữ liệu thành các tập hợp con theo các loại khác nhau của biến đó. B\n",
        "Giả sử chúng ta muốn tìm số phút trễ trung bình của các chuyến bay và quan sát sự khác biệt giữa các biến \"Reporting_Airline\" và \"DayOfWeeks\" khác nhau."
      ],
      "metadata": {
        "id": "2CpWUsqkraxD"
      }
    },
    {
      "cell_type": "code",
      "source": [
        "avg delays <- sub_airline %>%\n",
        "   group_by(Reporting Airline, DayOfWeek) %>%\n",
        "   summarize(mean_delays mean (ArrDelayMinutes), groups \"keep')\n",
        "\n",
        "head(avg_delays)"
      ],
      "metadata": {
        "id": "aAB9523mrhhC"
      },
      "execution_count": null,
      "outputs": []
    }
  ]
}